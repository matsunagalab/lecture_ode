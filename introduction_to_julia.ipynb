{
 "cells": [
  {
   "cell_type": "markdown",
   "metadata": {},
   "source": [
    "# Introduction to Julia"
   ]
  },
  {
   "cell_type": "markdown",
   "metadata": {},
   "source": [
    "# どんな言語？\n",
    "\n",
    "主に科学技術計算向けのスクリプトライクな言語。手軽に数値計算できて速い。去年version 1.0がリリースされて後方互換性が保証されて研究本番にも使えるようになった感じ。\n",
    "JuliaのWeb https://julialang.org\n",
    "\n",
    "Juliaを作った背景 https://julialang.org/blog/2012/02/why-we-created-julia\n",
    "We are greedy: we want more.\n",
    "We want a language that’s open source, with a liberal license. We want the speed of C with the dynamism of Ruby. We want a language that’s homoiconic, with true macros like Lisp, but with obvious, familiar mathematical notation like Matlab. We want something as usable for general programming as Python, as easy for statistics as R, as natural for string processing as Perl, as powerful for linear algebra as Matlab, as good at gluing programs together as the shell. Something that is dirt simple to learn, yet keeps the most serious hackers happy. We want it interactive and we want it compiled.\n",
    "\n",
    "Juliaのベンチマーク\n",
    "https://julialang.org/benchmarks/"
   ]
  },
  {
   "cell_type": "markdown",
   "metadata": {},
   "source": [
    "# なぜJulia?\n",
    "\n",
    "Pythonの常微分方程式のソルバーパッケージとしてScipy(odeint)があるが、\n",
    "計算速度が速くないのと、delay differential equationに対応していない等の問題がある。\n",
    "Juliaは速度が早いのと、ソルバーパッケージが(DifferentialEquations.jl)が\n",
    "delay differential equationや確率微分方程式、並列化に対応している。\n",
    "また、少し調べたところパラメータfeedbackも実装できそうな感じがした。\n"
   ]
  },
  {
   "cell_type": "markdown",
   "metadata": {},
   "source": [
    "# 以下、常微分方程式を数値的に扱うことに絞ってJuliaの機能を紹介"
   ]
  },
  {
   "cell_type": "markdown",
   "metadata": {},
   "source": [
    "# 型 (type)"
   ]
  },
  {
   "cell_type": "code",
   "execution_count": 4,
   "metadata": {},
   "outputs": [
    {
     "data": {
      "text/plain": [
       "Int64"
      ]
     },
     "execution_count": 4,
     "metadata": {},
     "output_type": "execute_result"
    }
   ],
   "source": [
    "typeof(1)"
   ]
  },
  {
   "cell_type": "code",
   "execution_count": 5,
   "metadata": {},
   "outputs": [
    {
     "data": {
      "text/plain": [
       "Float64"
      ]
     },
     "execution_count": 5,
     "metadata": {},
     "output_type": "execute_result"
    }
   ],
   "source": [
    "typeof(1.0)"
   ]
  },
  {
   "cell_type": "code",
   "execution_count": 10,
   "metadata": {},
   "outputs": [
    {
     "data": {
      "text/plain": [
       "String"
      ]
     },
     "execution_count": 10,
     "metadata": {},
     "output_type": "execute_result"
    }
   ],
   "source": [
    "typeof(\"hello world\")"
   ]
  },
  {
   "cell_type": "code",
   "execution_count": 12,
   "metadata": {},
   "outputs": [
    {
     "data": {
      "text/plain": [
       "Array{Int64,1}"
      ]
     },
     "execution_count": 12,
     "metadata": {},
     "output_type": "execute_result"
    }
   ],
   "source": [
    "typeof([1, 2, 3])"
   ]
  },
  {
   "cell_type": "code",
   "execution_count": 44,
   "metadata": {},
   "outputs": [
    {
     "data": {
      "text/plain": [
       "Float64"
      ]
     },
     "execution_count": 44,
     "metadata": {},
     "output_type": "execute_result"
    }
   ],
   "source": [
    "typeof(1 + 1.0) #type promotion, conversino"
   ]
  },
  {
   "cell_type": "code",
   "execution_count": 47,
   "metadata": {},
   "outputs": [
    {
     "data": {
      "text/plain": [
       "Float64"
      ]
     },
     "execution_count": 47,
     "metadata": {},
     "output_type": "execute_result"
    }
   ],
   "source": [
    "typeof(1/2)"
   ]
  },
  {
   "cell_type": "code",
   "execution_count": 48,
   "metadata": {},
   "outputs": [
    {
     "ename": "MethodError",
     "evalue": "MethodError: no method matching +(::String, ::Float64)\nClosest candidates are:\n  +(::Any, ::Any, !Matched::Any, !Matched::Any...) at operators.jl:502\n  +(!Matched::Bool, ::T<:AbstractFloat) where T<:AbstractFloat at bool.jl:112\n  +(!Matched::Float64, ::Float64) at float.jl:395\n  ...",
     "output_type": "error",
     "traceback": [
      "MethodError: no method matching +(::String, ::Float64)\nClosest candidates are:\n  +(::Any, ::Any, !Matched::Any, !Matched::Any...) at operators.jl:502\n  +(!Matched::Bool, ::T<:AbstractFloat) where T<:AbstractFloat at bool.jl:112\n  +(!Matched::Float64, ::Float64) at float.jl:395\n  ...",
      "",
      "Stacktrace:",
      " [1] top-level scope at In[48]:1"
     ]
    }
   ],
   "source": [
    "\"1.0\" + 1.0"
   ]
  },
  {
   "cell_type": "markdown",
   "metadata": {},
   "source": [
    "# 変数 (variable)"
   ]
  },
  {
   "cell_type": "code",
   "execution_count": 13,
   "metadata": {},
   "outputs": [
    {
     "data": {
      "text/plain": [
       "2.0"
      ]
     },
     "execution_count": 13,
     "metadata": {},
     "output_type": "execute_result"
    }
   ],
   "source": [
    "a = 1.0\n",
    "b = 2.0"
   ]
  },
  {
   "cell_type": "code",
   "execution_count": 14,
   "metadata": {},
   "outputs": [
    {
     "data": {
      "text/plain": [
       "Float64"
      ]
     },
     "execution_count": 14,
     "metadata": {},
     "output_type": "execute_result"
    }
   ],
   "source": [
    "typeof(a)"
   ]
  },
  {
   "cell_type": "code",
   "execution_count": 15,
   "metadata": {},
   "outputs": [
    {
     "data": {
      "text/plain": [
       "Float64"
      ]
     },
     "execution_count": 15,
     "metadata": {},
     "output_type": "execute_result"
    }
   ],
   "source": [
    "typeof(b)"
   ]
  },
  {
   "cell_type": "code",
   "execution_count": 16,
   "metadata": {},
   "outputs": [
    {
     "data": {
      "text/plain": [
       "3.0"
      ]
     },
     "execution_count": 16,
     "metadata": {},
     "output_type": "execute_result"
    }
   ],
   "source": [
    "c = a + b"
   ]
  },
  {
   "cell_type": "markdown",
   "metadata": {},
   "source": [
    "# ベクトル (vector)"
   ]
  },
  {
   "cell_type": "code",
   "execution_count": 95,
   "metadata": {},
   "outputs": [
    {
     "data": {
      "text/plain": [
       "4-element Array{Int64,1}:\n",
       " 1\n",
       " 2\n",
       " 3\n",
       " 4"
      ]
     },
     "execution_count": 95,
     "metadata": {},
     "output_type": "execute_result"
    }
   ],
   "source": [
    "a = [1, 2, 3, 4]"
   ]
  },
  {
   "cell_type": "code",
   "execution_count": 96,
   "metadata": {},
   "outputs": [
    {
     "data": {
      "text/plain": [
       "(4,)"
      ]
     },
     "execution_count": 96,
     "metadata": {},
     "output_type": "execute_result"
    }
   ],
   "source": [
    "size(a)"
   ]
  },
  {
   "cell_type": "code",
   "execution_count": 97,
   "metadata": {},
   "outputs": [
    {
     "data": {
      "text/plain": [
       "1"
      ]
     },
     "execution_count": 97,
     "metadata": {},
     "output_type": "execute_result"
    }
   ],
   "source": [
    "a[1]"
   ]
  },
  {
   "cell_type": "code",
   "execution_count": 98,
   "metadata": {},
   "outputs": [
    {
     "data": {
      "text/plain": [
       "2"
      ]
     },
     "execution_count": 98,
     "metadata": {},
     "output_type": "execute_result"
    }
   ],
   "source": [
    "a[2]"
   ]
  },
  {
   "cell_type": "code",
   "execution_count": 99,
   "metadata": {},
   "outputs": [
    {
     "data": {
      "text/plain": [
       "1×4 Array{Int64,2}:\n",
       " 1  2  3  4"
      ]
     },
     "execution_count": 99,
     "metadata": {},
     "output_type": "execute_result"
    }
   ],
   "source": [
    "b = [1 2 3 4]"
   ]
  },
  {
   "cell_type": "code",
   "execution_count": 100,
   "metadata": {},
   "outputs": [
    {
     "data": {
      "text/plain": [
       "4-element Array{Int64,1}:\n",
       " 5\n",
       " 6\n",
       " 7\n",
       " 8"
      ]
     },
     "execution_count": 100,
     "metadata": {},
     "output_type": "execute_result"
    }
   ],
   "source": [
    "c = [5, 6, 7, 8]"
   ]
  },
  {
   "cell_type": "code",
   "execution_count": 101,
   "metadata": {},
   "outputs": [
    {
     "ename": "DimensionMismatch",
     "evalue": "DimensionMismatch(\"dimensions must match\")",
     "output_type": "error",
     "traceback": [
      "DimensionMismatch(\"dimensions must match\")",
      "",
      "Stacktrace:",
      " [1] promote_shape at ./indices.jl:154 [inlined]",
      " [2] promote_shape at ./indices.jl:150 [inlined]",
      " [3] promote_shape at ./indices.jl:145 [inlined]",
      " [4] +(::Array{Int64,1}, ::Array{Int64,2}) at ./arraymath.jl:45",
      " [5] top-level scope at In[101]:1"
     ]
    }
   ],
   "source": [
    "a + b"
   ]
  },
  {
   "cell_type": "code",
   "execution_count": 102,
   "metadata": {},
   "outputs": [
    {
     "data": {
      "text/plain": [
       "4-element Array{Int64,1}:\n",
       "  6\n",
       "  8\n",
       " 10\n",
       " 12"
      ]
     },
     "execution_count": 102,
     "metadata": {},
     "output_type": "execute_result"
    }
   ],
   "source": [
    "a + c"
   ]
  },
  {
   "cell_type": "code",
   "execution_count": 103,
   "metadata": {},
   "outputs": [
    {
     "ename": "MethodError",
     "evalue": "MethodError: no method matching *(::Array{Int64,1}, ::Array{Int64,1})\nClosest candidates are:\n  *(::Any, ::Any, !Matched::Any, !Matched::Any...) at operators.jl:502\n  *(!Matched::LinearAlgebra.Adjoint{#s623,#s622} where #s622<:Union{DenseArray{T<:Union{Complex{Float32}, Complex{Float64}, Float32, Float64},2}, ReinterpretArray{T<:Union{Complex{Float32}, Complex{Float64}, Float32, Float64},2,S,A} where S where A<:Union{SubArray{T,N,A,I,true} where I<:Union{Tuple{Vararg{Real,N} where N}, Tuple{AbstractUnitRange,Vararg{Any,N} where N}} where A<:DenseArray where N where T, DenseArray}, ReshapedArray{T<:Union{Complex{Float32}, Complex{Float64}, Float32, Float64},2,A,MI} where MI<:Tuple{Vararg{SignedMultiplicativeInverse{Int64},N} where N} where A<:Union{ReinterpretArray{T,N,S,A} where S where A<:Union{SubArray{T,N,A,I,true} where I<:Union{Tuple{Vararg{Real,N} where N}, Tuple{AbstractUnitRange,Vararg{Any,N} where N}} where A<:DenseArray where N where T, DenseArray} where N where T, SubArray{T,N,A,I,true} where I<:Union{Tuple{Vararg{Real,N} where N}, Tuple{AbstractUnitRange,Vararg{Any,N} where N}} where A<:DenseArray where N where T, DenseArray}, SubArray{T<:Union{Complex{Float32}, Complex{Float64}, Float32, Float64},2,A,I,L} where L where I<:Tuple{Vararg{Union{Int64, AbstractRange{Int64}, AbstractCartesianIndex},N} where N} where A<:Union{ReinterpretArray{T,N,S,A} where S where A<:Union{SubArray{T,N,A,I,true} where I<:Union{Tuple{Vararg{Real,N} where N}, Tuple{AbstractUnitRange,Vararg{Any,N} where N}} where A<:DenseArray where N where T, DenseArray} where N where T, ReshapedArray{T,N,A,MI} where MI<:Tuple{Vararg{SignedMultiplicativeInverse{Int64},N} where N} where A<:Union{ReinterpretArray{T,N,S,A} where S where A<:Union{SubArray{T,N,A,I,true} where I<:Union{Tuple{Vararg{Real,N} where N}, Tuple{AbstractUnitRange,Vararg{Any,N} where N}} where A<:DenseArray where N where T, DenseArray} where N where T, SubArray{T,N,A,I,true} where I<:Union{Tuple{Vararg{Real,N} where N}, Tuple{AbstractUnitRange,Vararg{Any,N} where N}} where A<:DenseArray where N where T, DenseArray} where N where T, DenseArray}} where #s623, ::Union{DenseArray{S,1}, ReinterpretArray{S,1,S,A} where S where A<:Union{SubArray{T,N,A,I,true} where I<:Union{Tuple{Vararg{Real,N} where N}, Tuple{AbstractUnitRange,Vararg{Any,N} where N}} where A<:DenseArray where N where T, DenseArray}, ReshapedArray{S,1,A,MI} where MI<:Tuple{Vararg{SignedMultiplicativeInverse{Int64},N} where N} where A<:Union{ReinterpretArray{T,N,S,A} where S where A<:Union{SubArray{T,N,A,I,true} where I<:Union{Tuple{Vararg{Real,N} where N}, Tuple{AbstractUnitRange,Vararg{Any,N} where N}} where A<:DenseArray where N where T, DenseArray} where N where T, SubArray{T,N,A,I,true} where I<:Union{Tuple{Vararg{Real,N} where N}, Tuple{AbstractUnitRange,Vararg{Any,N} where N}} where A<:DenseArray where N where T, DenseArray}, SubArray{S,1,A,I,L} where L where I<:Tuple{Vararg{Union{Int64, AbstractRange{Int64}, AbstractCartesianIndex},N} where N} where A<:Union{ReinterpretArray{T,N,S,A} where S where A<:Union{SubArray{T,N,A,I,true} where I<:Union{Tuple{Vararg{Real,N} where N}, Tuple{AbstractUnitRange,Vararg{Any,N} where N}} where A<:DenseArray where N where T, DenseArray} where N where T, ReshapedArray{T,N,A,MI} where MI<:Tuple{Vararg{SignedMultiplicativeInverse{Int64},N} where N} where A<:Union{ReinterpretArray{T,N,S,A} where S where A<:Union{SubArray{T,N,A,I,true} where I<:Union{Tuple{Vararg{Real,N} where N}, Tuple{AbstractUnitRange,Vararg{Any,N} where N}} where A<:DenseArray where N where T, DenseArray} where N where T, SubArray{T,N,A,I,true} where I<:Union{Tuple{Vararg{Real,N} where N}, Tuple{AbstractUnitRange,Vararg{Any,N} where N}} where A<:DenseArray where N where T, DenseArray} where N where T, DenseArray}}) where {T<:Union{Complex{Float32}, Complex{Float64}, Float32, Float64}, S} at /Users/osx/buildbot/slave/package_osx64/build/usr/share/julia/stdlib/v1.1/LinearAlgebra/src/matmul.jl:98\n  *(!Matched::LinearAlgebra.Adjoint{#s623,#s622} where #s622<:LinearAlgebra.AbstractTriangular where #s623, ::AbstractArray{T,1} where T) at /Users/osx/buildbot/slave/package_osx64/build/usr/share/julia/stdlib/v1.1/LinearAlgebra/src/triangular.jl:1805\n  ...",
     "output_type": "error",
     "traceback": [
      "MethodError: no method matching *(::Array{Int64,1}, ::Array{Int64,1})\nClosest candidates are:\n  *(::Any, ::Any, !Matched::Any, !Matched::Any...) at operators.jl:502\n  *(!Matched::LinearAlgebra.Adjoint{#s623,#s622} where #s622<:Union{DenseArray{T<:Union{Complex{Float32}, Complex{Float64}, Float32, Float64},2}, ReinterpretArray{T<:Union{Complex{Float32}, Complex{Float64}, Float32, Float64},2,S,A} where S where A<:Union{SubArray{T,N,A,I,true} where I<:Union{Tuple{Vararg{Real,N} where N}, Tuple{AbstractUnitRange,Vararg{Any,N} where N}} where A<:DenseArray where N where T, DenseArray}, ReshapedArray{T<:Union{Complex{Float32}, Complex{Float64}, Float32, Float64},2,A,MI} where MI<:Tuple{Vararg{SignedMultiplicativeInverse{Int64},N} where N} where A<:Union{ReinterpretArray{T,N,S,A} where S where A<:Union{SubArray{T,N,A,I,true} where I<:Union{Tuple{Vararg{Real,N} where N}, Tuple{AbstractUnitRange,Vararg{Any,N} where N}} where A<:DenseArray where N where T, DenseArray} where N where T, SubArray{T,N,A,I,true} where I<:Union{Tuple{Vararg{Real,N} where N}, Tuple{AbstractUnitRange,Vararg{Any,N} where N}} where A<:DenseArray where N where T, DenseArray}, SubArray{T<:Union{Complex{Float32}, Complex{Float64}, Float32, Float64},2,A,I,L} where L where I<:Tuple{Vararg{Union{Int64, AbstractRange{Int64}, AbstractCartesianIndex},N} where N} where A<:Union{ReinterpretArray{T,N,S,A} where S where A<:Union{SubArray{T,N,A,I,true} where I<:Union{Tuple{Vararg{Real,N} where N}, Tuple{AbstractUnitRange,Vararg{Any,N} where N}} where A<:DenseArray where N where T, DenseArray} where N where T, ReshapedArray{T,N,A,MI} where MI<:Tuple{Vararg{SignedMultiplicativeInverse{Int64},N} where N} where A<:Union{ReinterpretArray{T,N,S,A} where S where A<:Union{SubArray{T,N,A,I,true} where I<:Union{Tuple{Vararg{Real,N} where N}, Tuple{AbstractUnitRange,Vararg{Any,N} where N}} where A<:DenseArray where N where T, DenseArray} where N where T, SubArray{T,N,A,I,true} where I<:Union{Tuple{Vararg{Real,N} where N}, Tuple{AbstractUnitRange,Vararg{Any,N} where N}} where A<:DenseArray where N where T, DenseArray} where N where T, DenseArray}} where #s623, ::Union{DenseArray{S,1}, ReinterpretArray{S,1,S,A} where S where A<:Union{SubArray{T,N,A,I,true} where I<:Union{Tuple{Vararg{Real,N} where N}, Tuple{AbstractUnitRange,Vararg{Any,N} where N}} where A<:DenseArray where N where T, DenseArray}, ReshapedArray{S,1,A,MI} where MI<:Tuple{Vararg{SignedMultiplicativeInverse{Int64},N} where N} where A<:Union{ReinterpretArray{T,N,S,A} where S where A<:Union{SubArray{T,N,A,I,true} where I<:Union{Tuple{Vararg{Real,N} where N}, Tuple{AbstractUnitRange,Vararg{Any,N} where N}} where A<:DenseArray where N where T, DenseArray} where N where T, SubArray{T,N,A,I,true} where I<:Union{Tuple{Vararg{Real,N} where N}, Tuple{AbstractUnitRange,Vararg{Any,N} where N}} where A<:DenseArray where N where T, DenseArray}, SubArray{S,1,A,I,L} where L where I<:Tuple{Vararg{Union{Int64, AbstractRange{Int64}, AbstractCartesianIndex},N} where N} where A<:Union{ReinterpretArray{T,N,S,A} where S where A<:Union{SubArray{T,N,A,I,true} where I<:Union{Tuple{Vararg{Real,N} where N}, Tuple{AbstractUnitRange,Vararg{Any,N} where N}} where A<:DenseArray where N where T, DenseArray} where N where T, ReshapedArray{T,N,A,MI} where MI<:Tuple{Vararg{SignedMultiplicativeInverse{Int64},N} where N} where A<:Union{ReinterpretArray{T,N,S,A} where S where A<:Union{SubArray{T,N,A,I,true} where I<:Union{Tuple{Vararg{Real,N} where N}, Tuple{AbstractUnitRange,Vararg{Any,N} where N}} where A<:DenseArray where N where T, DenseArray} where N where T, SubArray{T,N,A,I,true} where I<:Union{Tuple{Vararg{Real,N} where N}, Tuple{AbstractUnitRange,Vararg{Any,N} where N}} where A<:DenseArray where N where T, DenseArray} where N where T, DenseArray}}) where {T<:Union{Complex{Float32}, Complex{Float64}, Float32, Float64}, S} at /Users/osx/buildbot/slave/package_osx64/build/usr/share/julia/stdlib/v1.1/LinearAlgebra/src/matmul.jl:98\n  *(!Matched::LinearAlgebra.Adjoint{#s623,#s622} where #s622<:LinearAlgebra.AbstractTriangular where #s623, ::AbstractArray{T,1} where T) at /Users/osx/buildbot/slave/package_osx64/build/usr/share/julia/stdlib/v1.1/LinearAlgebra/src/triangular.jl:1805\n  ...",
      "",
      "Stacktrace:",
      " [1] top-level scope at In[103]:1"
     ]
    }
   ],
   "source": [
    "a * c"
   ]
  },
  {
   "cell_type": "code",
   "execution_count": 104,
   "metadata": {},
   "outputs": [
    {
     "data": {
      "text/plain": [
       "4-element Array{Int64,1}:\n",
       "  5\n",
       " 12\n",
       " 21\n",
       " 32"
      ]
     },
     "execution_count": 104,
     "metadata": {},
     "output_type": "execute_result"
    }
   ],
   "source": [
    "a .* c"
   ]
  },
  {
   "cell_type": "markdown",
   "metadata": {},
   "source": [
    "# 行列 (matrix)"
   ]
  },
  {
   "cell_type": "code",
   "execution_count": 106,
   "metadata": {},
   "outputs": [
    {
     "data": {
      "text/plain": [
       "2×2 Array{Int64,2}:\n",
       " 1  2\n",
       " 3  4"
      ]
     },
     "execution_count": 106,
     "metadata": {},
     "output_type": "execute_result"
    }
   ],
   "source": [
    "A = [1 2; 3 4]"
   ]
  },
  {
   "cell_type": "code",
   "execution_count": 107,
   "metadata": {},
   "outputs": [
    {
     "data": {
      "text/plain": [
       "(2, 2)"
      ]
     },
     "execution_count": 107,
     "metadata": {},
     "output_type": "execute_result"
    }
   ],
   "source": [
    "size(A)"
   ]
  },
  {
   "cell_type": "code",
   "execution_count": 110,
   "metadata": {},
   "outputs": [
    {
     "data": {
      "text/plain": [
       "1"
      ]
     },
     "execution_count": 110,
     "metadata": {},
     "output_type": "execute_result"
    }
   ],
   "source": [
    "A[1, 1]"
   ]
  },
  {
   "cell_type": "code",
   "execution_count": 111,
   "metadata": {},
   "outputs": [
    {
     "data": {
      "text/plain": [
       "2-element Array{Int64,1}:\n",
       " 2\n",
       " 4"
      ]
     },
     "execution_count": 111,
     "metadata": {},
     "output_type": "execute_result"
    }
   ],
   "source": [
    "A[1:2, 2]"
   ]
  },
  {
   "cell_type": "code",
   "execution_count": 112,
   "metadata": {},
   "outputs": [
    {
     "data": {
      "text/plain": [
       "2×2 Array{Int64,2}:\n",
       " 5  6\n",
       " 7  8"
      ]
     },
     "execution_count": 112,
     "metadata": {},
     "output_type": "execute_result"
    }
   ],
   "source": [
    "B = [5 6; 7 8]"
   ]
  },
  {
   "cell_type": "code",
   "execution_count": 113,
   "metadata": {},
   "outputs": [
    {
     "data": {
      "text/plain": [
       "2×2 Array{Int64,2}:\n",
       "  6   8\n",
       " 10  12"
      ]
     },
     "execution_count": 113,
     "metadata": {},
     "output_type": "execute_result"
    }
   ],
   "source": [
    "A + B"
   ]
  },
  {
   "cell_type": "code",
   "execution_count": 114,
   "metadata": {},
   "outputs": [
    {
     "data": {
      "text/plain": [
       "2×2 Array{Int64,2}:\n",
       " 19  22\n",
       " 43  50"
      ]
     },
     "execution_count": 114,
     "metadata": {},
     "output_type": "execute_result"
    }
   ],
   "source": [
    "A * B"
   ]
  },
  {
   "cell_type": "code",
   "execution_count": 115,
   "metadata": {},
   "outputs": [
    {
     "data": {
      "text/plain": [
       "2×2 Array{Int64,2}:\n",
       "  5  12\n",
       " 21  32"
      ]
     },
     "execution_count": 115,
     "metadata": {},
     "output_type": "execute_result"
    }
   ],
   "source": [
    "A .* B"
   ]
  },
  {
   "cell_type": "markdown",
   "metadata": {},
   "source": [
    "# ベクトルや行列の初期化 (initialization)"
   ]
  },
  {
   "cell_type": "code",
   "execution_count": 63,
   "metadata": {},
   "outputs": [
    {
     "data": {
      "text/plain": [
       "10-element Array{Float64,1}:\n",
       " 0.0\n",
       " 0.0\n",
       " 0.0\n",
       " 0.0\n",
       " 0.0\n",
       " 0.0\n",
       " 0.0\n",
       " 0.0\n",
       " 0.0\n",
       " 0.0"
      ]
     },
     "execution_count": 63,
     "metadata": {},
     "output_type": "execute_result"
    }
   ],
   "source": [
    "a = zeros(10)"
   ]
  },
  {
   "cell_type": "code",
   "execution_count": 65,
   "metadata": {},
   "outputs": [
    {
     "data": {
      "text/plain": [
       "10-element Array{Int64,1}:\n",
       " 0\n",
       " 0\n",
       " 0\n",
       " 0\n",
       " 0\n",
       " 0\n",
       " 0\n",
       " 0\n",
       " 0\n",
       " 0"
      ]
     },
     "execution_count": 65,
     "metadata": {},
     "output_type": "execute_result"
    }
   ],
   "source": [
    "a = zeros(Int64, 10)"
   ]
  },
  {
   "cell_type": "code",
   "execution_count": 67,
   "metadata": {},
   "outputs": [
    {
     "data": {
      "text/plain": [
       "3×3 Array{Float64,2}:\n",
       " 0.0  0.0  0.0\n",
       " 0.0  0.0  0.0\n",
       " 0.0  0.0  0.0"
      ]
     },
     "execution_count": 67,
     "metadata": {},
     "output_type": "execute_result"
    }
   ],
   "source": [
    "A = zeros(3, 3)"
   ]
  },
  {
   "cell_type": "code",
   "execution_count": 68,
   "metadata": {},
   "outputs": [
    {
     "data": {
      "text/plain": [
       "3×3 Array{Int64,2}:\n",
       " 0  0  0\n",
       " 0  0  0\n",
       " 0  0  0"
      ]
     },
     "execution_count": 68,
     "metadata": {},
     "output_type": "execute_result"
    }
   ],
   "source": [
    "A = zeros(Int64, 3, 3)"
   ]
  },
  {
   "cell_type": "code",
   "execution_count": 69,
   "metadata": {},
   "outputs": [
    {
     "data": {
      "text/plain": [
       "10-element Array{Float64,1}:\n",
       " 0.7542575932249038 \n",
       " 0.8511683171574751 \n",
       " 0.22435422719626152\n",
       " 0.12501102487936988\n",
       " 0.08064171692819655\n",
       " 0.47663956907641825\n",
       " 0.12260584537024966\n",
       " 0.6976893216993225 \n",
       " 0.3634377746474362 \n",
       " 0.22644432713951246"
      ]
     },
     "execution_count": 69,
     "metadata": {},
     "output_type": "execute_result"
    }
   ],
   "source": [
    "a = rand(10)"
   ]
  },
  {
   "cell_type": "code",
   "execution_count": 84,
   "metadata": {},
   "outputs": [
    {
     "data": {
      "text/plain": [
       "1:10"
      ]
     },
     "execution_count": 84,
     "metadata": {},
     "output_type": "execute_result"
    }
   ],
   "source": [
    "a = 1:10"
   ]
  },
  {
   "cell_type": "code",
   "execution_count": 85,
   "metadata": {},
   "outputs": [
    {
     "data": {
      "text/plain": [
       "UnitRange{Int64}"
      ]
     },
     "execution_count": 85,
     "metadata": {},
     "output_type": "execute_result"
    }
   ],
   "source": [
    "typeof(a)"
   ]
  },
  {
   "cell_type": "code",
   "execution_count": 86,
   "metadata": {},
   "outputs": [
    {
     "data": {
      "text/plain": [
       "10-element Array{Int64,1}:\n",
       "  1\n",
       "  2\n",
       "  3\n",
       "  4\n",
       "  5\n",
       "  6\n",
       "  7\n",
       "  8\n",
       "  9\n",
       " 10"
      ]
     },
     "execution_count": 86,
     "metadata": {},
     "output_type": "execute_result"
    }
   ],
   "source": [
    "collect(a)"
   ]
  },
  {
   "cell_type": "code",
   "execution_count": 89,
   "metadata": {},
   "outputs": [
    {
     "data": {
      "text/plain": [
       "1.0:1.3207963267948966:6.283185307179586"
      ]
     },
     "execution_count": 89,
     "metadata": {},
     "output_type": "execute_result"
    }
   ],
   "source": [
    "time = range(1, stop=2*pi, length=5) #pi is a predefined constant"
   ]
  },
  {
   "cell_type": "code",
   "execution_count": 90,
   "metadata": {},
   "outputs": [
    {
     "data": {
      "text/plain": [
       "5-element Array{Float64,1}:\n",
       " 1.0               \n",
       " 2.3207963267948966\n",
       " 3.641592653589793 \n",
       " 4.96238898038469  \n",
       " 6.283185307179586 "
      ]
     },
     "execution_count": 90,
     "metadata": {},
     "output_type": "execute_result"
    }
   ],
   "source": [
    "collect(time)"
   ]
  },
  {
   "cell_type": "code",
   "execution_count": 172,
   "metadata": {},
   "outputs": [
    {
     "data": {
      "text/plain": [
       "3-element Array{Int64,1}:\n",
       " 2\n",
       " 3\n",
       " 4"
      ]
     },
     "execution_count": 172,
     "metadata": {},
     "output_type": "execute_result"
    }
   ],
   "source": [
    "[x + 1 for x in 1:3]"
   ]
  },
  {
   "cell_type": "code",
   "execution_count": 173,
   "metadata": {},
   "outputs": [
    {
     "data": {
      "text/plain": [
       "5-element Array{Int64,1}:\n",
       "  2\n",
       "  4\n",
       "  6\n",
       "  8\n",
       " 10"
      ]
     },
     "execution_count": 173,
     "metadata": {},
     "output_type": "execute_result"
    }
   ],
   "source": [
    "[x for x in 1:10 if x % 2 == 0]"
   ]
  },
  {
   "cell_type": "code",
   "execution_count": 175,
   "metadata": {},
   "outputs": [
    {
     "data": {
      "text/plain": [
       "5×2 reshape(::UnitRange{Int64}, 5, 2) with eltype Int64:\n",
       " 1   6\n",
       " 2   7\n",
       " 3   8\n",
       " 4   9\n",
       " 5  10"
      ]
     },
     "execution_count": 175,
     "metadata": {},
     "output_type": "execute_result"
    }
   ],
   "source": [
    "A = reshape(1:10, 5, 2)"
   ]
  },
  {
   "cell_type": "code",
   "execution_count": 176,
   "metadata": {},
   "outputs": [
    {
     "data": {
      "text/plain": [
       "5×2 Array{Int64,2}:\n",
       " 1   6\n",
       " 2   7\n",
       " 3   8\n",
       " 4   9\n",
       " 5  10"
      ]
     },
     "execution_count": 176,
     "metadata": {},
     "output_type": "execute_result"
    }
   ],
   "source": [
    "collect(A)"
   ]
  },
  {
   "cell_type": "markdown",
   "metadata": {},
   "source": [
    "# ループ (loop)"
   ]
  },
  {
   "cell_type": "code",
   "execution_count": 59,
   "metadata": {},
   "outputs": [
    {
     "data": {
      "text/plain": [
       "UnitRange{Int64}"
      ]
     },
     "execution_count": 59,
     "metadata": {},
     "output_type": "execute_result"
    }
   ],
   "source": [
    "typeof(a)"
   ]
  },
  {
   "cell_type": "code",
   "execution_count": 60,
   "metadata": {},
   "outputs": [
    {
     "data": {
      "text/plain": [
       "10-element Array{Int64,1}:\n",
       "  1\n",
       "  2\n",
       "  3\n",
       "  4\n",
       "  5\n",
       "  6\n",
       "  7\n",
       "  8\n",
       "  9\n",
       " 10"
      ]
     },
     "execution_count": 60,
     "metadata": {},
     "output_type": "execute_result"
    }
   ],
   "source": [
    "a = collect(a)"
   ]
  },
  {
   "cell_type": "code",
   "execution_count": 54,
   "metadata": {},
   "outputs": [
    {
     "name": "stdout",
     "output_type": "stream",
     "text": [
      "1\n",
      "2\n",
      "3\n",
      "4\n",
      "5\n",
      "6\n",
      "7\n",
      "8\n",
      "9\n",
      "10\n"
     ]
    }
   ],
   "source": [
    "for i in 1:10\n",
    "    println(i)\n",
    "end"
   ]
  },
  {
   "cell_type": "code",
   "execution_count": 116,
   "metadata": {},
   "outputs": [
    {
     "data": {
      "text/plain": [
       "10.0"
      ]
     },
     "execution_count": 116,
     "metadata": {},
     "output_type": "execute_result"
    }
   ],
   "source": [
    "d = 0.0\n",
    "for i in 1:10\n",
    "    d += 1.0\n",
    "end\n",
    "d"
   ]
  },
  {
   "cell_type": "markdown",
   "metadata": {},
   "source": [
    "# 条件 (condition)"
   ]
  },
  {
   "cell_type": "code",
   "execution_count": 119,
   "metadata": {},
   "outputs": [
    {
     "data": {
      "text/plain": [
       "true"
      ]
     },
     "execution_count": 119,
     "metadata": {},
     "output_type": "execute_result"
    }
   ],
   "source": [
    "1.0 > 0.0"
   ]
  },
  {
   "cell_type": "code",
   "execution_count": 124,
   "metadata": {},
   "outputs": [
    {
     "data": {
      "text/plain": [
       "Bool"
      ]
     },
     "execution_count": 124,
     "metadata": {},
     "output_type": "execute_result"
    }
   ],
   "source": [
    "typeof(true)"
   ]
  },
  {
   "cell_type": "code",
   "execution_count": 121,
   "metadata": {},
   "outputs": [
    {
     "data": {
      "text/plain": [
       "false"
      ]
     },
     "execution_count": 121,
     "metadata": {},
     "output_type": "execute_result"
    }
   ],
   "source": [
    "1.0 < 0.0"
   ]
  },
  {
   "cell_type": "code",
   "execution_count": 123,
   "metadata": {},
   "outputs": [
    {
     "name": "stdout",
     "output_type": "stream",
     "text": [
      "hello world\n"
     ]
    }
   ],
   "source": [
    "if true\n",
    "    println(\"hello world\")\n",
    "end"
   ]
  },
  {
   "cell_type": "code",
   "execution_count": 126,
   "metadata": {},
   "outputs": [
    {
     "name": "stdout",
     "output_type": "stream",
     "text": [
      "hello world\n"
     ]
    }
   ],
   "source": [
    "if 1.0 > 0.0\n",
    "    println(\"hello world\")\n",
    "end"
   ]
  },
  {
   "cell_type": "markdown",
   "metadata": {},
   "source": [
    "# 算術演算 (arithmetics)"
   ]
  },
  {
   "cell_type": "code",
   "execution_count": 143,
   "metadata": {},
   "outputs": [
    {
     "data": {
      "text/plain": [
       "5×2 Array{Int64,2}:\n",
       " 1   6\n",
       " 2   7\n",
       " 3   8\n",
       " 4   9\n",
       " 5  10"
      ]
     },
     "execution_count": 143,
     "metadata": {},
     "output_type": "execute_result"
    }
   ],
   "source": [
    "A = reshape(collect(1:10), 5, 2)"
   ]
  },
  {
   "cell_type": "code",
   "execution_count": 144,
   "metadata": {},
   "outputs": [
    {
     "data": {
      "text/plain": [
       "55"
      ]
     },
     "execution_count": 144,
     "metadata": {},
     "output_type": "execute_result"
    }
   ],
   "source": [
    "sum(A)"
   ]
  },
  {
   "cell_type": "code",
   "execution_count": 145,
   "metadata": {},
   "outputs": [
    {
     "data": {
      "text/plain": [
       "1×2 Array{Int64,2}:\n",
       " 15  40"
      ]
     },
     "execution_count": 145,
     "metadata": {},
     "output_type": "execute_result"
    }
   ],
   "source": [
    "sum(A, dims=1)"
   ]
  },
  {
   "cell_type": "code",
   "execution_count": 146,
   "metadata": {},
   "outputs": [
    {
     "data": {
      "text/plain": [
       "5×1 Array{Int64,2}:\n",
       "  7\n",
       "  9\n",
       " 11\n",
       " 13\n",
       " 15"
      ]
     },
     "execution_count": 146,
     "metadata": {},
     "output_type": "execute_result"
    }
   ],
   "source": [
    "sum(A, dims=2)"
   ]
  },
  {
   "cell_type": "code",
   "execution_count": 147,
   "metadata": {},
   "outputs": [
    {
     "ename": "DimensionMismatch",
     "evalue": "DimensionMismatch(\"matrix is not square: dimensions are (5, 2)\")",
     "output_type": "error",
     "traceback": [
      "DimensionMismatch(\"matrix is not square: dimensions are (5, 2)\")",
      "",
      "Stacktrace:",
      " [1] exp!(::Array{Complex{Float64},2}) at /Users/osx/buildbot/slave/package_osx64/build/usr/share/julia/stdlib/v1.1/LinearAlgebra/src/LinearAlgebra.jl:214",
      " [2] sin(::Array{Int64,2}) at /Users/osx/buildbot/slave/package_osx64/build/usr/share/julia/stdlib/v1.1/LinearAlgebra/src/dense.jl:792",
      " [3] top-level scope at In[147]:1"
     ]
    }
   ],
   "source": [
    "sin(A)"
   ]
  },
  {
   "cell_type": "code",
   "execution_count": 148,
   "metadata": {},
   "outputs": [
    {
     "data": {
      "text/plain": [
       "5×2 Array{Float64,2}:\n",
       "  0.841471  -0.279415\n",
       "  0.909297   0.656987\n",
       "  0.14112    0.989358\n",
       " -0.756802   0.412118\n",
       " -0.958924  -0.544021"
      ]
     },
     "execution_count": 148,
     "metadata": {},
     "output_type": "execute_result"
    }
   ],
   "source": [
    "sin.(A)"
   ]
  },
  {
   "cell_type": "code",
   "execution_count": 149,
   "metadata": {},
   "outputs": [
    {
     "data": {
      "text/plain": [
       "32"
      ]
     },
     "execution_count": 149,
     "metadata": {},
     "output_type": "execute_result"
    }
   ],
   "source": [
    "a = [1, 2, 3]\n",
    "b = [4, 5, 6]\n",
    "sum(a.* b)"
   ]
  },
  {
   "cell_type": "code",
   "execution_count": 151,
   "metadata": {},
   "outputs": [
    {
     "data": {
      "text/plain": [
       "3-element Array{Int64,1}:\n",
       " 1\n",
       " 4\n",
       " 9"
      ]
     },
     "execution_count": 151,
     "metadata": {},
     "output_type": "execute_result"
    }
   ],
   "source": [
    "a.^2"
   ]
  },
  {
   "cell_type": "code",
   "execution_count": 152,
   "metadata": {},
   "outputs": [
    {
     "ename": "UndefVarError",
     "evalue": "UndefVarError: norm not defined",
     "output_type": "error",
     "traceback": [
      "UndefVarError: norm not defined",
      "",
      "Stacktrace:",
      " [1] top-level scope at In[152]:1"
     ]
    }
   ],
   "source": [
    "norm(a)"
   ]
  },
  {
   "cell_type": "code",
   "execution_count": 154,
   "metadata": {},
   "outputs": [
    {
     "ename": "UndefVarError",
     "evalue": "UndefVarError: eigen not defined",
     "output_type": "error",
     "traceback": [
      "UndefVarError: eigen not defined",
      "",
      "Stacktrace:",
      " [1] top-level scope at In[154]:2"
     ]
    }
   ],
   "source": [
    "A = [1 2; 3 4]\n",
    "val, vec = eigen(A)"
   ]
  },
  {
   "cell_type": "code",
   "execution_count": 1,
   "metadata": {},
   "outputs": [
    {
     "name": "stdout",
     "output_type": "stream",
     "text": [
      "search: \u001b[0m\u001b[1ms\u001b[22m\u001b[0m\u001b[1mu\u001b[22m\u001b[0m\u001b[1mm\u001b[22m \u001b[0m\u001b[1ms\u001b[22m\u001b[0m\u001b[1mu\u001b[22m\u001b[0m\u001b[1mm\u001b[22m! \u001b[0m\u001b[1ms\u001b[22m\u001b[0m\u001b[1mu\u001b[22m\u001b[0m\u001b[1mm\u001b[22mmary cum\u001b[0m\u001b[1ms\u001b[22m\u001b[0m\u001b[1mu\u001b[22m\u001b[0m\u001b[1mm\u001b[22m cum\u001b[0m\u001b[1ms\u001b[22m\u001b[0m\u001b[1mu\u001b[22m\u001b[0m\u001b[1mm\u001b[22m! i\u001b[0m\u001b[1ms\u001b[22mn\u001b[0m\u001b[1mu\u001b[22m\u001b[0m\u001b[1mm\u001b[22meric Ver\u001b[0m\u001b[1ms\u001b[22mionN\u001b[0m\u001b[1mu\u001b[22m\u001b[0m\u001b[1mm\u001b[22mber i\u001b[0m\u001b[1ms\u001b[22ms\u001b[0m\u001b[1mu\u001b[22mbnor\u001b[0m\u001b[1mm\u001b[22mal\n",
      "\n"
     ]
    },
    {
     "data": {
      "text/latex": [
       "\\begin{verbatim}\n",
       "sum(f, itr)\n",
       "\\end{verbatim}\n",
       "Sum the results of calling function \\texttt{f} on each element of \\texttt{itr}.\n",
       "\n",
       "The return type is \\texttt{Int} for signed integers of less than system word size, and \\texttt{UInt} for unsigned integers of less than system word size.  For all other arguments, a common return type is found to which all arguments are promoted.\n",
       "\n",
       "\\section{Examples}\n",
       "\\begin{verbatim}\n",
       "julia> sum(abs2, [2; 3; 4])\n",
       "29\n",
       "\\end{verbatim}\n",
       "Note the important difference between \\texttt{sum(A)} and \\texttt{reduce(+, A)} for arrays with small integer eltype:\n",
       "\n",
       "\\begin{verbatim}\n",
       "julia> sum(Int8[100, 28])\n",
       "128\n",
       "\n",
       "julia> reduce(+, Int8[100, 28])\n",
       "-128\n",
       "\\end{verbatim}\n",
       "In the former case, the integers are widened to system word size and therefore the result is 128. In the latter case, no such widening happens and integer overflow results in -128.\n",
       "\n",
       "\\rule{\\textwidth}{1pt}\n",
       "\\begin{verbatim}\n",
       "sum(itr)\n",
       "\\end{verbatim}\n",
       "Returns the sum of all elements in a collection.\n",
       "\n",
       "The return type is \\texttt{Int} for signed integers of less than system word size, and \\texttt{UInt} for unsigned integers of less than system word size.  For all other arguments, a common return type is found to which all arguments are promoted.\n",
       "\n",
       "\\section{Examples}\n",
       "\\begin{verbatim}\n",
       "julia> sum(1:20)\n",
       "210\n",
       "\\end{verbatim}\n",
       "\\rule{\\textwidth}{1pt}\n",
       "\\begin{verbatim}\n",
       "sum(A::AbstractArray; dims)\n",
       "\\end{verbatim}\n",
       "Sum elements of an array over the given dimensions.\n",
       "\n",
       "\\section{Examples}\n",
       "\\begin{verbatim}\n",
       "julia> A = [1 2; 3 4]\n",
       "2×2 Array{Int64,2}:\n",
       " 1  2\n",
       " 3  4\n",
       "\n",
       "julia> sum(A, dims=1)\n",
       "1×2 Array{Int64,2}:\n",
       " 4  6\n",
       "\n",
       "julia> sum(A, dims=2)\n",
       "2×1 Array{Int64,2}:\n",
       " 3\n",
       " 7\n",
       "\\end{verbatim}\n"
      ],
      "text/markdown": [
       "```\n",
       "sum(f, itr)\n",
       "```\n",
       "\n",
       "Sum the results of calling function `f` on each element of `itr`.\n",
       "\n",
       "The return type is `Int` for signed integers of less than system word size, and `UInt` for unsigned integers of less than system word size.  For all other arguments, a common return type is found to which all arguments are promoted.\n",
       "\n",
       "# Examples\n",
       "\n",
       "```jldoctest\n",
       "julia> sum(abs2, [2; 3; 4])\n",
       "29\n",
       "```\n",
       "\n",
       "Note the important difference between `sum(A)` and `reduce(+, A)` for arrays with small integer eltype:\n",
       "\n",
       "```jldoctest\n",
       "julia> sum(Int8[100, 28])\n",
       "128\n",
       "\n",
       "julia> reduce(+, Int8[100, 28])\n",
       "-128\n",
       "```\n",
       "\n",
       "In the former case, the integers are widened to system word size and therefore the result is 128. In the latter case, no such widening happens and integer overflow results in -128.\n",
       "\n",
       "---\n",
       "\n",
       "```\n",
       "sum(itr)\n",
       "```\n",
       "\n",
       "Returns the sum of all elements in a collection.\n",
       "\n",
       "The return type is `Int` for signed integers of less than system word size, and `UInt` for unsigned integers of less than system word size.  For all other arguments, a common return type is found to which all arguments are promoted.\n",
       "\n",
       "# Examples\n",
       "\n",
       "```jldoctest\n",
       "julia> sum(1:20)\n",
       "210\n",
       "```\n",
       "\n",
       "---\n",
       "\n",
       "```\n",
       "sum(A::AbstractArray; dims)\n",
       "```\n",
       "\n",
       "Sum elements of an array over the given dimensions.\n",
       "\n",
       "# Examples\n",
       "\n",
       "```jldoctest\n",
       "julia> A = [1 2; 3 4]\n",
       "2×2 Array{Int64,2}:\n",
       " 1  2\n",
       " 3  4\n",
       "\n",
       "julia> sum(A, dims=1)\n",
       "1×2 Array{Int64,2}:\n",
       " 4  6\n",
       "\n",
       "julia> sum(A, dims=2)\n",
       "2×1 Array{Int64,2}:\n",
       " 3\n",
       " 7\n",
       "```\n"
      ],
      "text/plain": [
       "\u001b[36m  sum(f, itr)\u001b[39m\n",
       "\n",
       "  Sum the results of calling function \u001b[36mf\u001b[39m on each element of \u001b[36mitr\u001b[39m.\n",
       "\n",
       "  The return type is \u001b[36mInt\u001b[39m for signed integers of less than system word size,\n",
       "  and \u001b[36mUInt\u001b[39m for unsigned integers of less than system word size. For all other\n",
       "  arguments, a common return type is found to which all arguments are\n",
       "  promoted.\n",
       "\n",
       "\u001b[1m  Examples\u001b[22m\n",
       "\u001b[1m  ≡≡≡≡≡≡≡≡≡≡\u001b[22m\n",
       "\n",
       "\u001b[36m  julia> sum(abs2, [2; 3; 4])\u001b[39m\n",
       "\u001b[36m  29\u001b[39m\n",
       "\n",
       "  Note the important difference between \u001b[36msum(A)\u001b[39m and \u001b[36mreduce(+, A)\u001b[39m for arrays\n",
       "  with small integer eltype:\n",
       "\n",
       "\u001b[36m  julia> sum(Int8[100, 28])\u001b[39m\n",
       "\u001b[36m  128\u001b[39m\n",
       "\u001b[36m  \u001b[39m\n",
       "\u001b[36m  julia> reduce(+, Int8[100, 28])\u001b[39m\n",
       "\u001b[36m  -128\u001b[39m\n",
       "\n",
       "  In the former case, the integers are widened to system word size and\n",
       "  therefore the result is 128. In the latter case, no such widening happens\n",
       "  and integer overflow results in -128.\n",
       "\n",
       "  ────────────────────────────────────────────────────────────────────────────\n",
       "\n",
       "\u001b[36m  sum(itr)\u001b[39m\n",
       "\n",
       "  Returns the sum of all elements in a collection.\n",
       "\n",
       "  The return type is \u001b[36mInt\u001b[39m for signed integers of less than system word size,\n",
       "  and \u001b[36mUInt\u001b[39m for unsigned integers of less than system word size. For all other\n",
       "  arguments, a common return type is found to which all arguments are\n",
       "  promoted.\n",
       "\n",
       "\u001b[1m  Examples\u001b[22m\n",
       "\u001b[1m  ≡≡≡≡≡≡≡≡≡≡\u001b[22m\n",
       "\n",
       "\u001b[36m  julia> sum(1:20)\u001b[39m\n",
       "\u001b[36m  210\u001b[39m\n",
       "\n",
       "  ────────────────────────────────────────────────────────────────────────────\n",
       "\n",
       "\u001b[36m  sum(A::AbstractArray; dims)\u001b[39m\n",
       "\n",
       "  Sum elements of an array over the given dimensions.\n",
       "\n",
       "\u001b[1m  Examples\u001b[22m\n",
       "\u001b[1m  ≡≡≡≡≡≡≡≡≡≡\u001b[22m\n",
       "\n",
       "\u001b[36m  julia> A = [1 2; 3 4]\u001b[39m\n",
       "\u001b[36m  2×2 Array{Int64,2}:\u001b[39m\n",
       "\u001b[36m   1  2\u001b[39m\n",
       "\u001b[36m   3  4\u001b[39m\n",
       "\u001b[36m  \u001b[39m\n",
       "\u001b[36m  julia> sum(A, dims=1)\u001b[39m\n",
       "\u001b[36m  1×2 Array{Int64,2}:\u001b[39m\n",
       "\u001b[36m   4  6\u001b[39m\n",
       "\u001b[36m  \u001b[39m\n",
       "\u001b[36m  julia> sum(A, dims=2)\u001b[39m\n",
       "\u001b[36m  2×1 Array{Int64,2}:\u001b[39m\n",
       "\u001b[36m   3\u001b[39m\n",
       "\u001b[36m   7\u001b[39m"
      ]
     },
     "execution_count": 1,
     "metadata": {},
     "output_type": "execute_result"
    }
   ],
   "source": [
    "?sum"
   ]
  },
  {
   "cell_type": "markdown",
   "metadata": {},
   "source": [
    "# 関数 (function)"
   ]
  },
  {
   "cell_type": "code",
   "execution_count": 177,
   "metadata": {},
   "outputs": [
    {
     "data": {
      "text/plain": [
       "mysum (generic function with 2 methods)"
      ]
     },
     "execution_count": 177,
     "metadata": {},
     "output_type": "execute_result"
    }
   ],
   "source": [
    "function mysum(x)\n",
    "    x + 1\n",
    "end"
   ]
  },
  {
   "cell_type": "code",
   "execution_count": 178,
   "metadata": {},
   "outputs": [
    {
     "data": {
      "text/plain": [
       "2.0"
      ]
     },
     "execution_count": 178,
     "metadata": {},
     "output_type": "execute_result"
    }
   ],
   "source": [
    "mysum(1.0)"
   ]
  },
  {
   "cell_type": "code",
   "execution_count": 179,
   "metadata": {},
   "outputs": [
    {
     "data": {
      "text/plain": [
       "2"
      ]
     },
     "execution_count": 179,
     "metadata": {},
     "output_type": "execute_result"
    }
   ],
   "source": [
    "mysum(1)"
   ]
  },
  {
   "cell_type": "code",
   "execution_count": 180,
   "metadata": {},
   "outputs": [
    {
     "ename": "MethodError",
     "evalue": "MethodError: no method matching +(::Array{Int64,1}, ::Int64)\nClosest candidates are:\n  +(::Any, ::Any, !Matched::Any, !Matched::Any...) at operators.jl:502\n  +(!Matched::Complex{Bool}, ::Real) at complex.jl:292\n  +(!Matched::Missing, ::Number) at missing.jl:97\n  ...",
     "output_type": "error",
     "traceback": [
      "MethodError: no method matching +(::Array{Int64,1}, ::Int64)\nClosest candidates are:\n  +(::Any, ::Any, !Matched::Any, !Matched::Any...) at operators.jl:502\n  +(!Matched::Complex{Bool}, ::Real) at complex.jl:292\n  +(!Matched::Missing, ::Number) at missing.jl:97\n  ...",
      "",
      "Stacktrace:",
      " [1] mysum(::Array{Int64,1}) at ./In[177]:2",
      " [2] top-level scope at In[180]:1"
     ]
    }
   ],
   "source": [
    "mysum([1, 2, 3])"
   ]
  },
  {
   "cell_type": "code",
   "execution_count": 181,
   "metadata": {},
   "outputs": [
    {
     "data": {
      "text/plain": [
       "3-element Array{Int64,1}:\n",
       " 2\n",
       " 3\n",
       " 4"
      ]
     },
     "execution_count": 181,
     "metadata": {},
     "output_type": "execute_result"
    }
   ],
   "source": [
    "mysum.([1, 2, 3])"
   ]
  },
  {
   "cell_type": "code",
   "execution_count": 182,
   "metadata": {},
   "outputs": [
    {
     "data": {
      "text/plain": [
       "mysum2 (generic function with 1 method)"
      ]
     },
     "execution_count": 182,
     "metadata": {},
     "output_type": "execute_result"
    }
   ],
   "source": [
    "mysum2(x) = x + 1"
   ]
  },
  {
   "cell_type": "code",
   "execution_count": 183,
   "metadata": {},
   "outputs": [
    {
     "data": {
      "text/plain": [
       "2.0"
      ]
     },
     "execution_count": 183,
     "metadata": {},
     "output_type": "execute_result"
    }
   ],
   "source": [
    "mysum2(1.0)"
   ]
  },
  {
   "cell_type": "code",
   "execution_count": 184,
   "metadata": {},
   "outputs": [
    {
     "data": {
      "text/plain": [
       "3-element Array{Int64,1}:\n",
       " 2\n",
       " 3\n",
       " 4"
      ]
     },
     "execution_count": 184,
     "metadata": {},
     "output_type": "execute_result"
    }
   ],
   "source": [
    "map(x -> x + 1, [1, 2, 3])"
   ]
  },
  {
   "cell_type": "code",
   "execution_count": 186,
   "metadata": {},
   "outputs": [
    {
     "data": {
      "text/plain": [
       "3-element Array{Int64,1}:\n",
       " 2\n",
       " 3\n",
       " 4"
      ]
     },
     "execution_count": 186,
     "metadata": {},
     "output_type": "execute_result"
    }
   ],
   "source": [
    "[x + 1 for x in [1, 2, 3]]"
   ]
  },
  {
   "cell_type": "markdown",
   "metadata": {},
   "source": [
    "# 描画 (Plots)"
   ]
  },
  {
   "cell_type": "markdown",
   "metadata": {},
   "source": [
    "詳しくはPlotsのチュートリアル参照のこと\n",
    "http://docs.juliaplots.org/latest/tutorial/#tutorial-1"
   ]
  },
  {
   "cell_type": "code",
   "execution_count": 1,
   "metadata": {},
   "outputs": [],
   "source": [
    "using Plots"
   ]
  },
  {
   "cell_type": "code",
   "execution_count": 2,
   "metadata": {},
   "outputs": [
    {
     "data": {
      "text/plain": [
       "Plots.GRBackend()"
      ]
     },
     "execution_count": 2,
     "metadata": {},
     "output_type": "execute_result"
    }
   ],
   "source": [
    "gr()"
   ]
  },
  {
   "cell_type": "code",
   "execution_count": 19,
   "metadata": {},
   "outputs": [],
   "source": [
    "time = range(1, stop=100, length=50);\n",
    "y = rand(length(time), 2);"
   ]
  },
  {
   "cell_type": "code",
   "execution_count": 20,
   "metadata": {},
   "outputs": [
    {
     "data": {
      "image/svg+xml": [
       "<?xml version=\"1.0\" encoding=\"utf-8\"?>\n",
       "<svg xmlns=\"http://www.w3.org/2000/svg\" xmlns:xlink=\"http://www.w3.org/1999/xlink\" width=\"600\" height=\"400\" viewBox=\"0 0 2400 1600\">\n",
       "<defs>\n",
       "  <clipPath id=\"clip4600\">\n",
       "    <rect x=\"0\" y=\"0\" width=\"2400\" height=\"1600\"/>\n",
       "  </clipPath>\n",
       "</defs>\n",
       "<polygon clip-path=\"url(#clip4600)\" points=\"\n",
       "0,1600 2400,1600 2400,0 0,0 \n",
       "  \" fill=\"#ffffff\" fill-rule=\"evenodd\" fill-opacity=\"1\"/>\n",
       "<defs>\n",
       "  <clipPath id=\"clip4601\">\n",
       "    <rect x=\"480\" y=\"0\" width=\"1681\" height=\"1600\"/>\n",
       "  </clipPath>\n",
       "</defs>\n",
       "<polygon clip-path=\"url(#clip4600)\" points=\"\n",
       "188.156,1503.47 2321.26,1503.47 2321.26,47.2441 188.156,47.2441 \n",
       "  \" fill=\"#ffffff\" fill-rule=\"evenodd\" fill-opacity=\"1\"/>\n",
       "<defs>\n",
       "  <clipPath id=\"clip4602\">\n",
       "    <rect x=\"188\" y=\"47\" width=\"2134\" height=\"1457\"/>\n",
       "  </clipPath>\n",
       "</defs>\n",
       "<polyline clip-path=\"url(#clip4602)\" style=\"stroke:#000000; stroke-width:2; stroke-opacity:0.1; fill:none\" points=\"\n",
       "  228.2,1503.47 228.2,47.2441 \n",
       "  \"/>\n",
       "<polyline clip-path=\"url(#clip4602)\" style=\"stroke:#000000; stroke-width:2; stroke-opacity:0.1; fill:none\" points=\"\n",
       "  736.373,1503.47 736.373,47.2441 \n",
       "  \"/>\n",
       "<polyline clip-path=\"url(#clip4602)\" style=\"stroke:#000000; stroke-width:2; stroke-opacity:0.1; fill:none\" points=\"\n",
       "  1244.54,1503.47 1244.54,47.2441 \n",
       "  \"/>\n",
       "<polyline clip-path=\"url(#clip4602)\" style=\"stroke:#000000; stroke-width:2; stroke-opacity:0.1; fill:none\" points=\"\n",
       "  1752.72,1503.47 1752.72,47.2441 \n",
       "  \"/>\n",
       "<polyline clip-path=\"url(#clip4602)\" style=\"stroke:#000000; stroke-width:2; stroke-opacity:0.1; fill:none\" points=\"\n",
       "  2260.89,1503.47 2260.89,47.2441 \n",
       "  \"/>\n",
       "<polyline clip-path=\"url(#clip4602)\" style=\"stroke:#000000; stroke-width:2; stroke-opacity:0.1; fill:none\" points=\"\n",
       "  188.156,1467.53 2321.26,1467.53 \n",
       "  \"/>\n",
       "<polyline clip-path=\"url(#clip4602)\" style=\"stroke:#000000; stroke-width:2; stroke-opacity:0.1; fill:none\" points=\"\n",
       "  188.156,1122.58 2321.26,1122.58 \n",
       "  \"/>\n",
       "<polyline clip-path=\"url(#clip4602)\" style=\"stroke:#000000; stroke-width:2; stroke-opacity:0.1; fill:none\" points=\"\n",
       "  188.156,777.625 2321.26,777.625 \n",
       "  \"/>\n",
       "<polyline clip-path=\"url(#clip4602)\" style=\"stroke:#000000; stroke-width:2; stroke-opacity:0.1; fill:none\" points=\"\n",
       "  188.156,432.673 2321.26,432.673 \n",
       "  \"/>\n",
       "<polyline clip-path=\"url(#clip4602)\" style=\"stroke:#000000; stroke-width:2; stroke-opacity:0.1; fill:none\" points=\"\n",
       "  188.156,87.7218 2321.26,87.7218 \n",
       "  \"/>\n",
       "<polyline clip-path=\"url(#clip4600)\" style=\"stroke:#000000; stroke-width:4; stroke-opacity:1; fill:none\" points=\"\n",
       "  188.156,1503.47 2321.26,1503.47 \n",
       "  \"/>\n",
       "<polyline clip-path=\"url(#clip4600)\" style=\"stroke:#000000; stroke-width:4; stroke-opacity:1; fill:none\" points=\"\n",
       "  188.156,1503.47 188.156,47.2441 \n",
       "  \"/>\n",
       "<polyline clip-path=\"url(#clip4600)\" style=\"stroke:#000000; stroke-width:4; stroke-opacity:1; fill:none\" points=\"\n",
       "  228.2,1503.47 228.2,1481.63 \n",
       "  \"/>\n",
       "<polyline clip-path=\"url(#clip4600)\" style=\"stroke:#000000; stroke-width:4; stroke-opacity:1; fill:none\" points=\"\n",
       "  736.373,1503.47 736.373,1481.63 \n",
       "  \"/>\n",
       "<polyline clip-path=\"url(#clip4600)\" style=\"stroke:#000000; stroke-width:4; stroke-opacity:1; fill:none\" points=\"\n",
       "  1244.54,1503.47 1244.54,1481.63 \n",
       "  \"/>\n",
       "<polyline clip-path=\"url(#clip4600)\" style=\"stroke:#000000; stroke-width:4; stroke-opacity:1; fill:none\" points=\"\n",
       "  1752.72,1503.47 1752.72,1481.63 \n",
       "  \"/>\n",
       "<polyline clip-path=\"url(#clip4600)\" style=\"stroke:#000000; stroke-width:4; stroke-opacity:1; fill:none\" points=\"\n",
       "  2260.89,1503.47 2260.89,1481.63 \n",
       "  \"/>\n",
       "<polyline clip-path=\"url(#clip4600)\" style=\"stroke:#000000; stroke-width:4; stroke-opacity:1; fill:none\" points=\"\n",
       "  188.156,1467.53 220.153,1467.53 \n",
       "  \"/>\n",
       "<polyline clip-path=\"url(#clip4600)\" style=\"stroke:#000000; stroke-width:4; stroke-opacity:1; fill:none\" points=\"\n",
       "  188.156,1122.58 220.153,1122.58 \n",
       "  \"/>\n",
       "<polyline clip-path=\"url(#clip4600)\" style=\"stroke:#000000; stroke-width:4; stroke-opacity:1; fill:none\" points=\"\n",
       "  188.156,777.625 220.153,777.625 \n",
       "  \"/>\n",
       "<polyline clip-path=\"url(#clip4600)\" style=\"stroke:#000000; stroke-width:4; stroke-opacity:1; fill:none\" points=\"\n",
       "  188.156,432.673 220.153,432.673 \n",
       "  \"/>\n",
       "<polyline clip-path=\"url(#clip4600)\" style=\"stroke:#000000; stroke-width:4; stroke-opacity:1; fill:none\" points=\"\n",
       "  188.156,87.7218 220.153,87.7218 \n",
       "  \"/>\n",
       "<g clip-path=\"url(#clip4600)\">\n",
       "<text style=\"fill:#000000; fill-opacity:1; font-family:Arial,Helvetica Neue,Helvetica,sans-serif; font-size:48px; text-anchor:middle;\" transform=\"rotate(0, 228.2, 1557.47)\" x=\"228.2\" y=\"1557.47\">0</text>\n",
       "</g>\n",
       "<g clip-path=\"url(#clip4600)\">\n",
       "<text style=\"fill:#000000; fill-opacity:1; font-family:Arial,Helvetica Neue,Helvetica,sans-serif; font-size:48px; text-anchor:middle;\" transform=\"rotate(0, 736.373, 1557.47)\" x=\"736.373\" y=\"1557.47\">25</text>\n",
       "</g>\n",
       "<g clip-path=\"url(#clip4600)\">\n",
       "<text style=\"fill:#000000; fill-opacity:1; font-family:Arial,Helvetica Neue,Helvetica,sans-serif; font-size:48px; text-anchor:middle;\" transform=\"rotate(0, 1244.54, 1557.47)\" x=\"1244.54\" y=\"1557.47\">50</text>\n",
       "</g>\n",
       "<g clip-path=\"url(#clip4600)\">\n",
       "<text style=\"fill:#000000; fill-opacity:1; font-family:Arial,Helvetica Neue,Helvetica,sans-serif; font-size:48px; text-anchor:middle;\" transform=\"rotate(0, 1752.72, 1557.47)\" x=\"1752.72\" y=\"1557.47\">75</text>\n",
       "</g>\n",
       "<g clip-path=\"url(#clip4600)\">\n",
       "<text style=\"fill:#000000; fill-opacity:1; font-family:Arial,Helvetica Neue,Helvetica,sans-serif; font-size:48px; text-anchor:middle;\" transform=\"rotate(0, 2260.89, 1557.47)\" x=\"2260.89\" y=\"1557.47\">100</text>\n",
       "</g>\n",
       "<g clip-path=\"url(#clip4600)\">\n",
       "<text style=\"fill:#000000; fill-opacity:1; font-family:Arial,Helvetica Neue,Helvetica,sans-serif; font-size:48px; text-anchor:end;\" transform=\"rotate(0, 164.156, 1485.03)\" x=\"164.156\" y=\"1485.03\">0.00</text>\n",
       "</g>\n",
       "<g clip-path=\"url(#clip4600)\">\n",
       "<text style=\"fill:#000000; fill-opacity:1; font-family:Arial,Helvetica Neue,Helvetica,sans-serif; font-size:48px; text-anchor:end;\" transform=\"rotate(0, 164.156, 1140.08)\" x=\"164.156\" y=\"1140.08\">0.25</text>\n",
       "</g>\n",
       "<g clip-path=\"url(#clip4600)\">\n",
       "<text style=\"fill:#000000; fill-opacity:1; font-family:Arial,Helvetica Neue,Helvetica,sans-serif; font-size:48px; text-anchor:end;\" transform=\"rotate(0, 164.156, 795.125)\" x=\"164.156\" y=\"795.125\">0.50</text>\n",
       "</g>\n",
       "<g clip-path=\"url(#clip4600)\">\n",
       "<text style=\"fill:#000000; fill-opacity:1; font-family:Arial,Helvetica Neue,Helvetica,sans-serif; font-size:48px; text-anchor:end;\" transform=\"rotate(0, 164.156, 450.173)\" x=\"164.156\" y=\"450.173\">0.75</text>\n",
       "</g>\n",
       "<g clip-path=\"url(#clip4600)\">\n",
       "<text style=\"fill:#000000; fill-opacity:1; font-family:Arial,Helvetica Neue,Helvetica,sans-serif; font-size:48px; text-anchor:end;\" transform=\"rotate(0, 164.156, 105.222)\" x=\"164.156\" y=\"105.222\">1.00</text>\n",
       "</g>\n",
       "<polyline clip-path=\"url(#clip4602)\" style=\"stroke:#009af9; stroke-width:4; stroke-opacity:1; fill:none\" points=\"\n",
       "  248.527,1015.2 289.596,906.852 330.664,578.541 371.733,1443.93 412.802,1386.52 453.87,785.993 494.939,1112.94 536.007,930.975 577.076,751.817 618.145,1145.38 \n",
       "  659.213,616.836 700.282,1341.79 741.351,1382.07 782.419,535.138 823.488,1433.78 864.556,1383.53 905.625,247.31 946.694,1166.66 987.762,636.714 1028.83,386.229 \n",
       "  1069.9,844.05 1110.97,1179.04 1152.04,1053.28 1193.11,831.795 1234.17,978.622 1275.24,1001.97 1316.31,488.258 1357.38,419.782 1398.45,122.059 1439.52,535.984 \n",
       "  1480.59,1048.74 1521.65,176.047 1562.72,1173.15 1603.79,392.645 1644.86,202.342 1685.93,773.592 1727,990.849 1768.07,178.964 1809.13,584.577 1850.2,456.079 \n",
       "  1891.27,148.341 1932.34,1295.21 1973.41,276.844 2014.48,1136.49 2055.55,1062.45 2096.61,957.105 2137.68,1414.21 2178.75,1319.58 2219.82,514.323 2260.89,895.702 \n",
       "  \n",
       "  \"/>\n",
       "<polyline clip-path=\"url(#clip4602)\" style=\"stroke:#e26f46; stroke-width:4; stroke-opacity:1; fill:none\" points=\"\n",
       "  248.527,643.724 289.596,749.619 330.664,221.223 371.733,1199.49 412.802,840.09 453.87,160.581 494.939,480.54 536.007,131.642 577.076,147.779 618.145,1080.92 \n",
       "  659.213,1258.66 700.282,244.346 741.351,772.616 782.419,891.685 823.488,955.662 864.556,1032.51 905.625,250.902 946.694,88.4582 987.762,1146.03 1028.83,1443.6 \n",
       "  1069.9,1413.9 1110.97,854.363 1152.04,674.596 1193.11,620.31 1234.17,285.176 1275.24,862.818 1316.31,835.021 1357.38,902.053 1398.45,1291.54 1439.52,634.291 \n",
       "  1480.59,865.859 1521.65,1217.37 1562.72,509.203 1603.79,641.629 1644.86,1417.98 1685.93,943.47 1727,935.798 1768.07,1101.21 1809.13,726.651 1850.2,653.175 \n",
       "  1891.27,439.906 1932.34,1462.26 1973.41,221.001 2014.48,619.971 2055.55,1000.62 2096.61,327.086 2137.68,1077.92 2178.75,1216.42 2219.82,782.588 2260.89,620.461 \n",
       "  \n",
       "  \"/>\n",
       "<polygon clip-path=\"url(#clip4600)\" points=\"\n",
       "1958.43,312.204 2249.26,312.204 2249.26,130.764 1958.43,130.764 \n",
       "  \" fill=\"#ffffff\" fill-rule=\"evenodd\" fill-opacity=\"1\"/>\n",
       "<polyline clip-path=\"url(#clip4600)\" style=\"stroke:#000000; stroke-width:4; stroke-opacity:1; fill:none\" points=\"\n",
       "  1958.43,312.204 2249.26,312.204 2249.26,130.764 1958.43,130.764 1958.43,312.204 \n",
       "  \"/>\n",
       "<polyline clip-path=\"url(#clip4600)\" style=\"stroke:#009af9; stroke-width:4; stroke-opacity:1; fill:none\" points=\"\n",
       "  1982.43,191.244 2126.43,191.244 \n",
       "  \"/>\n",
       "<g clip-path=\"url(#clip4600)\">\n",
       "<text style=\"fill:#000000; fill-opacity:1; font-family:Arial,Helvetica Neue,Helvetica,sans-serif; font-size:48px; text-anchor:start;\" transform=\"rotate(0, 2150.43, 208.744)\" x=\"2150.43\" y=\"208.744\">y1</text>\n",
       "</g>\n",
       "<polyline clip-path=\"url(#clip4600)\" style=\"stroke:#e26f46; stroke-width:4; stroke-opacity:1; fill:none\" points=\"\n",
       "  1982.43,251.724 2126.43,251.724 \n",
       "  \"/>\n",
       "<g clip-path=\"url(#clip4600)\">\n",
       "<text style=\"fill:#000000; fill-opacity:1; font-family:Arial,Helvetica Neue,Helvetica,sans-serif; font-size:48px; text-anchor:start;\" transform=\"rotate(0, 2150.43, 269.224)\" x=\"2150.43\" y=\"269.224\">y2</text>\n",
       "</g>\n",
       "</svg>\n"
      ]
     },
     "execution_count": 20,
     "metadata": {},
     "output_type": "execute_result"
    }
   ],
   "source": [
    "plot(time, y)"
   ]
  },
  {
   "cell_type": "code",
   "execution_count": 21,
   "metadata": {},
   "outputs": [
    {
     "data": {
      "image/svg+xml": [
       "<?xml version=\"1.0\" encoding=\"utf-8\"?>\n",
       "<svg xmlns=\"http://www.w3.org/2000/svg\" xmlns:xlink=\"http://www.w3.org/1999/xlink\" width=\"600\" height=\"400\" viewBox=\"0 0 2400 1600\">\n",
       "<defs>\n",
       "  <clipPath id=\"clip5000\">\n",
       "    <rect x=\"0\" y=\"0\" width=\"2400\" height=\"1600\"/>\n",
       "  </clipPath>\n",
       "</defs>\n",
       "<polygon clip-path=\"url(#clip5000)\" points=\"\n",
       "0,1600 2400,1600 2400,0 0,0 \n",
       "  \" fill=\"#ffffff\" fill-rule=\"evenodd\" fill-opacity=\"1\"/>\n",
       "<defs>\n",
       "  <clipPath id=\"clip5001\">\n",
       "    <rect x=\"480\" y=\"0\" width=\"1681\" height=\"1600\"/>\n",
       "  </clipPath>\n",
       "</defs>\n",
       "<polygon clip-path=\"url(#clip5000)\" points=\"\n",
       "188.156,1503.47 2321.26,1503.47 2321.26,47.2441 188.156,47.2441 \n",
       "  \" fill=\"#ffffff\" fill-rule=\"evenodd\" fill-opacity=\"1\"/>\n",
       "<defs>\n",
       "  <clipPath id=\"clip5002\">\n",
       "    <rect x=\"188\" y=\"47\" width=\"2134\" height=\"1457\"/>\n",
       "  </clipPath>\n",
       "</defs>\n",
       "<polyline clip-path=\"url(#clip5002)\" style=\"stroke:#000000; stroke-width:2; stroke-opacity:0.1; fill:none\" points=\"\n",
       "  228.2,1503.47 228.2,47.2441 \n",
       "  \"/>\n",
       "<polyline clip-path=\"url(#clip5002)\" style=\"stroke:#000000; stroke-width:2; stroke-opacity:0.1; fill:none\" points=\"\n",
       "  736.373,1503.47 736.373,47.2441 \n",
       "  \"/>\n",
       "<polyline clip-path=\"url(#clip5002)\" style=\"stroke:#000000; stroke-width:2; stroke-opacity:0.1; fill:none\" points=\"\n",
       "  1244.54,1503.47 1244.54,47.2441 \n",
       "  \"/>\n",
       "<polyline clip-path=\"url(#clip5002)\" style=\"stroke:#000000; stroke-width:2; stroke-opacity:0.1; fill:none\" points=\"\n",
       "  1752.72,1503.47 1752.72,47.2441 \n",
       "  \"/>\n",
       "<polyline clip-path=\"url(#clip5002)\" style=\"stroke:#000000; stroke-width:2; stroke-opacity:0.1; fill:none\" points=\"\n",
       "  2260.89,1503.47 2260.89,47.2441 \n",
       "  \"/>\n",
       "<polyline clip-path=\"url(#clip5002)\" style=\"stroke:#000000; stroke-width:2; stroke-opacity:0.1; fill:none\" points=\"\n",
       "  188.156,1467.53 2321.26,1467.53 \n",
       "  \"/>\n",
       "<polyline clip-path=\"url(#clip5002)\" style=\"stroke:#000000; stroke-width:2; stroke-opacity:0.1; fill:none\" points=\"\n",
       "  188.156,1122.58 2321.26,1122.58 \n",
       "  \"/>\n",
       "<polyline clip-path=\"url(#clip5002)\" style=\"stroke:#000000; stroke-width:2; stroke-opacity:0.1; fill:none\" points=\"\n",
       "  188.156,777.625 2321.26,777.625 \n",
       "  \"/>\n",
       "<polyline clip-path=\"url(#clip5002)\" style=\"stroke:#000000; stroke-width:2; stroke-opacity:0.1; fill:none\" points=\"\n",
       "  188.156,432.673 2321.26,432.673 \n",
       "  \"/>\n",
       "<polyline clip-path=\"url(#clip5002)\" style=\"stroke:#000000; stroke-width:2; stroke-opacity:0.1; fill:none\" points=\"\n",
       "  188.156,87.7218 2321.26,87.7218 \n",
       "  \"/>\n",
       "<polyline clip-path=\"url(#clip5000)\" style=\"stroke:#000000; stroke-width:4; stroke-opacity:1; fill:none\" points=\"\n",
       "  188.156,1503.47 2321.26,1503.47 \n",
       "  \"/>\n",
       "<polyline clip-path=\"url(#clip5000)\" style=\"stroke:#000000; stroke-width:4; stroke-opacity:1; fill:none\" points=\"\n",
       "  188.156,1503.47 188.156,47.2441 \n",
       "  \"/>\n",
       "<polyline clip-path=\"url(#clip5000)\" style=\"stroke:#000000; stroke-width:4; stroke-opacity:1; fill:none\" points=\"\n",
       "  228.2,1503.47 228.2,1481.63 \n",
       "  \"/>\n",
       "<polyline clip-path=\"url(#clip5000)\" style=\"stroke:#000000; stroke-width:4; stroke-opacity:1; fill:none\" points=\"\n",
       "  736.373,1503.47 736.373,1481.63 \n",
       "  \"/>\n",
       "<polyline clip-path=\"url(#clip5000)\" style=\"stroke:#000000; stroke-width:4; stroke-opacity:1; fill:none\" points=\"\n",
       "  1244.54,1503.47 1244.54,1481.63 \n",
       "  \"/>\n",
       "<polyline clip-path=\"url(#clip5000)\" style=\"stroke:#000000; stroke-width:4; stroke-opacity:1; fill:none\" points=\"\n",
       "  1752.72,1503.47 1752.72,1481.63 \n",
       "  \"/>\n",
       "<polyline clip-path=\"url(#clip5000)\" style=\"stroke:#000000; stroke-width:4; stroke-opacity:1; fill:none\" points=\"\n",
       "  2260.89,1503.47 2260.89,1481.63 \n",
       "  \"/>\n",
       "<polyline clip-path=\"url(#clip5000)\" style=\"stroke:#000000; stroke-width:4; stroke-opacity:1; fill:none\" points=\"\n",
       "  188.156,1467.53 220.153,1467.53 \n",
       "  \"/>\n",
       "<polyline clip-path=\"url(#clip5000)\" style=\"stroke:#000000; stroke-width:4; stroke-opacity:1; fill:none\" points=\"\n",
       "  188.156,1122.58 220.153,1122.58 \n",
       "  \"/>\n",
       "<polyline clip-path=\"url(#clip5000)\" style=\"stroke:#000000; stroke-width:4; stroke-opacity:1; fill:none\" points=\"\n",
       "  188.156,777.625 220.153,777.625 \n",
       "  \"/>\n",
       "<polyline clip-path=\"url(#clip5000)\" style=\"stroke:#000000; stroke-width:4; stroke-opacity:1; fill:none\" points=\"\n",
       "  188.156,432.673 220.153,432.673 \n",
       "  \"/>\n",
       "<polyline clip-path=\"url(#clip5000)\" style=\"stroke:#000000; stroke-width:4; stroke-opacity:1; fill:none\" points=\"\n",
       "  188.156,87.7218 220.153,87.7218 \n",
       "  \"/>\n",
       "<g clip-path=\"url(#clip5000)\">\n",
       "<text style=\"fill:#000000; fill-opacity:1; font-family:Arial,Helvetica Neue,Helvetica,sans-serif; font-size:48px; text-anchor:middle;\" transform=\"rotate(0, 228.2, 1557.47)\" x=\"228.2\" y=\"1557.47\">0</text>\n",
       "</g>\n",
       "<g clip-path=\"url(#clip5000)\">\n",
       "<text style=\"fill:#000000; fill-opacity:1; font-family:Arial,Helvetica Neue,Helvetica,sans-serif; font-size:48px; text-anchor:middle;\" transform=\"rotate(0, 736.373, 1557.47)\" x=\"736.373\" y=\"1557.47\">25</text>\n",
       "</g>\n",
       "<g clip-path=\"url(#clip5000)\">\n",
       "<text style=\"fill:#000000; fill-opacity:1; font-family:Arial,Helvetica Neue,Helvetica,sans-serif; font-size:48px; text-anchor:middle;\" transform=\"rotate(0, 1244.54, 1557.47)\" x=\"1244.54\" y=\"1557.47\">50</text>\n",
       "</g>\n",
       "<g clip-path=\"url(#clip5000)\">\n",
       "<text style=\"fill:#000000; fill-opacity:1; font-family:Arial,Helvetica Neue,Helvetica,sans-serif; font-size:48px; text-anchor:middle;\" transform=\"rotate(0, 1752.72, 1557.47)\" x=\"1752.72\" y=\"1557.47\">75</text>\n",
       "</g>\n",
       "<g clip-path=\"url(#clip5000)\">\n",
       "<text style=\"fill:#000000; fill-opacity:1; font-family:Arial,Helvetica Neue,Helvetica,sans-serif; font-size:48px; text-anchor:middle;\" transform=\"rotate(0, 2260.89, 1557.47)\" x=\"2260.89\" y=\"1557.47\">100</text>\n",
       "</g>\n",
       "<g clip-path=\"url(#clip5000)\">\n",
       "<text style=\"fill:#000000; fill-opacity:1; font-family:Arial,Helvetica Neue,Helvetica,sans-serif; font-size:48px; text-anchor:end;\" transform=\"rotate(0, 164.156, 1485.03)\" x=\"164.156\" y=\"1485.03\">0.00</text>\n",
       "</g>\n",
       "<g clip-path=\"url(#clip5000)\">\n",
       "<text style=\"fill:#000000; fill-opacity:1; font-family:Arial,Helvetica Neue,Helvetica,sans-serif; font-size:48px; text-anchor:end;\" transform=\"rotate(0, 164.156, 1140.08)\" x=\"164.156\" y=\"1140.08\">0.25</text>\n",
       "</g>\n",
       "<g clip-path=\"url(#clip5000)\">\n",
       "<text style=\"fill:#000000; fill-opacity:1; font-family:Arial,Helvetica Neue,Helvetica,sans-serif; font-size:48px; text-anchor:end;\" transform=\"rotate(0, 164.156, 795.125)\" x=\"164.156\" y=\"795.125\">0.50</text>\n",
       "</g>\n",
       "<g clip-path=\"url(#clip5000)\">\n",
       "<text style=\"fill:#000000; fill-opacity:1; font-family:Arial,Helvetica Neue,Helvetica,sans-serif; font-size:48px; text-anchor:end;\" transform=\"rotate(0, 164.156, 450.173)\" x=\"164.156\" y=\"450.173\">0.75</text>\n",
       "</g>\n",
       "<g clip-path=\"url(#clip5000)\">\n",
       "<text style=\"fill:#000000; fill-opacity:1; font-family:Arial,Helvetica Neue,Helvetica,sans-serif; font-size:48px; text-anchor:end;\" transform=\"rotate(0, 164.156, 105.222)\" x=\"164.156\" y=\"105.222\">1.00</text>\n",
       "</g>\n",
       "<polyline clip-path=\"url(#clip5002)\" style=\"stroke:#009af9; stroke-width:4; stroke-opacity:1; fill:none\" points=\"\n",
       "  248.527,1015.2 289.596,906.852 330.664,578.541 371.733,1443.93 412.802,1386.52 453.87,785.993 494.939,1112.94 536.007,930.975 577.076,751.817 618.145,1145.38 \n",
       "  659.213,616.836 700.282,1341.79 741.351,1382.07 782.419,535.138 823.488,1433.78 864.556,1383.53 905.625,247.31 946.694,1166.66 987.762,636.714 1028.83,386.229 \n",
       "  1069.9,844.05 1110.97,1179.04 1152.04,1053.28 1193.11,831.795 1234.17,978.622 1275.24,1001.97 1316.31,488.258 1357.38,419.782 1398.45,122.059 1439.52,535.984 \n",
       "  1480.59,1048.74 1521.65,176.047 1562.72,1173.15 1603.79,392.645 1644.86,202.342 1685.93,773.592 1727,990.849 1768.07,178.964 1809.13,584.577 1850.2,456.079 \n",
       "  1891.27,148.341 1932.34,1295.21 1973.41,276.844 2014.48,1136.49 2055.55,1062.45 2096.61,957.105 2137.68,1414.21 2178.75,1319.58 2219.82,514.323 2260.89,895.702 \n",
       "  \n",
       "  \"/>\n",
       "<circle clip-path=\"url(#clip5002)\" style=\"fill:#000000; stroke:none; fill-opacity:1\" cx=\"248.527\" cy=\"1015.2\" r=\"18\"/>\n",
       "<circle clip-path=\"url(#clip5002)\" style=\"fill:#009af9; stroke:none; fill-opacity:1\" cx=\"248.527\" cy=\"1015.2\" r=\"14\"/>\n",
       "<circle clip-path=\"url(#clip5002)\" style=\"fill:#000000; stroke:none; fill-opacity:1\" cx=\"289.596\" cy=\"906.852\" r=\"18\"/>\n",
       "<circle clip-path=\"url(#clip5002)\" style=\"fill:#009af9; stroke:none; fill-opacity:1\" cx=\"289.596\" cy=\"906.852\" r=\"14\"/>\n",
       "<circle clip-path=\"url(#clip5002)\" style=\"fill:#000000; stroke:none; fill-opacity:1\" cx=\"330.664\" cy=\"578.541\" r=\"18\"/>\n",
       "<circle clip-path=\"url(#clip5002)\" style=\"fill:#009af9; stroke:none; fill-opacity:1\" cx=\"330.664\" cy=\"578.541\" r=\"14\"/>\n",
       "<circle clip-path=\"url(#clip5002)\" style=\"fill:#000000; stroke:none; fill-opacity:1\" cx=\"371.733\" cy=\"1443.93\" r=\"18\"/>\n",
       "<circle clip-path=\"url(#clip5002)\" style=\"fill:#009af9; stroke:none; fill-opacity:1\" cx=\"371.733\" cy=\"1443.93\" r=\"14\"/>\n",
       "<circle clip-path=\"url(#clip5002)\" style=\"fill:#000000; stroke:none; fill-opacity:1\" cx=\"412.802\" cy=\"1386.52\" r=\"18\"/>\n",
       "<circle clip-path=\"url(#clip5002)\" style=\"fill:#009af9; stroke:none; fill-opacity:1\" cx=\"412.802\" cy=\"1386.52\" r=\"14\"/>\n",
       "<circle clip-path=\"url(#clip5002)\" style=\"fill:#000000; stroke:none; fill-opacity:1\" cx=\"453.87\" cy=\"785.993\" r=\"18\"/>\n",
       "<circle clip-path=\"url(#clip5002)\" style=\"fill:#009af9; stroke:none; fill-opacity:1\" cx=\"453.87\" cy=\"785.993\" r=\"14\"/>\n",
       "<circle clip-path=\"url(#clip5002)\" style=\"fill:#000000; stroke:none; fill-opacity:1\" cx=\"494.939\" cy=\"1112.94\" r=\"18\"/>\n",
       "<circle clip-path=\"url(#clip5002)\" style=\"fill:#009af9; stroke:none; fill-opacity:1\" cx=\"494.939\" cy=\"1112.94\" r=\"14\"/>\n",
       "<circle clip-path=\"url(#clip5002)\" style=\"fill:#000000; stroke:none; fill-opacity:1\" cx=\"536.007\" cy=\"930.975\" r=\"18\"/>\n",
       "<circle clip-path=\"url(#clip5002)\" style=\"fill:#009af9; stroke:none; fill-opacity:1\" cx=\"536.007\" cy=\"930.975\" r=\"14\"/>\n",
       "<circle clip-path=\"url(#clip5002)\" style=\"fill:#000000; stroke:none; fill-opacity:1\" cx=\"577.076\" cy=\"751.817\" r=\"18\"/>\n",
       "<circle clip-path=\"url(#clip5002)\" style=\"fill:#009af9; stroke:none; fill-opacity:1\" cx=\"577.076\" cy=\"751.817\" r=\"14\"/>\n",
       "<circle clip-path=\"url(#clip5002)\" style=\"fill:#000000; stroke:none; fill-opacity:1\" cx=\"618.145\" cy=\"1145.38\" r=\"18\"/>\n",
       "<circle clip-path=\"url(#clip5002)\" style=\"fill:#009af9; stroke:none; fill-opacity:1\" cx=\"618.145\" cy=\"1145.38\" r=\"14\"/>\n",
       "<circle clip-path=\"url(#clip5002)\" style=\"fill:#000000; stroke:none; fill-opacity:1\" cx=\"659.213\" cy=\"616.836\" r=\"18\"/>\n",
       "<circle clip-path=\"url(#clip5002)\" style=\"fill:#009af9; stroke:none; fill-opacity:1\" cx=\"659.213\" cy=\"616.836\" r=\"14\"/>\n",
       "<circle clip-path=\"url(#clip5002)\" style=\"fill:#000000; stroke:none; fill-opacity:1\" cx=\"700.282\" cy=\"1341.79\" r=\"18\"/>\n",
       "<circle clip-path=\"url(#clip5002)\" style=\"fill:#009af9; stroke:none; fill-opacity:1\" cx=\"700.282\" cy=\"1341.79\" r=\"14\"/>\n",
       "<circle clip-path=\"url(#clip5002)\" style=\"fill:#000000; stroke:none; fill-opacity:1\" cx=\"741.351\" cy=\"1382.07\" r=\"18\"/>\n",
       "<circle clip-path=\"url(#clip5002)\" style=\"fill:#009af9; stroke:none; fill-opacity:1\" cx=\"741.351\" cy=\"1382.07\" r=\"14\"/>\n",
       "<circle clip-path=\"url(#clip5002)\" style=\"fill:#000000; stroke:none; fill-opacity:1\" cx=\"782.419\" cy=\"535.138\" r=\"18\"/>\n",
       "<circle clip-path=\"url(#clip5002)\" style=\"fill:#009af9; stroke:none; fill-opacity:1\" cx=\"782.419\" cy=\"535.138\" r=\"14\"/>\n",
       "<circle clip-path=\"url(#clip5002)\" style=\"fill:#000000; stroke:none; fill-opacity:1\" cx=\"823.488\" cy=\"1433.78\" r=\"18\"/>\n",
       "<circle clip-path=\"url(#clip5002)\" style=\"fill:#009af9; stroke:none; fill-opacity:1\" cx=\"823.488\" cy=\"1433.78\" r=\"14\"/>\n",
       "<circle clip-path=\"url(#clip5002)\" style=\"fill:#000000; stroke:none; fill-opacity:1\" cx=\"864.556\" cy=\"1383.53\" r=\"18\"/>\n",
       "<circle clip-path=\"url(#clip5002)\" style=\"fill:#009af9; stroke:none; fill-opacity:1\" cx=\"864.556\" cy=\"1383.53\" r=\"14\"/>\n",
       "<circle clip-path=\"url(#clip5002)\" style=\"fill:#000000; stroke:none; fill-opacity:1\" cx=\"905.625\" cy=\"247.31\" r=\"18\"/>\n",
       "<circle clip-path=\"url(#clip5002)\" style=\"fill:#009af9; stroke:none; fill-opacity:1\" cx=\"905.625\" cy=\"247.31\" r=\"14\"/>\n",
       "<circle clip-path=\"url(#clip5002)\" style=\"fill:#000000; stroke:none; fill-opacity:1\" cx=\"946.694\" cy=\"1166.66\" r=\"18\"/>\n",
       "<circle clip-path=\"url(#clip5002)\" style=\"fill:#009af9; stroke:none; fill-opacity:1\" cx=\"946.694\" cy=\"1166.66\" r=\"14\"/>\n",
       "<circle clip-path=\"url(#clip5002)\" style=\"fill:#000000; stroke:none; fill-opacity:1\" cx=\"987.762\" cy=\"636.714\" r=\"18\"/>\n",
       "<circle clip-path=\"url(#clip5002)\" style=\"fill:#009af9; stroke:none; fill-opacity:1\" cx=\"987.762\" cy=\"636.714\" r=\"14\"/>\n",
       "<circle clip-path=\"url(#clip5002)\" style=\"fill:#000000; stroke:none; fill-opacity:1\" cx=\"1028.83\" cy=\"386.229\" r=\"18\"/>\n",
       "<circle clip-path=\"url(#clip5002)\" style=\"fill:#009af9; stroke:none; fill-opacity:1\" cx=\"1028.83\" cy=\"386.229\" r=\"14\"/>\n",
       "<circle clip-path=\"url(#clip5002)\" style=\"fill:#000000; stroke:none; fill-opacity:1\" cx=\"1069.9\" cy=\"844.05\" r=\"18\"/>\n",
       "<circle clip-path=\"url(#clip5002)\" style=\"fill:#009af9; stroke:none; fill-opacity:1\" cx=\"1069.9\" cy=\"844.05\" r=\"14\"/>\n",
       "<circle clip-path=\"url(#clip5002)\" style=\"fill:#000000; stroke:none; fill-opacity:1\" cx=\"1110.97\" cy=\"1179.04\" r=\"18\"/>\n",
       "<circle clip-path=\"url(#clip5002)\" style=\"fill:#009af9; stroke:none; fill-opacity:1\" cx=\"1110.97\" cy=\"1179.04\" r=\"14\"/>\n",
       "<circle clip-path=\"url(#clip5002)\" style=\"fill:#000000; stroke:none; fill-opacity:1\" cx=\"1152.04\" cy=\"1053.28\" r=\"18\"/>\n",
       "<circle clip-path=\"url(#clip5002)\" style=\"fill:#009af9; stroke:none; fill-opacity:1\" cx=\"1152.04\" cy=\"1053.28\" r=\"14\"/>\n",
       "<circle clip-path=\"url(#clip5002)\" style=\"fill:#000000; stroke:none; fill-opacity:1\" cx=\"1193.11\" cy=\"831.795\" r=\"18\"/>\n",
       "<circle clip-path=\"url(#clip5002)\" style=\"fill:#009af9; stroke:none; fill-opacity:1\" cx=\"1193.11\" cy=\"831.795\" r=\"14\"/>\n",
       "<circle clip-path=\"url(#clip5002)\" style=\"fill:#000000; stroke:none; fill-opacity:1\" cx=\"1234.17\" cy=\"978.622\" r=\"18\"/>\n",
       "<circle clip-path=\"url(#clip5002)\" style=\"fill:#009af9; stroke:none; fill-opacity:1\" cx=\"1234.17\" cy=\"978.622\" r=\"14\"/>\n",
       "<circle clip-path=\"url(#clip5002)\" style=\"fill:#000000; stroke:none; fill-opacity:1\" cx=\"1275.24\" cy=\"1001.97\" r=\"18\"/>\n",
       "<circle clip-path=\"url(#clip5002)\" style=\"fill:#009af9; stroke:none; fill-opacity:1\" cx=\"1275.24\" cy=\"1001.97\" r=\"14\"/>\n",
       "<circle clip-path=\"url(#clip5002)\" style=\"fill:#000000; stroke:none; fill-opacity:1\" cx=\"1316.31\" cy=\"488.258\" r=\"18\"/>\n",
       "<circle clip-path=\"url(#clip5002)\" style=\"fill:#009af9; stroke:none; fill-opacity:1\" cx=\"1316.31\" cy=\"488.258\" r=\"14\"/>\n",
       "<circle clip-path=\"url(#clip5002)\" style=\"fill:#000000; stroke:none; fill-opacity:1\" cx=\"1357.38\" cy=\"419.782\" r=\"18\"/>\n",
       "<circle clip-path=\"url(#clip5002)\" style=\"fill:#009af9; stroke:none; fill-opacity:1\" cx=\"1357.38\" cy=\"419.782\" r=\"14\"/>\n",
       "<circle clip-path=\"url(#clip5002)\" style=\"fill:#000000; stroke:none; fill-opacity:1\" cx=\"1398.45\" cy=\"122.059\" r=\"18\"/>\n",
       "<circle clip-path=\"url(#clip5002)\" style=\"fill:#009af9; stroke:none; fill-opacity:1\" cx=\"1398.45\" cy=\"122.059\" r=\"14\"/>\n",
       "<circle clip-path=\"url(#clip5002)\" style=\"fill:#000000; stroke:none; fill-opacity:1\" cx=\"1439.52\" cy=\"535.984\" r=\"18\"/>\n",
       "<circle clip-path=\"url(#clip5002)\" style=\"fill:#009af9; stroke:none; fill-opacity:1\" cx=\"1439.52\" cy=\"535.984\" r=\"14\"/>\n",
       "<circle clip-path=\"url(#clip5002)\" style=\"fill:#000000; stroke:none; fill-opacity:1\" cx=\"1480.59\" cy=\"1048.74\" r=\"18\"/>\n",
       "<circle clip-path=\"url(#clip5002)\" style=\"fill:#009af9; stroke:none; fill-opacity:1\" cx=\"1480.59\" cy=\"1048.74\" r=\"14\"/>\n",
       "<circle clip-path=\"url(#clip5002)\" style=\"fill:#000000; stroke:none; fill-opacity:1\" cx=\"1521.65\" cy=\"176.047\" r=\"18\"/>\n",
       "<circle clip-path=\"url(#clip5002)\" style=\"fill:#009af9; stroke:none; fill-opacity:1\" cx=\"1521.65\" cy=\"176.047\" r=\"14\"/>\n",
       "<circle clip-path=\"url(#clip5002)\" style=\"fill:#000000; stroke:none; fill-opacity:1\" cx=\"1562.72\" cy=\"1173.15\" r=\"18\"/>\n",
       "<circle clip-path=\"url(#clip5002)\" style=\"fill:#009af9; stroke:none; fill-opacity:1\" cx=\"1562.72\" cy=\"1173.15\" r=\"14\"/>\n",
       "<circle clip-path=\"url(#clip5002)\" style=\"fill:#000000; stroke:none; fill-opacity:1\" cx=\"1603.79\" cy=\"392.645\" r=\"18\"/>\n",
       "<circle clip-path=\"url(#clip5002)\" style=\"fill:#009af9; stroke:none; fill-opacity:1\" cx=\"1603.79\" cy=\"392.645\" r=\"14\"/>\n",
       "<circle clip-path=\"url(#clip5002)\" style=\"fill:#000000; stroke:none; fill-opacity:1\" cx=\"1644.86\" cy=\"202.342\" r=\"18\"/>\n",
       "<circle clip-path=\"url(#clip5002)\" style=\"fill:#009af9; stroke:none; fill-opacity:1\" cx=\"1644.86\" cy=\"202.342\" r=\"14\"/>\n",
       "<circle clip-path=\"url(#clip5002)\" style=\"fill:#000000; stroke:none; fill-opacity:1\" cx=\"1685.93\" cy=\"773.592\" r=\"18\"/>\n",
       "<circle clip-path=\"url(#clip5002)\" style=\"fill:#009af9; stroke:none; fill-opacity:1\" cx=\"1685.93\" cy=\"773.592\" r=\"14\"/>\n",
       "<circle clip-path=\"url(#clip5002)\" style=\"fill:#000000; stroke:none; fill-opacity:1\" cx=\"1727\" cy=\"990.849\" r=\"18\"/>\n",
       "<circle clip-path=\"url(#clip5002)\" style=\"fill:#009af9; stroke:none; fill-opacity:1\" cx=\"1727\" cy=\"990.849\" r=\"14\"/>\n",
       "<circle clip-path=\"url(#clip5002)\" style=\"fill:#000000; stroke:none; fill-opacity:1\" cx=\"1768.07\" cy=\"178.964\" r=\"18\"/>\n",
       "<circle clip-path=\"url(#clip5002)\" style=\"fill:#009af9; stroke:none; fill-opacity:1\" cx=\"1768.07\" cy=\"178.964\" r=\"14\"/>\n",
       "<circle clip-path=\"url(#clip5002)\" style=\"fill:#000000; stroke:none; fill-opacity:1\" cx=\"1809.13\" cy=\"584.577\" r=\"18\"/>\n",
       "<circle clip-path=\"url(#clip5002)\" style=\"fill:#009af9; stroke:none; fill-opacity:1\" cx=\"1809.13\" cy=\"584.577\" r=\"14\"/>\n",
       "<circle clip-path=\"url(#clip5002)\" style=\"fill:#000000; stroke:none; fill-opacity:1\" cx=\"1850.2\" cy=\"456.079\" r=\"18\"/>\n",
       "<circle clip-path=\"url(#clip5002)\" style=\"fill:#009af9; stroke:none; fill-opacity:1\" cx=\"1850.2\" cy=\"456.079\" r=\"14\"/>\n",
       "<circle clip-path=\"url(#clip5002)\" style=\"fill:#000000; stroke:none; fill-opacity:1\" cx=\"1891.27\" cy=\"148.341\" r=\"18\"/>\n",
       "<circle clip-path=\"url(#clip5002)\" style=\"fill:#009af9; stroke:none; fill-opacity:1\" cx=\"1891.27\" cy=\"148.341\" r=\"14\"/>\n",
       "<circle clip-path=\"url(#clip5002)\" style=\"fill:#000000; stroke:none; fill-opacity:1\" cx=\"1932.34\" cy=\"1295.21\" r=\"18\"/>\n",
       "<circle clip-path=\"url(#clip5002)\" style=\"fill:#009af9; stroke:none; fill-opacity:1\" cx=\"1932.34\" cy=\"1295.21\" r=\"14\"/>\n",
       "<circle clip-path=\"url(#clip5002)\" style=\"fill:#000000; stroke:none; fill-opacity:1\" cx=\"1973.41\" cy=\"276.844\" r=\"18\"/>\n",
       "<circle clip-path=\"url(#clip5002)\" style=\"fill:#009af9; stroke:none; fill-opacity:1\" cx=\"1973.41\" cy=\"276.844\" r=\"14\"/>\n",
       "<circle clip-path=\"url(#clip5002)\" style=\"fill:#000000; stroke:none; fill-opacity:1\" cx=\"2014.48\" cy=\"1136.49\" r=\"18\"/>\n",
       "<circle clip-path=\"url(#clip5002)\" style=\"fill:#009af9; stroke:none; fill-opacity:1\" cx=\"2014.48\" cy=\"1136.49\" r=\"14\"/>\n",
       "<circle clip-path=\"url(#clip5002)\" style=\"fill:#000000; stroke:none; fill-opacity:1\" cx=\"2055.55\" cy=\"1062.45\" r=\"18\"/>\n",
       "<circle clip-path=\"url(#clip5002)\" style=\"fill:#009af9; stroke:none; fill-opacity:1\" cx=\"2055.55\" cy=\"1062.45\" r=\"14\"/>\n",
       "<circle clip-path=\"url(#clip5002)\" style=\"fill:#000000; stroke:none; fill-opacity:1\" cx=\"2096.61\" cy=\"957.105\" r=\"18\"/>\n",
       "<circle clip-path=\"url(#clip5002)\" style=\"fill:#009af9; stroke:none; fill-opacity:1\" cx=\"2096.61\" cy=\"957.105\" r=\"14\"/>\n",
       "<circle clip-path=\"url(#clip5002)\" style=\"fill:#000000; stroke:none; fill-opacity:1\" cx=\"2137.68\" cy=\"1414.21\" r=\"18\"/>\n",
       "<circle clip-path=\"url(#clip5002)\" style=\"fill:#009af9; stroke:none; fill-opacity:1\" cx=\"2137.68\" cy=\"1414.21\" r=\"14\"/>\n",
       "<circle clip-path=\"url(#clip5002)\" style=\"fill:#000000; stroke:none; fill-opacity:1\" cx=\"2178.75\" cy=\"1319.58\" r=\"18\"/>\n",
       "<circle clip-path=\"url(#clip5002)\" style=\"fill:#009af9; stroke:none; fill-opacity:1\" cx=\"2178.75\" cy=\"1319.58\" r=\"14\"/>\n",
       "<circle clip-path=\"url(#clip5002)\" style=\"fill:#000000; stroke:none; fill-opacity:1\" cx=\"2219.82\" cy=\"514.323\" r=\"18\"/>\n",
       "<circle clip-path=\"url(#clip5002)\" style=\"fill:#009af9; stroke:none; fill-opacity:1\" cx=\"2219.82\" cy=\"514.323\" r=\"14\"/>\n",
       "<circle clip-path=\"url(#clip5002)\" style=\"fill:#000000; stroke:none; fill-opacity:1\" cx=\"2260.89\" cy=\"895.702\" r=\"18\"/>\n",
       "<circle clip-path=\"url(#clip5002)\" style=\"fill:#009af9; stroke:none; fill-opacity:1\" cx=\"2260.89\" cy=\"895.702\" r=\"14\"/>\n",
       "<polyline clip-path=\"url(#clip5002)\" style=\"stroke:#e26f46; stroke-width:4; stroke-opacity:1; fill:none\" points=\"\n",
       "  248.527,643.724 289.596,749.619 330.664,221.223 371.733,1199.49 412.802,840.09 453.87,160.581 494.939,480.54 536.007,131.642 577.076,147.779 618.145,1080.92 \n",
       "  659.213,1258.66 700.282,244.346 741.351,772.616 782.419,891.685 823.488,955.662 864.556,1032.51 905.625,250.902 946.694,88.4582 987.762,1146.03 1028.83,1443.6 \n",
       "  1069.9,1413.9 1110.97,854.363 1152.04,674.596 1193.11,620.31 1234.17,285.176 1275.24,862.818 1316.31,835.021 1357.38,902.053 1398.45,1291.54 1439.52,634.291 \n",
       "  1480.59,865.859 1521.65,1217.37 1562.72,509.203 1603.79,641.629 1644.86,1417.98 1685.93,943.47 1727,935.798 1768.07,1101.21 1809.13,726.651 1850.2,653.175 \n",
       "  1891.27,439.906 1932.34,1462.26 1973.41,221.001 2014.48,619.971 2055.55,1000.62 2096.61,327.086 2137.68,1077.92 2178.75,1216.42 2219.82,782.588 2260.89,620.461 \n",
       "  \n",
       "  \"/>\n",
       "<circle clip-path=\"url(#clip5002)\" style=\"fill:#000000; stroke:none; fill-opacity:1\" cx=\"248.527\" cy=\"643.724\" r=\"18\"/>\n",
       "<circle clip-path=\"url(#clip5002)\" style=\"fill:#e26f46; stroke:none; fill-opacity:1\" cx=\"248.527\" cy=\"643.724\" r=\"14\"/>\n",
       "<circle clip-path=\"url(#clip5002)\" style=\"fill:#000000; stroke:none; fill-opacity:1\" cx=\"289.596\" cy=\"749.619\" r=\"18\"/>\n",
       "<circle clip-path=\"url(#clip5002)\" style=\"fill:#e26f46; stroke:none; fill-opacity:1\" cx=\"289.596\" cy=\"749.619\" r=\"14\"/>\n",
       "<circle clip-path=\"url(#clip5002)\" style=\"fill:#000000; stroke:none; fill-opacity:1\" cx=\"330.664\" cy=\"221.223\" r=\"18\"/>\n",
       "<circle clip-path=\"url(#clip5002)\" style=\"fill:#e26f46; stroke:none; fill-opacity:1\" cx=\"330.664\" cy=\"221.223\" r=\"14\"/>\n",
       "<circle clip-path=\"url(#clip5002)\" style=\"fill:#000000; stroke:none; fill-opacity:1\" cx=\"371.733\" cy=\"1199.49\" r=\"18\"/>\n",
       "<circle clip-path=\"url(#clip5002)\" style=\"fill:#e26f46; stroke:none; fill-opacity:1\" cx=\"371.733\" cy=\"1199.49\" r=\"14\"/>\n",
       "<circle clip-path=\"url(#clip5002)\" style=\"fill:#000000; stroke:none; fill-opacity:1\" cx=\"412.802\" cy=\"840.09\" r=\"18\"/>\n",
       "<circle clip-path=\"url(#clip5002)\" style=\"fill:#e26f46; stroke:none; fill-opacity:1\" cx=\"412.802\" cy=\"840.09\" r=\"14\"/>\n",
       "<circle clip-path=\"url(#clip5002)\" style=\"fill:#000000; stroke:none; fill-opacity:1\" cx=\"453.87\" cy=\"160.581\" r=\"18\"/>\n",
       "<circle clip-path=\"url(#clip5002)\" style=\"fill:#e26f46; stroke:none; fill-opacity:1\" cx=\"453.87\" cy=\"160.581\" r=\"14\"/>\n",
       "<circle clip-path=\"url(#clip5002)\" style=\"fill:#000000; stroke:none; fill-opacity:1\" cx=\"494.939\" cy=\"480.54\" r=\"18\"/>\n",
       "<circle clip-path=\"url(#clip5002)\" style=\"fill:#e26f46; stroke:none; fill-opacity:1\" cx=\"494.939\" cy=\"480.54\" r=\"14\"/>\n",
       "<circle clip-path=\"url(#clip5002)\" style=\"fill:#000000; stroke:none; fill-opacity:1\" cx=\"536.007\" cy=\"131.642\" r=\"18\"/>\n",
       "<circle clip-path=\"url(#clip5002)\" style=\"fill:#e26f46; stroke:none; fill-opacity:1\" cx=\"536.007\" cy=\"131.642\" r=\"14\"/>\n",
       "<circle clip-path=\"url(#clip5002)\" style=\"fill:#000000; stroke:none; fill-opacity:1\" cx=\"577.076\" cy=\"147.779\" r=\"18\"/>\n",
       "<circle clip-path=\"url(#clip5002)\" style=\"fill:#e26f46; stroke:none; fill-opacity:1\" cx=\"577.076\" cy=\"147.779\" r=\"14\"/>\n",
       "<circle clip-path=\"url(#clip5002)\" style=\"fill:#000000; stroke:none; fill-opacity:1\" cx=\"618.145\" cy=\"1080.92\" r=\"18\"/>\n",
       "<circle clip-path=\"url(#clip5002)\" style=\"fill:#e26f46; stroke:none; fill-opacity:1\" cx=\"618.145\" cy=\"1080.92\" r=\"14\"/>\n",
       "<circle clip-path=\"url(#clip5002)\" style=\"fill:#000000; stroke:none; fill-opacity:1\" cx=\"659.213\" cy=\"1258.66\" r=\"18\"/>\n",
       "<circle clip-path=\"url(#clip5002)\" style=\"fill:#e26f46; stroke:none; fill-opacity:1\" cx=\"659.213\" cy=\"1258.66\" r=\"14\"/>\n",
       "<circle clip-path=\"url(#clip5002)\" style=\"fill:#000000; stroke:none; fill-opacity:1\" cx=\"700.282\" cy=\"244.346\" r=\"18\"/>\n",
       "<circle clip-path=\"url(#clip5002)\" style=\"fill:#e26f46; stroke:none; fill-opacity:1\" cx=\"700.282\" cy=\"244.346\" r=\"14\"/>\n",
       "<circle clip-path=\"url(#clip5002)\" style=\"fill:#000000; stroke:none; fill-opacity:1\" cx=\"741.351\" cy=\"772.616\" r=\"18\"/>\n",
       "<circle clip-path=\"url(#clip5002)\" style=\"fill:#e26f46; stroke:none; fill-opacity:1\" cx=\"741.351\" cy=\"772.616\" r=\"14\"/>\n",
       "<circle clip-path=\"url(#clip5002)\" style=\"fill:#000000; stroke:none; fill-opacity:1\" cx=\"782.419\" cy=\"891.685\" r=\"18\"/>\n",
       "<circle clip-path=\"url(#clip5002)\" style=\"fill:#e26f46; stroke:none; fill-opacity:1\" cx=\"782.419\" cy=\"891.685\" r=\"14\"/>\n",
       "<circle clip-path=\"url(#clip5002)\" style=\"fill:#000000; stroke:none; fill-opacity:1\" cx=\"823.488\" cy=\"955.662\" r=\"18\"/>\n",
       "<circle clip-path=\"url(#clip5002)\" style=\"fill:#e26f46; stroke:none; fill-opacity:1\" cx=\"823.488\" cy=\"955.662\" r=\"14\"/>\n",
       "<circle clip-path=\"url(#clip5002)\" style=\"fill:#000000; stroke:none; fill-opacity:1\" cx=\"864.556\" cy=\"1032.51\" r=\"18\"/>\n",
       "<circle clip-path=\"url(#clip5002)\" style=\"fill:#e26f46; stroke:none; fill-opacity:1\" cx=\"864.556\" cy=\"1032.51\" r=\"14\"/>\n",
       "<circle clip-path=\"url(#clip5002)\" style=\"fill:#000000; stroke:none; fill-opacity:1\" cx=\"905.625\" cy=\"250.902\" r=\"18\"/>\n",
       "<circle clip-path=\"url(#clip5002)\" style=\"fill:#e26f46; stroke:none; fill-opacity:1\" cx=\"905.625\" cy=\"250.902\" r=\"14\"/>\n",
       "<circle clip-path=\"url(#clip5002)\" style=\"fill:#000000; stroke:none; fill-opacity:1\" cx=\"946.694\" cy=\"88.4582\" r=\"18\"/>\n",
       "<circle clip-path=\"url(#clip5002)\" style=\"fill:#e26f46; stroke:none; fill-opacity:1\" cx=\"946.694\" cy=\"88.4582\" r=\"14\"/>\n",
       "<circle clip-path=\"url(#clip5002)\" style=\"fill:#000000; stroke:none; fill-opacity:1\" cx=\"987.762\" cy=\"1146.03\" r=\"18\"/>\n",
       "<circle clip-path=\"url(#clip5002)\" style=\"fill:#e26f46; stroke:none; fill-opacity:1\" cx=\"987.762\" cy=\"1146.03\" r=\"14\"/>\n",
       "<circle clip-path=\"url(#clip5002)\" style=\"fill:#000000; stroke:none; fill-opacity:1\" cx=\"1028.83\" cy=\"1443.6\" r=\"18\"/>\n",
       "<circle clip-path=\"url(#clip5002)\" style=\"fill:#e26f46; stroke:none; fill-opacity:1\" cx=\"1028.83\" cy=\"1443.6\" r=\"14\"/>\n",
       "<circle clip-path=\"url(#clip5002)\" style=\"fill:#000000; stroke:none; fill-opacity:1\" cx=\"1069.9\" cy=\"1413.9\" r=\"18\"/>\n",
       "<circle clip-path=\"url(#clip5002)\" style=\"fill:#e26f46; stroke:none; fill-opacity:1\" cx=\"1069.9\" cy=\"1413.9\" r=\"14\"/>\n",
       "<circle clip-path=\"url(#clip5002)\" style=\"fill:#000000; stroke:none; fill-opacity:1\" cx=\"1110.97\" cy=\"854.363\" r=\"18\"/>\n",
       "<circle clip-path=\"url(#clip5002)\" style=\"fill:#e26f46; stroke:none; fill-opacity:1\" cx=\"1110.97\" cy=\"854.363\" r=\"14\"/>\n",
       "<circle clip-path=\"url(#clip5002)\" style=\"fill:#000000; stroke:none; fill-opacity:1\" cx=\"1152.04\" cy=\"674.596\" r=\"18\"/>\n",
       "<circle clip-path=\"url(#clip5002)\" style=\"fill:#e26f46; stroke:none; fill-opacity:1\" cx=\"1152.04\" cy=\"674.596\" r=\"14\"/>\n",
       "<circle clip-path=\"url(#clip5002)\" style=\"fill:#000000; stroke:none; fill-opacity:1\" cx=\"1193.11\" cy=\"620.31\" r=\"18\"/>\n",
       "<circle clip-path=\"url(#clip5002)\" style=\"fill:#e26f46; stroke:none; fill-opacity:1\" cx=\"1193.11\" cy=\"620.31\" r=\"14\"/>\n",
       "<circle clip-path=\"url(#clip5002)\" style=\"fill:#000000; stroke:none; fill-opacity:1\" cx=\"1234.17\" cy=\"285.176\" r=\"18\"/>\n",
       "<circle clip-path=\"url(#clip5002)\" style=\"fill:#e26f46; stroke:none; fill-opacity:1\" cx=\"1234.17\" cy=\"285.176\" r=\"14\"/>\n",
       "<circle clip-path=\"url(#clip5002)\" style=\"fill:#000000; stroke:none; fill-opacity:1\" cx=\"1275.24\" cy=\"862.818\" r=\"18\"/>\n",
       "<circle clip-path=\"url(#clip5002)\" style=\"fill:#e26f46; stroke:none; fill-opacity:1\" cx=\"1275.24\" cy=\"862.818\" r=\"14\"/>\n",
       "<circle clip-path=\"url(#clip5002)\" style=\"fill:#000000; stroke:none; fill-opacity:1\" cx=\"1316.31\" cy=\"835.021\" r=\"18\"/>\n",
       "<circle clip-path=\"url(#clip5002)\" style=\"fill:#e26f46; stroke:none; fill-opacity:1\" cx=\"1316.31\" cy=\"835.021\" r=\"14\"/>\n",
       "<circle clip-path=\"url(#clip5002)\" style=\"fill:#000000; stroke:none; fill-opacity:1\" cx=\"1357.38\" cy=\"902.053\" r=\"18\"/>\n",
       "<circle clip-path=\"url(#clip5002)\" style=\"fill:#e26f46; stroke:none; fill-opacity:1\" cx=\"1357.38\" cy=\"902.053\" r=\"14\"/>\n",
       "<circle clip-path=\"url(#clip5002)\" style=\"fill:#000000; stroke:none; fill-opacity:1\" cx=\"1398.45\" cy=\"1291.54\" r=\"18\"/>\n",
       "<circle clip-path=\"url(#clip5002)\" style=\"fill:#e26f46; stroke:none; fill-opacity:1\" cx=\"1398.45\" cy=\"1291.54\" r=\"14\"/>\n",
       "<circle clip-path=\"url(#clip5002)\" style=\"fill:#000000; stroke:none; fill-opacity:1\" cx=\"1439.52\" cy=\"634.291\" r=\"18\"/>\n",
       "<circle clip-path=\"url(#clip5002)\" style=\"fill:#e26f46; stroke:none; fill-opacity:1\" cx=\"1439.52\" cy=\"634.291\" r=\"14\"/>\n",
       "<circle clip-path=\"url(#clip5002)\" style=\"fill:#000000; stroke:none; fill-opacity:1\" cx=\"1480.59\" cy=\"865.859\" r=\"18\"/>\n",
       "<circle clip-path=\"url(#clip5002)\" style=\"fill:#e26f46; stroke:none; fill-opacity:1\" cx=\"1480.59\" cy=\"865.859\" r=\"14\"/>\n",
       "<circle clip-path=\"url(#clip5002)\" style=\"fill:#000000; stroke:none; fill-opacity:1\" cx=\"1521.65\" cy=\"1217.37\" r=\"18\"/>\n",
       "<circle clip-path=\"url(#clip5002)\" style=\"fill:#e26f46; stroke:none; fill-opacity:1\" cx=\"1521.65\" cy=\"1217.37\" r=\"14\"/>\n",
       "<circle clip-path=\"url(#clip5002)\" style=\"fill:#000000; stroke:none; fill-opacity:1\" cx=\"1562.72\" cy=\"509.203\" r=\"18\"/>\n",
       "<circle clip-path=\"url(#clip5002)\" style=\"fill:#e26f46; stroke:none; fill-opacity:1\" cx=\"1562.72\" cy=\"509.203\" r=\"14\"/>\n",
       "<circle clip-path=\"url(#clip5002)\" style=\"fill:#000000; stroke:none; fill-opacity:1\" cx=\"1603.79\" cy=\"641.629\" r=\"18\"/>\n",
       "<circle clip-path=\"url(#clip5002)\" style=\"fill:#e26f46; stroke:none; fill-opacity:1\" cx=\"1603.79\" cy=\"641.629\" r=\"14\"/>\n",
       "<circle clip-path=\"url(#clip5002)\" style=\"fill:#000000; stroke:none; fill-opacity:1\" cx=\"1644.86\" cy=\"1417.98\" r=\"18\"/>\n",
       "<circle clip-path=\"url(#clip5002)\" style=\"fill:#e26f46; stroke:none; fill-opacity:1\" cx=\"1644.86\" cy=\"1417.98\" r=\"14\"/>\n",
       "<circle clip-path=\"url(#clip5002)\" style=\"fill:#000000; stroke:none; fill-opacity:1\" cx=\"1685.93\" cy=\"943.47\" r=\"18\"/>\n",
       "<circle clip-path=\"url(#clip5002)\" style=\"fill:#e26f46; stroke:none; fill-opacity:1\" cx=\"1685.93\" cy=\"943.47\" r=\"14\"/>\n",
       "<circle clip-path=\"url(#clip5002)\" style=\"fill:#000000; stroke:none; fill-opacity:1\" cx=\"1727\" cy=\"935.798\" r=\"18\"/>\n",
       "<circle clip-path=\"url(#clip5002)\" style=\"fill:#e26f46; stroke:none; fill-opacity:1\" cx=\"1727\" cy=\"935.798\" r=\"14\"/>\n",
       "<circle clip-path=\"url(#clip5002)\" style=\"fill:#000000; stroke:none; fill-opacity:1\" cx=\"1768.07\" cy=\"1101.21\" r=\"18\"/>\n",
       "<circle clip-path=\"url(#clip5002)\" style=\"fill:#e26f46; stroke:none; fill-opacity:1\" cx=\"1768.07\" cy=\"1101.21\" r=\"14\"/>\n",
       "<circle clip-path=\"url(#clip5002)\" style=\"fill:#000000; stroke:none; fill-opacity:1\" cx=\"1809.13\" cy=\"726.651\" r=\"18\"/>\n",
       "<circle clip-path=\"url(#clip5002)\" style=\"fill:#e26f46; stroke:none; fill-opacity:1\" cx=\"1809.13\" cy=\"726.651\" r=\"14\"/>\n",
       "<circle clip-path=\"url(#clip5002)\" style=\"fill:#000000; stroke:none; fill-opacity:1\" cx=\"1850.2\" cy=\"653.175\" r=\"18\"/>\n",
       "<circle clip-path=\"url(#clip5002)\" style=\"fill:#e26f46; stroke:none; fill-opacity:1\" cx=\"1850.2\" cy=\"653.175\" r=\"14\"/>\n",
       "<circle clip-path=\"url(#clip5002)\" style=\"fill:#000000; stroke:none; fill-opacity:1\" cx=\"1891.27\" cy=\"439.906\" r=\"18\"/>\n",
       "<circle clip-path=\"url(#clip5002)\" style=\"fill:#e26f46; stroke:none; fill-opacity:1\" cx=\"1891.27\" cy=\"439.906\" r=\"14\"/>\n",
       "<circle clip-path=\"url(#clip5002)\" style=\"fill:#000000; stroke:none; fill-opacity:1\" cx=\"1932.34\" cy=\"1462.26\" r=\"18\"/>\n",
       "<circle clip-path=\"url(#clip5002)\" style=\"fill:#e26f46; stroke:none; fill-opacity:1\" cx=\"1932.34\" cy=\"1462.26\" r=\"14\"/>\n",
       "<circle clip-path=\"url(#clip5002)\" style=\"fill:#000000; stroke:none; fill-opacity:1\" cx=\"1973.41\" cy=\"221.001\" r=\"18\"/>\n",
       "<circle clip-path=\"url(#clip5002)\" style=\"fill:#e26f46; stroke:none; fill-opacity:1\" cx=\"1973.41\" cy=\"221.001\" r=\"14\"/>\n",
       "<circle clip-path=\"url(#clip5002)\" style=\"fill:#000000; stroke:none; fill-opacity:1\" cx=\"2014.48\" cy=\"619.971\" r=\"18\"/>\n",
       "<circle clip-path=\"url(#clip5002)\" style=\"fill:#e26f46; stroke:none; fill-opacity:1\" cx=\"2014.48\" cy=\"619.971\" r=\"14\"/>\n",
       "<circle clip-path=\"url(#clip5002)\" style=\"fill:#000000; stroke:none; fill-opacity:1\" cx=\"2055.55\" cy=\"1000.62\" r=\"18\"/>\n",
       "<circle clip-path=\"url(#clip5002)\" style=\"fill:#e26f46; stroke:none; fill-opacity:1\" cx=\"2055.55\" cy=\"1000.62\" r=\"14\"/>\n",
       "<circle clip-path=\"url(#clip5002)\" style=\"fill:#000000; stroke:none; fill-opacity:1\" cx=\"2096.61\" cy=\"327.086\" r=\"18\"/>\n",
       "<circle clip-path=\"url(#clip5002)\" style=\"fill:#e26f46; stroke:none; fill-opacity:1\" cx=\"2096.61\" cy=\"327.086\" r=\"14\"/>\n",
       "<circle clip-path=\"url(#clip5002)\" style=\"fill:#000000; stroke:none; fill-opacity:1\" cx=\"2137.68\" cy=\"1077.92\" r=\"18\"/>\n",
       "<circle clip-path=\"url(#clip5002)\" style=\"fill:#e26f46; stroke:none; fill-opacity:1\" cx=\"2137.68\" cy=\"1077.92\" r=\"14\"/>\n",
       "<circle clip-path=\"url(#clip5002)\" style=\"fill:#000000; stroke:none; fill-opacity:1\" cx=\"2178.75\" cy=\"1216.42\" r=\"18\"/>\n",
       "<circle clip-path=\"url(#clip5002)\" style=\"fill:#e26f46; stroke:none; fill-opacity:1\" cx=\"2178.75\" cy=\"1216.42\" r=\"14\"/>\n",
       "<circle clip-path=\"url(#clip5002)\" style=\"fill:#000000; stroke:none; fill-opacity:1\" cx=\"2219.82\" cy=\"782.588\" r=\"18\"/>\n",
       "<circle clip-path=\"url(#clip5002)\" style=\"fill:#e26f46; stroke:none; fill-opacity:1\" cx=\"2219.82\" cy=\"782.588\" r=\"14\"/>\n",
       "<circle clip-path=\"url(#clip5002)\" style=\"fill:#000000; stroke:none; fill-opacity:1\" cx=\"2260.89\" cy=\"620.461\" r=\"18\"/>\n",
       "<circle clip-path=\"url(#clip5002)\" style=\"fill:#e26f46; stroke:none; fill-opacity:1\" cx=\"2260.89\" cy=\"620.461\" r=\"14\"/>\n",
       "<polygon clip-path=\"url(#clip5000)\" points=\"\n",
       "1958.43,312.204 2249.26,312.204 2249.26,130.764 1958.43,130.764 \n",
       "  \" fill=\"#ffffff\" fill-rule=\"evenodd\" fill-opacity=\"1\"/>\n",
       "<polyline clip-path=\"url(#clip5000)\" style=\"stroke:#000000; stroke-width:4; stroke-opacity:1; fill:none\" points=\"\n",
       "  1958.43,312.204 2249.26,312.204 2249.26,130.764 1958.43,130.764 1958.43,312.204 \n",
       "  \"/>\n",
       "<polyline clip-path=\"url(#clip5000)\" style=\"stroke:#009af9; stroke-width:4; stroke-opacity:1; fill:none\" points=\"\n",
       "  1982.43,191.244 2126.43,191.244 \n",
       "  \"/>\n",
       "<circle clip-path=\"url(#clip5000)\" style=\"fill:#000000; stroke:none; fill-opacity:1\" cx=\"2066.43\" cy=\"191.244\" r=\"25\"/>\n",
       "<circle clip-path=\"url(#clip5000)\" style=\"fill:#009af9; stroke:none; fill-opacity:1\" cx=\"2066.43\" cy=\"191.244\" r=\"21\"/>\n",
       "<g clip-path=\"url(#clip5000)\">\n",
       "<text style=\"fill:#000000; fill-opacity:1; font-family:Arial,Helvetica Neue,Helvetica,sans-serif; font-size:48px; text-anchor:start;\" transform=\"rotate(0, 2150.43, 208.744)\" x=\"2150.43\" y=\"208.744\">y1</text>\n",
       "</g>\n",
       "<polyline clip-path=\"url(#clip5000)\" style=\"stroke:#e26f46; stroke-width:4; stroke-opacity:1; fill:none\" points=\"\n",
       "  1982.43,251.724 2126.43,251.724 \n",
       "  \"/>\n",
       "<circle clip-path=\"url(#clip5000)\" style=\"fill:#000000; stroke:none; fill-opacity:1\" cx=\"2066.43\" cy=\"251.724\" r=\"25\"/>\n",
       "<circle clip-path=\"url(#clip5000)\" style=\"fill:#e26f46; stroke:none; fill-opacity:1\" cx=\"2066.43\" cy=\"251.724\" r=\"21\"/>\n",
       "<g clip-path=\"url(#clip5000)\">\n",
       "<text style=\"fill:#000000; fill-opacity:1; font-family:Arial,Helvetica Neue,Helvetica,sans-serif; font-size:48px; text-anchor:start;\" transform=\"rotate(0, 2150.43, 269.224)\" x=\"2150.43\" y=\"269.224\">y2</text>\n",
       "</g>\n",
       "</svg>\n"
      ]
     },
     "execution_count": 21,
     "metadata": {},
     "output_type": "execute_result"
    }
   ],
   "source": [
    "plot(time, y, marker=:circle)"
   ]
  },
  {
   "cell_type": "code",
   "execution_count": 26,
   "metadata": {},
   "outputs": [
    {
     "data": {
      "image/svg+xml": [
       "<?xml version=\"1.0\" encoding=\"utf-8\"?>\n",
       "<svg xmlns=\"http://www.w3.org/2000/svg\" xmlns:xlink=\"http://www.w3.org/1999/xlink\" width=\"600\" height=\"400\" viewBox=\"0 0 2400 1600\">\n",
       "<defs>\n",
       "  <clipPath id=\"clip6600\">\n",
       "    <rect x=\"0\" y=\"0\" width=\"2400\" height=\"1600\"/>\n",
       "  </clipPath>\n",
       "</defs>\n",
       "<polygon clip-path=\"url(#clip6600)\" points=\"\n",
       "0,1600 2400,1600 2400,0 0,0 \n",
       "  \" fill=\"#ffffff\" fill-rule=\"evenodd\" fill-opacity=\"1\"/>\n",
       "<defs>\n",
       "  <clipPath id=\"clip6601\">\n",
       "    <rect x=\"480\" y=\"0\" width=\"1681\" height=\"1600\"/>\n",
       "  </clipPath>\n",
       "</defs>\n",
       "<polygon clip-path=\"url(#clip6600)\" points=\"\n",
       "251.149,1440.48 2321.26,1440.48 2321.26,125.984 251.149,125.984 \n",
       "  \" fill=\"#ffffff\" fill-rule=\"evenodd\" fill-opacity=\"1\"/>\n",
       "<defs>\n",
       "  <clipPath id=\"clip6602\">\n",
       "    <rect x=\"251\" y=\"125\" width=\"2071\" height=\"1315\"/>\n",
       "  </clipPath>\n",
       "</defs>\n",
       "<polyline clip-path=\"url(#clip6602)\" style=\"stroke:#000000; stroke-width:2; stroke-opacity:0.1; fill:none\" points=\"\n",
       "  290.01,1440.48 290.01,125.984 \n",
       "  \"/>\n",
       "<polyline clip-path=\"url(#clip6602)\" style=\"stroke:#000000; stroke-width:2; stroke-opacity:0.1; fill:none\" points=\"\n",
       "  783.175,1440.48 783.175,125.984 \n",
       "  \"/>\n",
       "<polyline clip-path=\"url(#clip6602)\" style=\"stroke:#000000; stroke-width:2; stroke-opacity:0.1; fill:none\" points=\"\n",
       "  1276.34,1440.48 1276.34,125.984 \n",
       "  \"/>\n",
       "<polyline clip-path=\"url(#clip6602)\" style=\"stroke:#000000; stroke-width:2; stroke-opacity:0.1; fill:none\" points=\"\n",
       "  1769.51,1440.48 1769.51,125.984 \n",
       "  \"/>\n",
       "<polyline clip-path=\"url(#clip6602)\" style=\"stroke:#000000; stroke-width:2; stroke-opacity:0.1; fill:none\" points=\"\n",
       "  2262.67,1440.48 2262.67,125.984 \n",
       "  \"/>\n",
       "<polyline clip-path=\"url(#clip6602)\" style=\"stroke:#000000; stroke-width:2; stroke-opacity:0.1; fill:none\" points=\"\n",
       "  251.149,1408.03 2321.26,1408.03 \n",
       "  \"/>\n",
       "<polyline clip-path=\"url(#clip6602)\" style=\"stroke:#000000; stroke-width:2; stroke-opacity:0.1; fill:none\" points=\"\n",
       "  251.149,1096.66 2321.26,1096.66 \n",
       "  \"/>\n",
       "<polyline clip-path=\"url(#clip6602)\" style=\"stroke:#000000; stroke-width:2; stroke-opacity:0.1; fill:none\" points=\"\n",
       "  251.149,785.278 2321.26,785.278 \n",
       "  \"/>\n",
       "<polyline clip-path=\"url(#clip6602)\" style=\"stroke:#000000; stroke-width:2; stroke-opacity:0.1; fill:none\" points=\"\n",
       "  251.149,473.9 2321.26,473.9 \n",
       "  \"/>\n",
       "<polyline clip-path=\"url(#clip6602)\" style=\"stroke:#000000; stroke-width:2; stroke-opacity:0.1; fill:none\" points=\"\n",
       "  251.149,162.522 2321.26,162.522 \n",
       "  \"/>\n",
       "<polyline clip-path=\"url(#clip6600)\" style=\"stroke:#000000; stroke-width:4; stroke-opacity:1; fill:none\" points=\"\n",
       "  251.149,1440.48 2321.26,1440.48 \n",
       "  \"/>\n",
       "<polyline clip-path=\"url(#clip6600)\" style=\"stroke:#000000; stroke-width:4; stroke-opacity:1; fill:none\" points=\"\n",
       "  251.149,1440.48 251.149,125.984 \n",
       "  \"/>\n",
       "<polyline clip-path=\"url(#clip6600)\" style=\"stroke:#000000; stroke-width:4; stroke-opacity:1; fill:none\" points=\"\n",
       "  290.01,1440.48 290.01,1420.77 \n",
       "  \"/>\n",
       "<polyline clip-path=\"url(#clip6600)\" style=\"stroke:#000000; stroke-width:4; stroke-opacity:1; fill:none\" points=\"\n",
       "  783.175,1440.48 783.175,1420.77 \n",
       "  \"/>\n",
       "<polyline clip-path=\"url(#clip6600)\" style=\"stroke:#000000; stroke-width:4; stroke-opacity:1; fill:none\" points=\"\n",
       "  1276.34,1440.48 1276.34,1420.77 \n",
       "  \"/>\n",
       "<polyline clip-path=\"url(#clip6600)\" style=\"stroke:#000000; stroke-width:4; stroke-opacity:1; fill:none\" points=\"\n",
       "  1769.51,1440.48 1769.51,1420.77 \n",
       "  \"/>\n",
       "<polyline clip-path=\"url(#clip6600)\" style=\"stroke:#000000; stroke-width:4; stroke-opacity:1; fill:none\" points=\"\n",
       "  2262.67,1440.48 2262.67,1420.77 \n",
       "  \"/>\n",
       "<polyline clip-path=\"url(#clip6600)\" style=\"stroke:#000000; stroke-width:4; stroke-opacity:1; fill:none\" points=\"\n",
       "  251.149,1408.03 282.2,1408.03 \n",
       "  \"/>\n",
       "<polyline clip-path=\"url(#clip6600)\" style=\"stroke:#000000; stroke-width:4; stroke-opacity:1; fill:none\" points=\"\n",
       "  251.149,1096.66 282.2,1096.66 \n",
       "  \"/>\n",
       "<polyline clip-path=\"url(#clip6600)\" style=\"stroke:#000000; stroke-width:4; stroke-opacity:1; fill:none\" points=\"\n",
       "  251.149,785.278 282.2,785.278 \n",
       "  \"/>\n",
       "<polyline clip-path=\"url(#clip6600)\" style=\"stroke:#000000; stroke-width:4; stroke-opacity:1; fill:none\" points=\"\n",
       "  251.149,473.9 282.2,473.9 \n",
       "  \"/>\n",
       "<polyline clip-path=\"url(#clip6600)\" style=\"stroke:#000000; stroke-width:4; stroke-opacity:1; fill:none\" points=\"\n",
       "  251.149,162.522 282.2,162.522 \n",
       "  \"/>\n",
       "<g clip-path=\"url(#clip6600)\">\n",
       "<text style=\"fill:#000000; fill-opacity:1; font-family:Arial,Helvetica Neue,Helvetica,sans-serif; font-size:48px; text-anchor:middle;\" transform=\"rotate(0, 290.01, 1494.48)\" x=\"290.01\" y=\"1494.48\">0</text>\n",
       "</g>\n",
       "<g clip-path=\"url(#clip6600)\">\n",
       "<text style=\"fill:#000000; fill-opacity:1; font-family:Arial,Helvetica Neue,Helvetica,sans-serif; font-size:48px; text-anchor:middle;\" transform=\"rotate(0, 783.175, 1494.48)\" x=\"783.175\" y=\"1494.48\">25</text>\n",
       "</g>\n",
       "<g clip-path=\"url(#clip6600)\">\n",
       "<text style=\"fill:#000000; fill-opacity:1; font-family:Arial,Helvetica Neue,Helvetica,sans-serif; font-size:48px; text-anchor:middle;\" transform=\"rotate(0, 1276.34, 1494.48)\" x=\"1276.34\" y=\"1494.48\">50</text>\n",
       "</g>\n",
       "<g clip-path=\"url(#clip6600)\">\n",
       "<text style=\"fill:#000000; fill-opacity:1; font-family:Arial,Helvetica Neue,Helvetica,sans-serif; font-size:48px; text-anchor:middle;\" transform=\"rotate(0, 1769.51, 1494.48)\" x=\"1769.51\" y=\"1494.48\">75</text>\n",
       "</g>\n",
       "<g clip-path=\"url(#clip6600)\">\n",
       "<text style=\"fill:#000000; fill-opacity:1; font-family:Arial,Helvetica Neue,Helvetica,sans-serif; font-size:48px; text-anchor:middle;\" transform=\"rotate(0, 2262.67, 1494.48)\" x=\"2262.67\" y=\"1494.48\">100</text>\n",
       "</g>\n",
       "<g clip-path=\"url(#clip6600)\">\n",
       "<text style=\"fill:#000000; fill-opacity:1; font-family:Arial,Helvetica Neue,Helvetica,sans-serif; font-size:48px; text-anchor:end;\" transform=\"rotate(0, 227.149, 1425.53)\" x=\"227.149\" y=\"1425.53\">0.00</text>\n",
       "</g>\n",
       "<g clip-path=\"url(#clip6600)\">\n",
       "<text style=\"fill:#000000; fill-opacity:1; font-family:Arial,Helvetica Neue,Helvetica,sans-serif; font-size:48px; text-anchor:end;\" transform=\"rotate(0, 227.149, 1114.16)\" x=\"227.149\" y=\"1114.16\">0.25</text>\n",
       "</g>\n",
       "<g clip-path=\"url(#clip6600)\">\n",
       "<text style=\"fill:#000000; fill-opacity:1; font-family:Arial,Helvetica Neue,Helvetica,sans-serif; font-size:48px; text-anchor:end;\" transform=\"rotate(0, 227.149, 802.778)\" x=\"227.149\" y=\"802.778\">0.50</text>\n",
       "</g>\n",
       "<g clip-path=\"url(#clip6600)\">\n",
       "<text style=\"fill:#000000; fill-opacity:1; font-family:Arial,Helvetica Neue,Helvetica,sans-serif; font-size:48px; text-anchor:end;\" transform=\"rotate(0, 227.149, 491.4)\" x=\"227.149\" y=\"491.4\">0.75</text>\n",
       "</g>\n",
       "<g clip-path=\"url(#clip6600)\">\n",
       "<text style=\"fill:#000000; fill-opacity:1; font-family:Arial,Helvetica Neue,Helvetica,sans-serif; font-size:48px; text-anchor:end;\" transform=\"rotate(0, 227.149, 180.022)\" x=\"227.149\" y=\"180.022\">1.00</text>\n",
       "</g>\n",
       "<g clip-path=\"url(#clip6600)\">\n",
       "<text style=\"fill:#000000; fill-opacity:1; font-family:Arial,Helvetica Neue,Helvetica,sans-serif; font-size:84px; text-anchor:middle;\" transform=\"rotate(0, 1286.2, 73.2)\" x=\"1286.2\" y=\"73.2\">two random variables</text>\n",
       "</g>\n",
       "<g clip-path=\"url(#clip6600)\">\n",
       "<text style=\"fill:#000000; fill-opacity:1; font-family:Arial,Helvetica Neue,Helvetica,sans-serif; font-size:66px; text-anchor:middle;\" transform=\"rotate(0, 1286.2, 1590.4)\" x=\"1286.2\" y=\"1590.4\">time (day)</text>\n",
       "</g>\n",
       "<g clip-path=\"url(#clip6600)\">\n",
       "<text style=\"fill:#000000; fill-opacity:1; font-family:Arial,Helvetica Neue,Helvetica,sans-serif; font-size:66px; text-anchor:middle;\" transform=\"rotate(-90, 128.749, 783.233)\" x=\"128.749\" y=\"783.233\">random displacement (a.u.)</text>\n",
       "</g>\n",
       "<polyline clip-path=\"url(#clip6602)\" style=\"stroke:#009af9; stroke-width:12; stroke-opacity:1; fill:none\" points=\"\n",
       "  309.737,999.73 349.592,901.928 389.448,605.571 429.304,1386.73 469.16,1334.91 509.016,792.832 548.871,1087.96 588.727,923.703 628.583,761.983 668.439,1117.24 \n",
       "  708.295,640.139 748.151,1294.53 788.006,1330.9 827.862,566.392 867.718,1377.58 907.574,1332.22 947.43,306.578 987.286,1136.44 1027.14,658.082 1067,431.976 \n",
       "  1106.85,845.238 1146.71,1147.63 1186.56,1034.11 1226.42,834.176 1266.28,966.713 1306.13,987.787 1345.99,524.075 1385.84,462.264 1425.7,193.518 1465.56,567.156 \n",
       "  1505.41,1030.01 1545.27,242.251 1585.12,1142.31 1624.98,437.768 1664.83,265.987 1704.69,781.638 1744.55,977.75 1784.4,244.884 1824.26,611.02 1864.11,495.028 \n",
       "  1903.97,217.242 1943.83,1252.48 1983.68,333.238 2023.54,1109.22 2063.39,1042.38 2103.25,947.29 2143.1,1359.91 2182.96,1274.49 2222.82,547.603 2262.67,891.864 \n",
       "  \n",
       "  \"/>\n",
       "<polyline clip-path=\"url(#clip6602)\" style=\"stroke:#e26f46; stroke-width:12; stroke-opacity:1; fill:none\" points=\"\n",
       "  309.737,664.41 349.592,759.998 389.448,283.03 429.304,1166.08 469.16,841.664 509.016,228.29 548.871,517.109 588.727,202.168 628.583,216.734 668.439,1059.06 \n",
       "  708.295,1219.5 748.151,303.902 788.006,780.757 827.862,888.237 867.718,945.987 907.574,1015.36 947.43,309.821 987.286,163.187 1027.14,1117.83 1067,1386.44 \n",
       "  1106.85,1359.62 1146.71,854.548 1186.56,692.277 1226.42,643.275 1266.28,340.759 1306.13,862.179 1345.99,837.088 1385.84,897.597 1425.7,1249.18 1465.56,655.895 \n",
       "  1505.41,864.925 1545.27,1182.23 1585.12,542.982 1624.98,662.518 1664.83,1363.31 1704.69,934.982 1744.55,928.057 1784.4,1077.37 1824.26,739.266 1864.11,672.941 \n",
       "  1903.97,480.429 1943.83,1403.28 1983.68,282.83 2023.54,642.968 2063.39,986.566 2103.25,378.59 2143.1,1056.35 2182.96,1181.36 2222.82,789.758 2262.67,643.411 \n",
       "  \n",
       "  \"/>\n",
       "<polygon clip-path=\"url(#clip6600)\" points=\"\n",
       "1886.18,390.944 2249.26,390.944 2249.26,209.504 1886.18,209.504 \n",
       "  \" fill=\"#ffffff\" fill-rule=\"evenodd\" fill-opacity=\"1\"/>\n",
       "<polyline clip-path=\"url(#clip6600)\" style=\"stroke:#000000; stroke-width:4; stroke-opacity:1; fill:none\" points=\"\n",
       "  1886.18,390.944 2249.26,390.944 2249.26,209.504 1886.18,209.504 1886.18,390.944 \n",
       "  \"/>\n",
       "<polyline clip-path=\"url(#clip6600)\" style=\"stroke:#009af9; stroke-width:12; stroke-opacity:1; fill:none\" points=\"\n",
       "  1910.18,269.984 2054.18,269.984 \n",
       "  \"/>\n",
       "<g clip-path=\"url(#clip6600)\">\n",
       "<text style=\"fill:#000000; fill-opacity:1; font-family:Arial,Helvetica Neue,Helvetica,sans-serif; font-size:48px; text-anchor:start;\" transform=\"rotate(0, 2078.18, 287.484)\" x=\"2078.18\" y=\"287.484\">rand1</text>\n",
       "</g>\n",
       "<polyline clip-path=\"url(#clip6600)\" style=\"stroke:#e26f46; stroke-width:12; stroke-opacity:1; fill:none\" points=\"\n",
       "  1910.18,330.464 2054.18,330.464 \n",
       "  \"/>\n",
       "<g clip-path=\"url(#clip6600)\">\n",
       "<text style=\"fill:#000000; fill-opacity:1; font-family:Arial,Helvetica Neue,Helvetica,sans-serif; font-size:48px; text-anchor:start;\" transform=\"rotate(0, 2078.18, 347.964)\" x=\"2078.18\" y=\"347.964\">rand2</text>\n",
       "</g>\n",
       "</svg>\n"
      ]
     },
     "execution_count": 26,
     "metadata": {},
     "output_type": "execute_result"
    }
   ],
   "source": [
    "p = plot(time, y, title=\"two random variables\", label=[\"rand1\" \"rand2\"], lw=3)\n",
    "xlabel!(\"time (day)\")\n",
    "ylabel!(\"random displacement (a.u.)\")"
   ]
  },
  {
   "cell_type": "code",
   "execution_count": 27,
   "metadata": {},
   "outputs": [],
   "source": [
    "savefig(p, \"myplot.png\")"
   ]
  },
  {
   "cell_type": "code",
   "execution_count": null,
   "metadata": {},
   "outputs": [],
   "source": []
  }
 ],
 "metadata": {
  "kernelspec": {
   "display_name": "Julia 1.1.0",
   "language": "julia",
   "name": "julia-1.1"
  },
  "language_info": {
   "file_extension": ".jl",
   "mimetype": "application/julia",
   "name": "julia",
   "version": "1.1.0"
  }
 },
 "nbformat": 4,
 "nbformat_minor": 2
}
