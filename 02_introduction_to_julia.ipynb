{
 "cells": [
  {
   "cell_type": "markdown",
   "metadata": {},
   "source": [
    "# Introduction to Julia"
   ]
  },
  {
   "cell_type": "markdown",
   "metadata": {},
   "source": [
    "# どんな言語？\n",
    "\n",
    "主に科学技術計算向けのスクリプトライクな言語。手軽に数値計算できて速い。去年version 1.0がリリースされて後方互換性が保証されて研究本番にも使えるようになった感じ。\n",
    "JuliaのWeb https://julialang.org\n",
    "\n",
    "Juliaを作った背景 https://julialang.org/blog/2012/02/why-we-created-julia\n",
    "We are greedy: we want more.\n",
    "We want a language that’s open source, with a liberal license. We want the speed of C with the dynamism of Ruby. We want a language that’s homoiconic, with true macros like Lisp, but with obvious, familiar mathematical notation like Matlab. We want something as usable for general programming as Python, as easy for statistics as R, as natural for string processing as Perl, as powerful for linear algebra as Matlab, as good at gluing programs together as the shell. Something that is dirt simple to learn, yet keeps the most serious hackers happy. We want it interactive and we want it compiled.\n",
    "\n",
    "Juliaのベンチマーク\n",
    "https://julialang.org/benchmarks/"
   ]
  },
  {
   "cell_type": "markdown",
   "metadata": {},
   "source": [
    "# なぜJulia?\n",
    "\n",
    "Pythonの常微分方程式のソルバーパッケージとしてScipy(odeint)があるが、\n",
    "計算速度が速くないのと、delay differential equationに対応していない等の問題がある。\n",
    "Juliaは速度が早いのと、ソルバーパッケージが(DifferentialEquations.jl)が\n",
    "delay differential equationや確率微分方程式、並列化に対応している。\n",
    "また、少し調べたところパラメータfeedbackも実装できそうな感じがした。\n"
   ]
  },
  {
   "cell_type": "markdown",
   "metadata": {},
   "source": [
    "# 以下、常微分方程式を数値的に扱うことに絞ってJuliaの機能を紹介"
   ]
  },
  {
   "cell_type": "markdown",
   "metadata": {},
   "source": [
    "# 型 (type)"
   ]
  },
  {
   "cell_type": "code",
   "execution_count": 8,
   "metadata": {},
   "outputs": [
    {
     "name": "stdout",
     "output_type": "stream",
     "text": [
      "  0.000002 seconds (5 allocations: 176 bytes)\n"
     ]
    },
    {
     "data": {
      "text/plain": [
       "4.0"
      ]
     },
     "execution_count": 8,
     "metadata": {},
     "output_type": "execute_result"
    }
   ],
   "source": [
    "@time 1.0 + 3.0"
   ]
  },
  {
   "cell_type": "code",
   "execution_count": 14,
   "metadata": {},
   "outputs": [
    {
     "data": {
      "text/plain": [
       "Int64"
      ]
     },
     "execution_count": 14,
     "metadata": {},
     "output_type": "execute_result"
    }
   ],
   "source": [
    "typeof(1)"
   ]
  },
  {
   "cell_type": "code",
   "execution_count": 15,
   "metadata": {},
   "outputs": [
    {
     "data": {
      "text/plain": [
       "Float64"
      ]
     },
     "execution_count": 15,
     "metadata": {},
     "output_type": "execute_result"
    }
   ],
   "source": [
    "typeof(1.0)"
   ]
  },
  {
   "cell_type": "code",
   "execution_count": 18,
   "metadata": {},
   "outputs": [
    {
     "data": {
      "text/plain": [
       "String"
      ]
     },
     "execution_count": 18,
     "metadata": {},
     "output_type": "execute_result"
    }
   ],
   "source": [
    "typeof(\"hello world\")"
   ]
  },
  {
   "cell_type": "code",
   "execution_count": 23,
   "metadata": {},
   "outputs": [
    {
     "data": {
      "text/plain": [
       "Array{Int64,2}"
      ]
     },
     "execution_count": 23,
     "metadata": {},
     "output_type": "execute_result"
    }
   ],
   "source": [
    "typeof([1 2 3])"
   ]
  },
  {
   "cell_type": "code",
   "execution_count": 25,
   "metadata": {},
   "outputs": [
    {
     "data": {
      "text/plain": [
       "Float64"
      ]
     },
     "execution_count": 25,
     "metadata": {},
     "output_type": "execute_result"
    }
   ],
   "source": [
    "typeof(1 + 1.0)#type promotion, conversino"
   ]
  },
  {
   "cell_type": "code",
   "execution_count": 33,
   "metadata": {},
   "outputs": [
    {
     "data": {
      "text/plain": [
       "5//6"
      ]
     },
     "execution_count": 33,
     "metadata": {},
     "output_type": "execute_result"
    }
   ],
   "source": [
    "1//2 + 1//3"
   ]
  },
  {
   "cell_type": "code",
   "execution_count": 35,
   "metadata": {},
   "outputs": [
    {
     "ename": "MethodError",
     "evalue": "MethodError: First argument to `convert` must be a Type, got 1.0",
     "output_type": "error",
     "traceback": [
      "MethodError: First argument to `convert` must be a Type, got 1.0",
      "",
      "Stacktrace:",
      " [1] top-level scope at In[35]:1"
     ]
    }
   ],
   "source": [
    "loat64)+ 1.0"
   ]
  },
  {
   "cell_type": "markdown",
   "metadata": {},
   "source": [
    "# 変数 (variable)"
   ]
  },
  {
   "cell_type": "code",
   "execution_count": 13,
   "metadata": {},
   "outputs": [
    {
     "data": {
      "text/plain": [
       "2.0"
      ]
     },
     "execution_count": 13,
     "metadata": {},
     "output_type": "execute_result"
    }
   ],
   "source": [
    "a = 1.0\n",
    "b = 2.0"
   ]
  },
  {
   "cell_type": "code",
   "execution_count": 14,
   "metadata": {},
   "outputs": [
    {
     "data": {
      "text/plain": [
       "Float64"
      ]
     },
     "execution_count": 14,
     "metadata": {},
     "output_type": "execute_result"
    }
   ],
   "source": [
    "typeof(a)"
   ]
  },
  {
   "cell_type": "code",
   "execution_count": 15,
   "metadata": {},
   "outputs": [
    {
     "data": {
      "text/plain": [
       "Float64"
      ]
     },
     "execution_count": 15,
     "metadata": {},
     "output_type": "execute_result"
    }
   ],
   "source": [
    "typeof(b)"
   ]
  },
  {
   "cell_type": "code",
   "execution_count": 37,
   "metadata": {},
   "outputs": [
    {
     "ename": "UndefVarError",
     "evalue": "UndefVarError: i not defined",
     "output_type": "error",
     "traceback": [
      "UndefVarError: i not defined",
      "",
      "Stacktrace:",
      " [1] top-level scope at In[37]:1"
     ]
    }
   ],
   "source": [
    "j"
   ]
  },
  {
   "cell_type": "markdown",
   "metadata": {},
   "source": [
    "# ベクトル (vector)"
   ]
  },
  {
   "cell_type": "code",
   "execution_count": 41,
   "metadata": {},
   "outputs": [
    {
     "data": {
      "text/plain": [
       "4-element Array{Int64,1}:\n",
       " 1\n",
       " 2\n",
       " 3\n",
       " 4"
      ]
     },
     "execution_count": 41,
     "metadata": {},
     "output_type": "execute_result"
    }
   ],
   "source": [
    "a = [1, 2, 3, 4]"
   ]
  },
  {
   "cell_type": "code",
   "execution_count": 96,
   "metadata": {},
   "outputs": [
    {
     "data": {
      "text/plain": [
       "(4,)"
      ]
     },
     "execution_count": 96,
     "metadata": {},
     "output_type": "execute_result"
    }
   ],
   "source": [
    "size(a)"
   ]
  },
  {
   "cell_type": "code",
   "execution_count": 97,
   "metadata": {},
   "outputs": [
    {
     "data": {
      "text/plain": [
       "1"
      ]
     },
     "execution_count": 97,
     "metadata": {},
     "output_type": "execute_result"
    }
   ],
   "source": [
    "a[1]"
   ]
  },
  {
   "cell_type": "code",
   "execution_count": 98,
   "metadata": {},
   "outputs": [
    {
     "data": {
      "text/plain": [
       "2"
      ]
     },
     "execution_count": 98,
     "metadata": {},
     "output_type": "execute_result"
    }
   ],
   "source": [
    "a[2]"
   ]
  },
  {
   "cell_type": "code",
   "execution_count": 39,
   "metadata": {},
   "outputs": [
    {
     "data": {
      "text/plain": [
       "1×4 Array{Int64,2}:\n",
       " 1  2  3  4"
      ]
     },
     "execution_count": 39,
     "metadata": {},
     "output_type": "execute_result"
    }
   ],
   "source": [
    "b = [1 2 3 4]"
   ]
  },
  {
   "cell_type": "code",
   "execution_count": 100,
   "metadata": {},
   "outputs": [
    {
     "data": {
      "text/plain": [
       "4-element Array{Int64,1}:\n",
       " 5\n",
       " 6\n",
       " 7\n",
       " 8"
      ]
     },
     "execution_count": 100,
     "metadata": {},
     "output_type": "execute_result"
    }
   ],
   "source": [
    "c = [5, 6, 7, 8]"
   ]
  },
  {
   "cell_type": "code",
   "execution_count": 101,
   "metadata": {},
   "outputs": [
    {
     "ename": "DimensionMismatch",
     "evalue": "DimensionMismatch(\"dimensions must match\")",
     "output_type": "error",
     "traceback": [
      "DimensionMismatch(\"dimensions must match\")",
      "",
      "Stacktrace:",
      " [1] promote_shape at ./indices.jl:154 [inlined]",
      " [2] promote_shape at ./indices.jl:150 [inlined]",
      " [3] promote_shape at ./indices.jl:145 [inlined]",
      " [4] +(::Array{Int64,1}, ::Array{Int64,2}) at ./arraymath.jl:45",
      " [5] top-level scope at In[101]:1"
     ]
    }
   ],
   "source": [
    "a + b"
   ]
  },
  {
   "cell_type": "code",
   "execution_count": 102,
   "metadata": {},
   "outputs": [
    {
     "data": {
      "text/plain": [
       "4-element Array{Int64,1}:\n",
       "  6\n",
       "  8\n",
       " 10\n",
       " 12"
      ]
     },
     "execution_count": 102,
     "metadata": {},
     "output_type": "execute_result"
    }
   ],
   "source": [
    "a + c"
   ]
  },
  {
   "cell_type": "code",
   "execution_count": 44,
   "metadata": {},
   "outputs": [
    {
     "data": {
      "text/plain": [
       "4-element Array{Int64,1}:\n",
       " 1\n",
       " 2\n",
       " 3\n",
       " 4"
      ]
     },
     "execution_count": 44,
     "metadata": {},
     "output_type": "execute_result"
    }
   ],
   "source": [
    "a"
   ]
  },
  {
   "cell_type": "code",
   "execution_count": 45,
   "metadata": {},
   "outputs": [
    {
     "data": {
      "text/plain": [
       "1×4 Array{Int64,2}:\n",
       " 1  2  3  4"
      ]
     },
     "execution_count": 45,
     "metadata": {},
     "output_type": "execute_result"
    }
   ],
   "source": [
    "b"
   ]
  },
  {
   "cell_type": "code",
   "execution_count": 46,
   "metadata": {},
   "outputs": [
    {
     "data": {
      "text/plain": [
       "4×4 Array{Int64,2}:\n",
       " 1  2   3   4\n",
       " 2  4   6   8\n",
       " 3  6   9  12\n",
       " 4  8  12  16"
      ]
     },
     "execution_count": 46,
     "metadata": {},
     "output_type": "execute_result"
    }
   ],
   "source": [
    "a*b"
   ]
  },
  {
   "cell_type": "code",
   "execution_count": 104,
   "metadata": {},
   "outputs": [
    {
     "data": {
      "text/plain": [
       "4-element Array{Int64,1}:\n",
       "  5\n",
       " 12\n",
       " 21\n",
       " 32"
      ]
     },
     "execution_count": 104,
     "metadata": {},
     "output_type": "execute_result"
    }
   ],
   "source": [
    "a .* c"
   ]
  },
  {
   "cell_type": "markdown",
   "metadata": {},
   "source": [
    "# 行列 (matrix)"
   ]
  },
  {
   "cell_type": "code",
   "execution_count": 1,
   "metadata": {},
   "outputs": [
    {
     "data": {
      "text/plain": [
       "2×2 Array{Int64,2}:\n",
       " 1  2\n",
       " 3  4"
      ]
     },
     "execution_count": 1,
     "metadata": {},
     "output_type": "execute_result"
    }
   ],
   "source": [
    "A = [1 2; 3 4]"
   ]
  },
  {
   "cell_type": "code",
   "execution_count": 50,
   "metadata": {},
   "outputs": [
    {
     "data": {
      "text/plain": [
       "(2, 2)"
      ]
     },
     "execution_count": 50,
     "metadata": {},
     "output_type": "execute_result"
    }
   ],
   "source": [
    "size(A)"
   ]
  },
  {
   "cell_type": "code",
   "execution_count": 51,
   "metadata": {},
   "outputs": [
    {
     "data": {
      "text/plain": [
       "1"
      ]
     },
     "execution_count": 51,
     "metadata": {},
     "output_type": "execute_result"
    }
   ],
   "source": [
    "A[1, 1]"
   ]
  },
  {
   "cell_type": "code",
   "execution_count": 52,
   "metadata": {},
   "outputs": [
    {
     "data": {
      "text/plain": [
       "2-element Array{Int64,1}:\n",
       " 2\n",
       " 4"
      ]
     },
     "execution_count": 52,
     "metadata": {},
     "output_type": "execute_result"
    }
   ],
   "source": [
    "A[1:2, 2]"
   ]
  },
  {
   "cell_type": "code",
   "execution_count": 53,
   "metadata": {},
   "outputs": [
    {
     "data": {
      "text/plain": [
       "2×2 Array{Int64,2}:\n",
       " 5  6\n",
       " 7  8"
      ]
     },
     "execution_count": 53,
     "metadata": {},
     "output_type": "execute_result"
    }
   ],
   "source": [
    "B = [5 6; 7 8]"
   ]
  },
  {
   "cell_type": "code",
   "execution_count": 54,
   "metadata": {},
   "outputs": [
    {
     "data": {
      "text/plain": [
       "2×2 Array{Int64,2}:\n",
       "  6   8\n",
       " 10  12"
      ]
     },
     "execution_count": 54,
     "metadata": {},
     "output_type": "execute_result"
    }
   ],
   "source": [
    "A + B"
   ]
  },
  {
   "cell_type": "code",
   "execution_count": 55,
   "metadata": {},
   "outputs": [
    {
     "data": {
      "text/plain": [
       "2×2 Array{Int64,2}:\n",
       " 19  22\n",
       " 43  50"
      ]
     },
     "execution_count": 55,
     "metadata": {},
     "output_type": "execute_result"
    }
   ],
   "source": [
    "A * B"
   ]
  },
  {
   "cell_type": "code",
   "execution_count": 56,
   "metadata": {},
   "outputs": [
    {
     "data": {
      "text/plain": [
       "2×2 Array{Int64,2}:\n",
       "  5  12\n",
       " 21  32"
      ]
     },
     "execution_count": 56,
     "metadata": {},
     "output_type": "execute_result"
    }
   ],
   "source": [
    "A .* B"
   ]
  },
  {
   "cell_type": "markdown",
   "metadata": {},
   "source": [
    "# ベクトルや行列の初期化 (initialization)"
   ]
  },
  {
   "cell_type": "code",
   "execution_count": 59,
   "metadata": {},
   "outputs": [
    {
     "data": {
      "text/plain": [
       "10-element Array{Float64,1}:\n",
       " 0.0\n",
       " 0.0\n",
       " 0.0\n",
       " 0.0\n",
       " 0.0\n",
       " 0.0\n",
       " 0.0\n",
       " 0.0\n",
       " 0.0\n",
       " 0.0"
      ]
     },
     "execution_count": 59,
     "metadata": {},
     "output_type": "execute_result"
    }
   ],
   "source": [
    "a = zeros(10)"
   ]
  },
  {
   "cell_type": "code",
   "execution_count": 61,
   "metadata": {},
   "outputs": [
    {
     "data": {
      "text/plain": [
       "10-element Array{Int64,1}:\n",
       " 0\n",
       " 0\n",
       " 0\n",
       " 0\n",
       " 0\n",
       " 0\n",
       " 0\n",
       " 0\n",
       " 0\n",
       " 0"
      ]
     },
     "execution_count": 61,
     "metadata": {},
     "output_type": "execute_result"
    }
   ],
   "source": [
    "a = zeros(Int64, 10)"
   ]
  },
  {
   "cell_type": "code",
   "execution_count": 67,
   "metadata": {},
   "outputs": [
    {
     "data": {
      "text/plain": [
       "3×3 Array{Float64,2}:\n",
       " 0.0  0.0  0.0\n",
       " 0.0  0.0  0.0\n",
       " 0.0  0.0  0.0"
      ]
     },
     "execution_count": 67,
     "metadata": {},
     "output_type": "execute_result"
    }
   ],
   "source": [
    "A = zeros(3, 3)"
   ]
  },
  {
   "cell_type": "code",
   "execution_count": 68,
   "metadata": {},
   "outputs": [
    {
     "data": {
      "text/plain": [
       "3×3 Array{Int64,2}:\n",
       " 0  0  0\n",
       " 0  0  0\n",
       " 0  0  0"
      ]
     },
     "execution_count": 68,
     "metadata": {},
     "output_type": "execute_result"
    }
   ],
   "source": [
    "A = zeros(Int64, 3, 3)"
   ]
  },
  {
   "cell_type": "code",
   "execution_count": 63,
   "metadata": {},
   "outputs": [
    {
     "data": {
      "text/plain": [
       "10-element Array{Float64,1}:\n",
       " 0.6380843648544328 \n",
       " 0.4735003073697399 \n",
       " 0.5035391923464225 \n",
       " 0.7745366680268237 \n",
       " 0.10692248574285901\n",
       " 0.2952933959725874 \n",
       " 0.7278582554663655 \n",
       " 0.2396101104700028 \n",
       " 0.9033254381404723 \n",
       " 0.6580287313640789 "
      ]
     },
     "execution_count": 63,
     "metadata": {},
     "output_type": "execute_result"
    }
   ],
   "source": [
    "a = rand(10)"
   ]
  },
  {
   "cell_type": "code",
   "execution_count": 67,
   "metadata": {},
   "outputs": [
    {
     "data": {
      "text/plain": [
       "1:10"
      ]
     },
     "execution_count": 67,
     "metadata": {},
     "output_type": "execute_result"
    }
   ],
   "source": [
    "a = 1:10"
   ]
  },
  {
   "cell_type": "code",
   "execution_count": 85,
   "metadata": {},
   "outputs": [
    {
     "data": {
      "text/plain": [
       "UnitRange{Int64}"
      ]
     },
     "execution_count": 85,
     "metadata": {},
     "output_type": "execute_result"
    }
   ],
   "source": [
    "typeof(a)"
   ]
  },
  {
   "cell_type": "code",
   "execution_count": 86,
   "metadata": {},
   "outputs": [
    {
     "data": {
      "text/plain": [
       "10-element Array{Int64,1}:\n",
       "  1\n",
       "  2\n",
       "  3\n",
       "  4\n",
       "  5\n",
       "  6\n",
       "  7\n",
       "  8\n",
       "  9\n",
       " 10"
      ]
     },
     "execution_count": 86,
     "metadata": {},
     "output_type": "execute_result"
    }
   ],
   "source": [
    "collect(a)"
   ]
  },
  {
   "cell_type": "code",
   "execution_count": 73,
   "metadata": {},
   "outputs": [
    {
     "data": {
      "text/plain": [
       "1.0:1.3207963267948966:6.283185307179586"
      ]
     },
     "execution_count": 73,
     "metadata": {},
     "output_type": "execute_result"
    }
   ],
   "source": [
    "t = range(1, stop=2*pi, length=5) #pi is a predefined constant"
   ]
  },
  {
   "cell_type": "code",
   "execution_count": 74,
   "metadata": {},
   "outputs": [
    {
     "data": {
      "text/plain": [
       "5-element Array{Float64,1}:\n",
       " 1.0               \n",
       " 2.3207963267948966\n",
       " 3.641592653589793 \n",
       " 4.96238898038469  \n",
       " 6.283185307179586 "
      ]
     },
     "execution_count": 74,
     "metadata": {},
     "output_type": "execute_result"
    }
   ],
   "source": [
    "collect(t)"
   ]
  },
  {
   "cell_type": "code",
   "execution_count": 75,
   "metadata": {},
   "outputs": [
    {
     "data": {
      "text/plain": [
       "3-element Array{Int64,1}:\n",
       " 2\n",
       " 3\n",
       " 4"
      ]
     },
     "execution_count": 75,
     "metadata": {},
     "output_type": "execute_result"
    }
   ],
   "source": [
    "[x + 1 for x in 1:3] #list comprehension"
   ]
  },
  {
   "cell_type": "code",
   "execution_count": 76,
   "metadata": {},
   "outputs": [
    {
     "data": {
      "text/plain": [
       "5-element Array{Int64,1}:\n",
       "  2\n",
       "  4\n",
       "  6\n",
       "  8\n",
       " 10"
      ]
     },
     "execution_count": 76,
     "metadata": {},
     "output_type": "execute_result"
    }
   ],
   "source": [
    "[x for x in 1:10 if x % 2 == 0]"
   ]
  },
  {
   "cell_type": "code",
   "execution_count": 78,
   "metadata": {},
   "outputs": [
    {
     "data": {
      "text/plain": [
       "5×2 reshape(::UnitRange{Int64}, 5, 2) with eltype Int64:\n",
       " 1   6\n",
       " 2   7\n",
       " 3   8\n",
       " 4   9\n",
       " 5  10"
      ]
     },
     "execution_count": 78,
     "metadata": {},
     "output_type": "execute_result"
    }
   ],
   "source": [
    "A = reshape(1:10, 5, 2)"
   ]
  },
  {
   "cell_type": "code",
   "execution_count": 79,
   "metadata": {},
   "outputs": [
    {
     "data": {
      "text/plain": [
       "5×2 Array{Int64,2}:\n",
       " 1   6\n",
       " 2   7\n",
       " 3   8\n",
       " 4   9\n",
       " 5  10"
      ]
     },
     "execution_count": 79,
     "metadata": {},
     "output_type": "execute_result"
    }
   ],
   "source": [
    "collect(A)"
   ]
  },
  {
   "cell_type": "markdown",
   "metadata": {},
   "source": [
    "# ループ (loop)"
   ]
  },
  {
   "cell_type": "code",
   "execution_count": 80,
   "metadata": {},
   "outputs": [
    {
     "data": {
      "text/plain": [
       "1:10"
      ]
     },
     "execution_count": 80,
     "metadata": {},
     "output_type": "execute_result"
    }
   ],
   "source": [
    "a = 1:10"
   ]
  },
  {
   "cell_type": "code",
   "execution_count": 81,
   "metadata": {},
   "outputs": [
    {
     "name": "stdout",
     "output_type": "stream",
     "text": [
      "1\n",
      "2\n",
      "3\n",
      "4\n",
      "5\n",
      "6\n",
      "7\n",
      "8\n",
      "9\n",
      "10\n"
     ]
    }
   ],
   "source": [
    "for i in a\n",
    "    println(i)\n",
    "end"
   ]
  },
  {
   "cell_type": "code",
   "execution_count": 82,
   "metadata": {},
   "outputs": [
    {
     "data": {
      "text/plain": [
       "10.0"
      ]
     },
     "execution_count": 82,
     "metadata": {},
     "output_type": "execute_result"
    }
   ],
   "source": [
    "d = 0.0\n",
    "for i in 1:10\n",
    "    d += 1.0\n",
    "end\n",
    "d"
   ]
  },
  {
   "cell_type": "markdown",
   "metadata": {},
   "source": [
    "# 条件 (condition)"
   ]
  },
  {
   "cell_type": "code",
   "execution_count": 83,
   "metadata": {},
   "outputs": [
    {
     "data": {
      "text/plain": [
       "true"
      ]
     },
     "execution_count": 83,
     "metadata": {},
     "output_type": "execute_result"
    }
   ],
   "source": [
    "1.0 > 0.0"
   ]
  },
  {
   "cell_type": "code",
   "execution_count": 124,
   "metadata": {},
   "outputs": [
    {
     "data": {
      "text/plain": [
       "Bool"
      ]
     },
     "execution_count": 124,
     "metadata": {},
     "output_type": "execute_result"
    }
   ],
   "source": [
    "typeof(true)"
   ]
  },
  {
   "cell_type": "code",
   "execution_count": 121,
   "metadata": {},
   "outputs": [
    {
     "data": {
      "text/plain": [
       "false"
      ]
     },
     "execution_count": 121,
     "metadata": {},
     "output_type": "execute_result"
    }
   ],
   "source": [
    "1.0 < 0.0"
   ]
  },
  {
   "cell_type": "code",
   "execution_count": 123,
   "metadata": {},
   "outputs": [
    {
     "name": "stdout",
     "output_type": "stream",
     "text": [
      "hello world\n"
     ]
    }
   ],
   "source": [
    "if true\n",
    "    println(\"hello world\")\n",
    "end"
   ]
  },
  {
   "cell_type": "code",
   "execution_count": 126,
   "metadata": {},
   "outputs": [
    {
     "name": "stdout",
     "output_type": "stream",
     "text": [
      "hello world\n"
     ]
    }
   ],
   "source": [
    "if 1.0 > 0.0\n",
    "    println(\"hello world\")\n",
    "end"
   ]
  },
  {
   "cell_type": "markdown",
   "metadata": {},
   "source": [
    "# 算術演算 (arithmetics)"
   ]
  },
  {
   "cell_type": "code",
   "execution_count": 84,
   "metadata": {},
   "outputs": [
    {
     "data": {
      "text/plain": [
       "5×2 Array{Int64,2}:\n",
       " 1   6\n",
       " 2   7\n",
       " 3   8\n",
       " 4   9\n",
       " 5  10"
      ]
     },
     "execution_count": 84,
     "metadata": {},
     "output_type": "execute_result"
    }
   ],
   "source": [
    "A = reshape(collect(1:10), 5, 2)"
   ]
  },
  {
   "cell_type": "code",
   "execution_count": 144,
   "metadata": {},
   "outputs": [
    {
     "data": {
      "text/plain": [
       "55"
      ]
     },
     "execution_count": 144,
     "metadata": {},
     "output_type": "execute_result"
    }
   ],
   "source": [
    "sum(A)"
   ]
  },
  {
   "cell_type": "code",
   "execution_count": 145,
   "metadata": {},
   "outputs": [
    {
     "data": {
      "text/plain": [
       "1×2 Array{Int64,2}:\n",
       " 15  40"
      ]
     },
     "execution_count": 145,
     "metadata": {},
     "output_type": "execute_result"
    }
   ],
   "source": [
    "sum(A, dims=1)"
   ]
  },
  {
   "cell_type": "code",
   "execution_count": 146,
   "metadata": {},
   "outputs": [
    {
     "data": {
      "text/plain": [
       "5×1 Array{Int64,2}:\n",
       "  7\n",
       "  9\n",
       " 11\n",
       " 13\n",
       " 15"
      ]
     },
     "execution_count": 146,
     "metadata": {},
     "output_type": "execute_result"
    }
   ],
   "source": [
    "sum(A, dims=2)"
   ]
  },
  {
   "cell_type": "code",
   "execution_count": 85,
   "metadata": {},
   "outputs": [
    {
     "ename": "DimensionMismatch",
     "evalue": "DimensionMismatch(\"matrix is not square: dimensions are (5, 2)\")",
     "output_type": "error",
     "traceback": [
      "DimensionMismatch(\"matrix is not square: dimensions are (5, 2)\")",
      "",
      "Stacktrace:",
      " [1] exp!(::Array{Complex{Float64},2}) at /Users/osx/buildbot/slave/package_osx64/build/usr/share/julia/stdlib/v1.1/LinearAlgebra/src/LinearAlgebra.jl:214",
      " [2] sin(::Array{Int64,2}) at /Users/osx/buildbot/slave/package_osx64/build/usr/share/julia/stdlib/v1.1/LinearAlgebra/src/dense.jl:792",
      " [3] top-level scope at In[85]:1"
     ]
    }
   ],
   "source": [
    "sin(A)"
   ]
  },
  {
   "cell_type": "code",
   "execution_count": 86,
   "metadata": {},
   "outputs": [
    {
     "data": {
      "text/plain": [
       "5×2 Array{Float64,2}:\n",
       "  0.841471  -0.279415\n",
       "  0.909297   0.656987\n",
       "  0.14112    0.989358\n",
       " -0.756802   0.412118\n",
       " -0.958924  -0.544021"
      ]
     },
     "execution_count": 86,
     "metadata": {},
     "output_type": "execute_result"
    }
   ],
   "source": [
    "sin.(A)"
   ]
  },
  {
   "cell_type": "code",
   "execution_count": 149,
   "metadata": {},
   "outputs": [
    {
     "data": {
      "text/plain": [
       "32"
      ]
     },
     "execution_count": 149,
     "metadata": {},
     "output_type": "execute_result"
    }
   ],
   "source": [
    "a = [1, 2, 3]\n",
    "b = [4, 5, 6]\n",
    "sum(a.* b)"
   ]
  },
  {
   "cell_type": "code",
   "execution_count": 87,
   "metadata": {},
   "outputs": [
    {
     "data": {
      "text/plain": [
       "10-element Array{Int64,1}:\n",
       "   1\n",
       "   4\n",
       "   9\n",
       "  16\n",
       "  25\n",
       "  36\n",
       "  49\n",
       "  64\n",
       "  81\n",
       " 100"
      ]
     },
     "execution_count": 87,
     "metadata": {},
     "output_type": "execute_result"
    }
   ],
   "source": [
    "a.^2"
   ]
  },
  {
   "cell_type": "code",
   "execution_count": 89,
   "metadata": {},
   "outputs": [
    {
     "data": {
      "text/plain": [
       "19.621416870348583"
      ]
     },
     "execution_count": 89,
     "metadata": {},
     "output_type": "execute_result"
    }
   ],
   "source": [
    "sqrt(sum(a.^2))"
   ]
  },
  {
   "cell_type": "code",
   "execution_count": 154,
   "metadata": {},
   "outputs": [
    {
     "ename": "UndefVarError",
     "evalue": "UndefVarError: eigen not defined",
     "output_type": "error",
     "traceback": [
      "UndefVarError: eigen not defined",
      "",
      "Stacktrace:",
      " [1] top-level scope at In[154]:2"
     ]
    }
   ],
   "source": [
    "A = [1 2; 3 4]\n",
    "val, vec = eigen(A)"
   ]
  },
  {
   "cell_type": "markdown",
   "metadata": {},
   "source": [
    "# 関数 (function)"
   ]
  },
  {
   "cell_type": "code",
   "execution_count": 105,
   "metadata": {},
   "outputs": [
    {
     "data": {
      "text/plain": [
       "mysum (generic function with 3 methods)"
      ]
     },
     "execution_count": 105,
     "metadata": {},
     "output_type": "execute_result"
    }
   ],
   "source": [
    "function mysum(x)\n",
    "    x + 1\n",
    "end"
   ]
  },
  {
   "cell_type": "code",
   "execution_count": 114,
   "metadata": {},
   "outputs": [
    {
     "data": {
      "text/plain": [
       "mysum (generic function with 5 methods)"
      ]
     },
     "execution_count": 114,
     "metadata": {},
     "output_type": "execute_result"
    }
   ],
   "source": [
    "function mysum(y::Array{Int64, 1})\n",
    "    y .+ 1\n",
    "end"
   ]
  },
  {
   "cell_type": "code",
   "execution_count": 106,
   "metadata": {},
   "outputs": [
    {
     "data": {
      "text/plain": [
       "2.0"
      ]
     },
     "execution_count": 106,
     "metadata": {},
     "output_type": "execute_result"
    }
   ],
   "source": [
    "mysum(1.0)"
   ]
  },
  {
   "cell_type": "code",
   "execution_count": 107,
   "metadata": {},
   "outputs": [
    {
     "data": {
      "text/plain": [
       "2"
      ]
     },
     "execution_count": 107,
     "metadata": {},
     "output_type": "execute_result"
    }
   ],
   "source": [
    "mysum(1)"
   ]
  },
  {
   "cell_type": "code",
   "execution_count": 115,
   "metadata": {},
   "outputs": [
    {
     "data": {
      "text/plain": [
       "3-element Array{Int64,1}:\n",
       " 2\n",
       " 3\n",
       " 4"
      ]
     },
     "execution_count": 115,
     "metadata": {},
     "output_type": "execute_result"
    }
   ],
   "source": [
    "mysum([1, 2, 3])"
   ]
  },
  {
   "cell_type": "code",
   "execution_count": 116,
   "metadata": {},
   "outputs": [
    {
     "data": {
      "text/plain": [
       "3-element Array{Int64,1}:\n",
       " 2\n",
       " 3\n",
       " 4"
      ]
     },
     "execution_count": 116,
     "metadata": {},
     "output_type": "execute_result"
    }
   ],
   "source": [
    "mysum.([1, 2, 3])"
   ]
  },
  {
   "cell_type": "code",
   "execution_count": 182,
   "metadata": {},
   "outputs": [
    {
     "data": {
      "text/plain": [
       "mysum2 (generic function with 1 method)"
      ]
     },
     "execution_count": 182,
     "metadata": {},
     "output_type": "execute_result"
    }
   ],
   "source": [
    "mysum2(x) = x + 1"
   ]
  },
  {
   "cell_type": "code",
   "execution_count": 183,
   "metadata": {},
   "outputs": [
    {
     "data": {
      "text/plain": [
       "2.0"
      ]
     },
     "execution_count": 183,
     "metadata": {},
     "output_type": "execute_result"
    }
   ],
   "source": [
    "mysum2(1.0)"
   ]
  },
  {
   "cell_type": "code",
   "execution_count": 117,
   "metadata": {},
   "outputs": [
    {
     "data": {
      "text/plain": [
       "3-element Array{Int64,1}:\n",
       " 2\n",
       " 3\n",
       " 4"
      ]
     },
     "execution_count": 117,
     "metadata": {},
     "output_type": "execute_result"
    }
   ],
   "source": [
    "map(x -> x + 1, [1, 2, 3])"
   ]
  },
  {
   "cell_type": "code",
   "execution_count": 186,
   "metadata": {},
   "outputs": [
    {
     "data": {
      "text/plain": [
       "3-element Array{Int64,1}:\n",
       " 2\n",
       " 3\n",
       " 4"
      ]
     },
     "execution_count": 186,
     "metadata": {},
     "output_type": "execute_result"
    }
   ],
   "source": [
    "[x + 1 for x in [1, 2, 3]]"
   ]
  },
  {
   "cell_type": "markdown",
   "metadata": {},
   "source": [
    "# 描画 (Plots)"
   ]
  },
  {
   "cell_type": "markdown",
   "metadata": {},
   "source": [
    "詳しくはPlotsのチュートリアル参照のこと\n",
    "http://docs.juliaplots.org/latest/tutorial/#tutorial-1"
   ]
  },
  {
   "cell_type": "code",
   "execution_count": 120,
   "metadata": {},
   "outputs": [],
   "source": [
    "using Plots"
   ]
  },
  {
   "cell_type": "code",
   "execution_count": 121,
   "metadata": {},
   "outputs": [
    {
     "data": {
      "text/plain": [
       "Plots.GRBackend()"
      ]
     },
     "execution_count": 121,
     "metadata": {},
     "output_type": "execute_result"
    }
   ],
   "source": [
    "gr()"
   ]
  },
  {
   "cell_type": "code",
   "execution_count": 123,
   "metadata": {},
   "outputs": [],
   "source": [
    "x = range(1, stop=4*pi, length=50);\n",
    "y = sin.(x);"
   ]
  },
  {
   "cell_type": "code",
   "execution_count": 124,
   "metadata": {},
   "outputs": [
    {
     "data": {
      "image/svg+xml": [
       "<?xml version=\"1.0\" encoding=\"utf-8\"?>\n",
       "<svg xmlns=\"http://www.w3.org/2000/svg\" xmlns:xlink=\"http://www.w3.org/1999/xlink\" width=\"600\" height=\"400\" viewBox=\"0 0 2400 1600\">\n",
       "<defs>\n",
       "  <clipPath id=\"clip9000\">\n",
       "    <rect x=\"0\" y=\"0\" width=\"2400\" height=\"1600\"/>\n",
       "  </clipPath>\n",
       "</defs>\n",
       "<polygon clip-path=\"url(#clip9000)\" points=\"\n",
       "0,1600 2400,1600 2400,0 0,0 \n",
       "  \" fill=\"#ffffff\" fill-rule=\"evenodd\" fill-opacity=\"1\"/>\n",
       "<defs>\n",
       "  <clipPath id=\"clip9001\">\n",
       "    <rect x=\"480\" y=\"0\" width=\"1681\" height=\"1600\"/>\n",
       "  </clipPath>\n",
       "</defs>\n",
       "<polygon clip-path=\"url(#clip9000)\" points=\"\n",
       "189.504,1503.47 2321.26,1503.47 2321.26,47.2441 189.504,47.2441 \n",
       "  \" fill=\"#ffffff\" fill-rule=\"evenodd\" fill-opacity=\"1\"/>\n",
       "<defs>\n",
       "  <clipPath id=\"clip9002\">\n",
       "    <rect x=\"189\" y=\"47\" width=\"2133\" height=\"1457\"/>\n",
       "  </clipPath>\n",
       "</defs>\n",
       "<polyline clip-path=\"url(#clip9002)\" style=\"stroke:#000000; stroke-width:2; stroke-opacity:0.1; fill:none\" points=\"\n",
       "  510.648,1503.47 510.648,47.2441 \n",
       "  \"/>\n",
       "<polyline clip-path=\"url(#clip9002)\" style=\"stroke:#000000; stroke-width:2; stroke-opacity:0.1; fill:none\" points=\"\n",
       "  945.333,1503.47 945.333,47.2441 \n",
       "  \"/>\n",
       "<polyline clip-path=\"url(#clip9002)\" style=\"stroke:#000000; stroke-width:2; stroke-opacity:0.1; fill:none\" points=\"\n",
       "  1380.02,1503.47 1380.02,47.2441 \n",
       "  \"/>\n",
       "<polyline clip-path=\"url(#clip9002)\" style=\"stroke:#000000; stroke-width:2; stroke-opacity:0.1; fill:none\" points=\"\n",
       "  1814.7,1503.47 1814.7,47.2441 \n",
       "  \"/>\n",
       "<polyline clip-path=\"url(#clip9002)\" style=\"stroke:#000000; stroke-width:2; stroke-opacity:0.1; fill:none\" points=\"\n",
       "  2249.39,1503.47 2249.39,47.2441 \n",
       "  \"/>\n",
       "<polyline clip-path=\"url(#clip9002)\" style=\"stroke:#000000; stroke-width:2; stroke-opacity:0.1; fill:none\" points=\"\n",
       "  189.504,1463.69 2321.26,1463.69 \n",
       "  \"/>\n",
       "<polyline clip-path=\"url(#clip9002)\" style=\"stroke:#000000; stroke-width:2; stroke-opacity:0.1; fill:none\" points=\"\n",
       "  189.504,1119.87 2321.26,1119.87 \n",
       "  \"/>\n",
       "<polyline clip-path=\"url(#clip9002)\" style=\"stroke:#000000; stroke-width:2; stroke-opacity:0.1; fill:none\" points=\"\n",
       "  189.504,776.059 2321.26,776.059 \n",
       "  \"/>\n",
       "<polyline clip-path=\"url(#clip9002)\" style=\"stroke:#000000; stroke-width:2; stroke-opacity:0.1; fill:none\" points=\"\n",
       "  189.504,432.246 2321.26,432.246 \n",
       "  \"/>\n",
       "<polyline clip-path=\"url(#clip9002)\" style=\"stroke:#000000; stroke-width:2; stroke-opacity:0.1; fill:none\" points=\"\n",
       "  189.504,88.4329 2321.26,88.4329 \n",
       "  \"/>\n",
       "<polyline clip-path=\"url(#clip9000)\" style=\"stroke:#000000; stroke-width:4; stroke-opacity:1; fill:none\" points=\"\n",
       "  189.504,1503.47 2321.26,1503.47 \n",
       "  \"/>\n",
       "<polyline clip-path=\"url(#clip9000)\" style=\"stroke:#000000; stroke-width:4; stroke-opacity:1; fill:none\" points=\"\n",
       "  189.504,1503.47 189.504,47.2441 \n",
       "  \"/>\n",
       "<polyline clip-path=\"url(#clip9000)\" style=\"stroke:#000000; stroke-width:4; stroke-opacity:1; fill:none\" points=\"\n",
       "  510.648,1503.47 510.648,1481.63 \n",
       "  \"/>\n",
       "<polyline clip-path=\"url(#clip9000)\" style=\"stroke:#000000; stroke-width:4; stroke-opacity:1; fill:none\" points=\"\n",
       "  945.333,1503.47 945.333,1481.63 \n",
       "  \"/>\n",
       "<polyline clip-path=\"url(#clip9000)\" style=\"stroke:#000000; stroke-width:4; stroke-opacity:1; fill:none\" points=\"\n",
       "  1380.02,1503.47 1380.02,1481.63 \n",
       "  \"/>\n",
       "<polyline clip-path=\"url(#clip9000)\" style=\"stroke:#000000; stroke-width:4; stroke-opacity:1; fill:none\" points=\"\n",
       "  1814.7,1503.47 1814.7,1481.63 \n",
       "  \"/>\n",
       "<polyline clip-path=\"url(#clip9000)\" style=\"stroke:#000000; stroke-width:4; stroke-opacity:1; fill:none\" points=\"\n",
       "  2249.39,1503.47 2249.39,1481.63 \n",
       "  \"/>\n",
       "<polyline clip-path=\"url(#clip9000)\" style=\"stroke:#000000; stroke-width:4; stroke-opacity:1; fill:none\" points=\"\n",
       "  189.504,1463.69 221.48,1463.69 \n",
       "  \"/>\n",
       "<polyline clip-path=\"url(#clip9000)\" style=\"stroke:#000000; stroke-width:4; stroke-opacity:1; fill:none\" points=\"\n",
       "  189.504,1119.87 221.48,1119.87 \n",
       "  \"/>\n",
       "<polyline clip-path=\"url(#clip9000)\" style=\"stroke:#000000; stroke-width:4; stroke-opacity:1; fill:none\" points=\"\n",
       "  189.504,776.059 221.48,776.059 \n",
       "  \"/>\n",
       "<polyline clip-path=\"url(#clip9000)\" style=\"stroke:#000000; stroke-width:4; stroke-opacity:1; fill:none\" points=\"\n",
       "  189.504,432.246 221.48,432.246 \n",
       "  \"/>\n",
       "<polyline clip-path=\"url(#clip9000)\" style=\"stroke:#000000; stroke-width:4; stroke-opacity:1; fill:none\" points=\"\n",
       "  189.504,88.4329 221.48,88.4329 \n",
       "  \"/>\n",
       "<g clip-path=\"url(#clip9000)\">\n",
       "<text style=\"fill:#000000; fill-opacity:1; font-family:Arial,Helvetica Neue,Helvetica,sans-serif; font-size:48px; text-anchor:middle;\" transform=\"rotate(0, 510.648, 1557.47)\" x=\"510.648\" y=\"1557.47\">2.5</text>\n",
       "</g>\n",
       "<g clip-path=\"url(#clip9000)\">\n",
       "<text style=\"fill:#000000; fill-opacity:1; font-family:Arial,Helvetica Neue,Helvetica,sans-serif; font-size:48px; text-anchor:middle;\" transform=\"rotate(0, 945.333, 1557.47)\" x=\"945.333\" y=\"1557.47\">5.0</text>\n",
       "</g>\n",
       "<g clip-path=\"url(#clip9000)\">\n",
       "<text style=\"fill:#000000; fill-opacity:1; font-family:Arial,Helvetica Neue,Helvetica,sans-serif; font-size:48px; text-anchor:middle;\" transform=\"rotate(0, 1380.02, 1557.47)\" x=\"1380.02\" y=\"1557.47\">7.5</text>\n",
       "</g>\n",
       "<g clip-path=\"url(#clip9000)\">\n",
       "<text style=\"fill:#000000; fill-opacity:1; font-family:Arial,Helvetica Neue,Helvetica,sans-serif; font-size:48px; text-anchor:middle;\" transform=\"rotate(0, 1814.7, 1557.47)\" x=\"1814.7\" y=\"1557.47\">10.0</text>\n",
       "</g>\n",
       "<g clip-path=\"url(#clip9000)\">\n",
       "<text style=\"fill:#000000; fill-opacity:1; font-family:Arial,Helvetica Neue,Helvetica,sans-serif; font-size:48px; text-anchor:middle;\" transform=\"rotate(0, 2249.39, 1557.47)\" x=\"2249.39\" y=\"1557.47\">12.5</text>\n",
       "</g>\n",
       "<g clip-path=\"url(#clip9000)\">\n",
       "<text style=\"fill:#000000; fill-opacity:1; font-family:Arial,Helvetica Neue,Helvetica,sans-serif; font-size:48px; text-anchor:end;\" transform=\"rotate(0, 165.504, 1481.19)\" x=\"165.504\" y=\"1481.19\">-1.0</text>\n",
       "</g>\n",
       "<g clip-path=\"url(#clip9000)\">\n",
       "<text style=\"fill:#000000; fill-opacity:1; font-family:Arial,Helvetica Neue,Helvetica,sans-serif; font-size:48px; text-anchor:end;\" transform=\"rotate(0, 165.504, 1137.37)\" x=\"165.504\" y=\"1137.37\">-0.5</text>\n",
       "</g>\n",
       "<g clip-path=\"url(#clip9000)\">\n",
       "<text style=\"fill:#000000; fill-opacity:1; font-family:Arial,Helvetica Neue,Helvetica,sans-serif; font-size:48px; text-anchor:end;\" transform=\"rotate(0, 165.504, 793.559)\" x=\"165.504\" y=\"793.559\">0.0</text>\n",
       "</g>\n",
       "<g clip-path=\"url(#clip9000)\">\n",
       "<text style=\"fill:#000000; fill-opacity:1; font-family:Arial,Helvetica Neue,Helvetica,sans-serif; font-size:48px; text-anchor:end;\" transform=\"rotate(0, 165.504, 449.746)\" x=\"165.504\" y=\"449.746\">0.5</text>\n",
       "</g>\n",
       "<g clip-path=\"url(#clip9000)\">\n",
       "<text style=\"fill:#000000; fill-opacity:1; font-family:Arial,Helvetica Neue,Helvetica,sans-serif; font-size:48px; text-anchor:end;\" transform=\"rotate(0, 165.504, 105.933)\" x=\"165.504\" y=\"105.933\">1.0</text>\n",
       "</g>\n",
       "<polyline clip-path=\"url(#clip9002)\" style=\"stroke:#009af9; stroke-width:4; stroke-opacity:1; fill:none\" points=\"\n",
       "  249.837,197.442 290.879,126.601 331.922,91.7794 372.965,94.9086 414.007,135.815 455.05,212.229 496.093,319.914 537.135,452.897 578.178,603.803 619.221,764.262 \n",
       "  660.263,925.375 701.306,1078.21 742.349,1214.28 783.391,1326.05 824.434,1407.32 865.477,1453.58 906.519,1462.26 947.562,1432.89 988.605,1367.08 1029.65,1268.5 \n",
       "  1070.69,1142.61 1111.73,996.386 1152.78,837.945 1193.82,676.071 1234.86,519.743 1275.9,377.631 1316.95,257.615 1357.99,166.353 1399.03,108.905 1440.07,88.4582 \n",
       "  1481.12,106.146 1522.16,160.988 1563.2,249.942 1604.24,368.074 1645.29,508.834 1686.33,664.414 1727.37,826.186 1768.42,985.178 1809.46,1132.57 1850.5,1260.19 \n",
       "  1891.54,1360.97 1932.59,1429.3 1973.63,1461.4 2014.67,1455.49 2055.71,1411.91 2096.76,1333.05 2137.8,1223.31 2178.84,1088.76 2219.88,936.869 2260.93,776.059 \n",
       "  \n",
       "  \"/>\n",
       "<polygon clip-path=\"url(#clip9000)\" points=\"\n",
       "1958.43,251.724 2249.26,251.724 2249.26,130.764 1958.43,130.764 \n",
       "  \" fill=\"#ffffff\" fill-rule=\"evenodd\" fill-opacity=\"1\"/>\n",
       "<polyline clip-path=\"url(#clip9000)\" style=\"stroke:#000000; stroke-width:4; stroke-opacity:1; fill:none\" points=\"\n",
       "  1958.43,251.724 2249.26,251.724 2249.26,130.764 1958.43,130.764 1958.43,251.724 \n",
       "  \"/>\n",
       "<polyline clip-path=\"url(#clip9000)\" style=\"stroke:#009af9; stroke-width:4; stroke-opacity:1; fill:none\" points=\"\n",
       "  1982.43,191.244 2126.43,191.244 \n",
       "  \"/>\n",
       "<g clip-path=\"url(#clip9000)\">\n",
       "<text style=\"fill:#000000; fill-opacity:1; font-family:Arial,Helvetica Neue,Helvetica,sans-serif; font-size:48px; text-anchor:start;\" transform=\"rotate(0, 2150.43, 208.744)\" x=\"2150.43\" y=\"208.744\">y1</text>\n",
       "</g>\n",
       "</svg>\n"
      ]
     },
     "execution_count": 124,
     "metadata": {},
     "output_type": "execute_result"
    }
   ],
   "source": [
    "plot(x, y)"
   ]
  },
  {
   "cell_type": "code",
   "execution_count": 126,
   "metadata": {},
   "outputs": [
    {
     "data": {
      "image/svg+xml": [
       "<?xml version=\"1.0\" encoding=\"utf-8\"?>\n",
       "<svg xmlns=\"http://www.w3.org/2000/svg\" xmlns:xlink=\"http://www.w3.org/1999/xlink\" width=\"600\" height=\"400\" viewBox=\"0 0 2400 1600\">\n",
       "<defs>\n",
       "  <clipPath id=\"clip9400\">\n",
       "    <rect x=\"0\" y=\"0\" width=\"2400\" height=\"1600\"/>\n",
       "  </clipPath>\n",
       "</defs>\n",
       "<polygon clip-path=\"url(#clip9400)\" points=\"\n",
       "0,1600 2400,1600 2400,0 0,0 \n",
       "  \" fill=\"#ffffff\" fill-rule=\"evenodd\" fill-opacity=\"1\"/>\n",
       "<defs>\n",
       "  <clipPath id=\"clip9401\">\n",
       "    <rect x=\"480\" y=\"0\" width=\"1681\" height=\"1600\"/>\n",
       "  </clipPath>\n",
       "</defs>\n",
       "<polygon clip-path=\"url(#clip9400)\" points=\"\n",
       "189.504,1503.47 2321.26,1503.47 2321.26,47.2441 189.504,47.2441 \n",
       "  \" fill=\"#ffffff\" fill-rule=\"evenodd\" fill-opacity=\"1\"/>\n",
       "<defs>\n",
       "  <clipPath id=\"clip9402\">\n",
       "    <rect x=\"189\" y=\"47\" width=\"2133\" height=\"1457\"/>\n",
       "  </clipPath>\n",
       "</defs>\n",
       "<polyline clip-path=\"url(#clip9402)\" style=\"stroke:#000000; stroke-width:2; stroke-opacity:0.1; fill:none\" points=\"\n",
       "  510.648,1503.47 510.648,47.2441 \n",
       "  \"/>\n",
       "<polyline clip-path=\"url(#clip9402)\" style=\"stroke:#000000; stroke-width:2; stroke-opacity:0.1; fill:none\" points=\"\n",
       "  945.333,1503.47 945.333,47.2441 \n",
       "  \"/>\n",
       "<polyline clip-path=\"url(#clip9402)\" style=\"stroke:#000000; stroke-width:2; stroke-opacity:0.1; fill:none\" points=\"\n",
       "  1380.02,1503.47 1380.02,47.2441 \n",
       "  \"/>\n",
       "<polyline clip-path=\"url(#clip9402)\" style=\"stroke:#000000; stroke-width:2; stroke-opacity:0.1; fill:none\" points=\"\n",
       "  1814.7,1503.47 1814.7,47.2441 \n",
       "  \"/>\n",
       "<polyline clip-path=\"url(#clip9402)\" style=\"stroke:#000000; stroke-width:2; stroke-opacity:0.1; fill:none\" points=\"\n",
       "  2249.39,1503.47 2249.39,47.2441 \n",
       "  \"/>\n",
       "<polyline clip-path=\"url(#clip9402)\" style=\"stroke:#000000; stroke-width:2; stroke-opacity:0.1; fill:none\" points=\"\n",
       "  189.504,1463.69 2321.26,1463.69 \n",
       "  \"/>\n",
       "<polyline clip-path=\"url(#clip9402)\" style=\"stroke:#000000; stroke-width:2; stroke-opacity:0.1; fill:none\" points=\"\n",
       "  189.504,1119.87 2321.26,1119.87 \n",
       "  \"/>\n",
       "<polyline clip-path=\"url(#clip9402)\" style=\"stroke:#000000; stroke-width:2; stroke-opacity:0.1; fill:none\" points=\"\n",
       "  189.504,776.059 2321.26,776.059 \n",
       "  \"/>\n",
       "<polyline clip-path=\"url(#clip9402)\" style=\"stroke:#000000; stroke-width:2; stroke-opacity:0.1; fill:none\" points=\"\n",
       "  189.504,432.246 2321.26,432.246 \n",
       "  \"/>\n",
       "<polyline clip-path=\"url(#clip9402)\" style=\"stroke:#000000; stroke-width:2; stroke-opacity:0.1; fill:none\" points=\"\n",
       "  189.504,88.4329 2321.26,88.4329 \n",
       "  \"/>\n",
       "<polyline clip-path=\"url(#clip9400)\" style=\"stroke:#000000; stroke-width:4; stroke-opacity:1; fill:none\" points=\"\n",
       "  189.504,1503.47 2321.26,1503.47 \n",
       "  \"/>\n",
       "<polyline clip-path=\"url(#clip9400)\" style=\"stroke:#000000; stroke-width:4; stroke-opacity:1; fill:none\" points=\"\n",
       "  189.504,1503.47 189.504,47.2441 \n",
       "  \"/>\n",
       "<polyline clip-path=\"url(#clip9400)\" style=\"stroke:#000000; stroke-width:4; stroke-opacity:1; fill:none\" points=\"\n",
       "  510.648,1503.47 510.648,1481.63 \n",
       "  \"/>\n",
       "<polyline clip-path=\"url(#clip9400)\" style=\"stroke:#000000; stroke-width:4; stroke-opacity:1; fill:none\" points=\"\n",
       "  945.333,1503.47 945.333,1481.63 \n",
       "  \"/>\n",
       "<polyline clip-path=\"url(#clip9400)\" style=\"stroke:#000000; stroke-width:4; stroke-opacity:1; fill:none\" points=\"\n",
       "  1380.02,1503.47 1380.02,1481.63 \n",
       "  \"/>\n",
       "<polyline clip-path=\"url(#clip9400)\" style=\"stroke:#000000; stroke-width:4; stroke-opacity:1; fill:none\" points=\"\n",
       "  1814.7,1503.47 1814.7,1481.63 \n",
       "  \"/>\n",
       "<polyline clip-path=\"url(#clip9400)\" style=\"stroke:#000000; stroke-width:4; stroke-opacity:1; fill:none\" points=\"\n",
       "  2249.39,1503.47 2249.39,1481.63 \n",
       "  \"/>\n",
       "<polyline clip-path=\"url(#clip9400)\" style=\"stroke:#000000; stroke-width:4; stroke-opacity:1; fill:none\" points=\"\n",
       "  189.504,1463.69 221.48,1463.69 \n",
       "  \"/>\n",
       "<polyline clip-path=\"url(#clip9400)\" style=\"stroke:#000000; stroke-width:4; stroke-opacity:1; fill:none\" points=\"\n",
       "  189.504,1119.87 221.48,1119.87 \n",
       "  \"/>\n",
       "<polyline clip-path=\"url(#clip9400)\" style=\"stroke:#000000; stroke-width:4; stroke-opacity:1; fill:none\" points=\"\n",
       "  189.504,776.059 221.48,776.059 \n",
       "  \"/>\n",
       "<polyline clip-path=\"url(#clip9400)\" style=\"stroke:#000000; stroke-width:4; stroke-opacity:1; fill:none\" points=\"\n",
       "  189.504,432.246 221.48,432.246 \n",
       "  \"/>\n",
       "<polyline clip-path=\"url(#clip9400)\" style=\"stroke:#000000; stroke-width:4; stroke-opacity:1; fill:none\" points=\"\n",
       "  189.504,88.4329 221.48,88.4329 \n",
       "  \"/>\n",
       "<g clip-path=\"url(#clip9400)\">\n",
       "<text style=\"fill:#000000; fill-opacity:1; font-family:Arial,Helvetica Neue,Helvetica,sans-serif; font-size:48px; text-anchor:middle;\" transform=\"rotate(0, 510.648, 1557.47)\" x=\"510.648\" y=\"1557.47\">2.5</text>\n",
       "</g>\n",
       "<g clip-path=\"url(#clip9400)\">\n",
       "<text style=\"fill:#000000; fill-opacity:1; font-family:Arial,Helvetica Neue,Helvetica,sans-serif; font-size:48px; text-anchor:middle;\" transform=\"rotate(0, 945.333, 1557.47)\" x=\"945.333\" y=\"1557.47\">5.0</text>\n",
       "</g>\n",
       "<g clip-path=\"url(#clip9400)\">\n",
       "<text style=\"fill:#000000; fill-opacity:1; font-family:Arial,Helvetica Neue,Helvetica,sans-serif; font-size:48px; text-anchor:middle;\" transform=\"rotate(0, 1380.02, 1557.47)\" x=\"1380.02\" y=\"1557.47\">7.5</text>\n",
       "</g>\n",
       "<g clip-path=\"url(#clip9400)\">\n",
       "<text style=\"fill:#000000; fill-opacity:1; font-family:Arial,Helvetica Neue,Helvetica,sans-serif; font-size:48px; text-anchor:middle;\" transform=\"rotate(0, 1814.7, 1557.47)\" x=\"1814.7\" y=\"1557.47\">10.0</text>\n",
       "</g>\n",
       "<g clip-path=\"url(#clip9400)\">\n",
       "<text style=\"fill:#000000; fill-opacity:1; font-family:Arial,Helvetica Neue,Helvetica,sans-serif; font-size:48px; text-anchor:middle;\" transform=\"rotate(0, 2249.39, 1557.47)\" x=\"2249.39\" y=\"1557.47\">12.5</text>\n",
       "</g>\n",
       "<g clip-path=\"url(#clip9400)\">\n",
       "<text style=\"fill:#000000; fill-opacity:1; font-family:Arial,Helvetica Neue,Helvetica,sans-serif; font-size:48px; text-anchor:end;\" transform=\"rotate(0, 165.504, 1481.19)\" x=\"165.504\" y=\"1481.19\">-1.0</text>\n",
       "</g>\n",
       "<g clip-path=\"url(#clip9400)\">\n",
       "<text style=\"fill:#000000; fill-opacity:1; font-family:Arial,Helvetica Neue,Helvetica,sans-serif; font-size:48px; text-anchor:end;\" transform=\"rotate(0, 165.504, 1137.37)\" x=\"165.504\" y=\"1137.37\">-0.5</text>\n",
       "</g>\n",
       "<g clip-path=\"url(#clip9400)\">\n",
       "<text style=\"fill:#000000; fill-opacity:1; font-family:Arial,Helvetica Neue,Helvetica,sans-serif; font-size:48px; text-anchor:end;\" transform=\"rotate(0, 165.504, 793.559)\" x=\"165.504\" y=\"793.559\">0.0</text>\n",
       "</g>\n",
       "<g clip-path=\"url(#clip9400)\">\n",
       "<text style=\"fill:#000000; fill-opacity:1; font-family:Arial,Helvetica Neue,Helvetica,sans-serif; font-size:48px; text-anchor:end;\" transform=\"rotate(0, 165.504, 449.746)\" x=\"165.504\" y=\"449.746\">0.5</text>\n",
       "</g>\n",
       "<g clip-path=\"url(#clip9400)\">\n",
       "<text style=\"fill:#000000; fill-opacity:1; font-family:Arial,Helvetica Neue,Helvetica,sans-serif; font-size:48px; text-anchor:end;\" transform=\"rotate(0, 165.504, 105.933)\" x=\"165.504\" y=\"105.933\">1.0</text>\n",
       "</g>\n",
       "<polyline clip-path=\"url(#clip9402)\" style=\"stroke:#009af9; stroke-width:4; stroke-opacity:1; fill:none\" points=\"\n",
       "  249.837,197.442 290.879,126.601 331.922,91.7794 372.965,94.9086 414.007,135.815 455.05,212.229 496.093,319.914 537.135,452.897 578.178,603.803 619.221,764.262 \n",
       "  660.263,925.375 701.306,1078.21 742.349,1214.28 783.391,1326.05 824.434,1407.32 865.477,1453.58 906.519,1462.26 947.562,1432.89 988.605,1367.08 1029.65,1268.5 \n",
       "  1070.69,1142.61 1111.73,996.386 1152.78,837.945 1193.82,676.071 1234.86,519.743 1275.9,377.631 1316.95,257.615 1357.99,166.353 1399.03,108.905 1440.07,88.4582 \n",
       "  1481.12,106.146 1522.16,160.988 1563.2,249.942 1604.24,368.074 1645.29,508.834 1686.33,664.414 1727.37,826.186 1768.42,985.178 1809.46,1132.57 1850.5,1260.19 \n",
       "  1891.54,1360.97 1932.59,1429.3 1973.63,1461.4 2014.67,1455.49 2055.71,1411.91 2096.76,1333.05 2137.8,1223.31 2178.84,1088.76 2219.88,936.869 2260.93,776.059 \n",
       "  \n",
       "  \"/>\n",
       "<circle clip-path=\"url(#clip9402)\" style=\"fill:#000000; stroke:none; fill-opacity:1\" cx=\"249.837\" cy=\"197.442\" r=\"18\"/>\n",
       "<circle clip-path=\"url(#clip9402)\" style=\"fill:#009af9; stroke:none; fill-opacity:1\" cx=\"249.837\" cy=\"197.442\" r=\"14\"/>\n",
       "<circle clip-path=\"url(#clip9402)\" style=\"fill:#000000; stroke:none; fill-opacity:1\" cx=\"290.879\" cy=\"126.601\" r=\"18\"/>\n",
       "<circle clip-path=\"url(#clip9402)\" style=\"fill:#009af9; stroke:none; fill-opacity:1\" cx=\"290.879\" cy=\"126.601\" r=\"14\"/>\n",
       "<circle clip-path=\"url(#clip9402)\" style=\"fill:#000000; stroke:none; fill-opacity:1\" cx=\"331.922\" cy=\"91.7794\" r=\"18\"/>\n",
       "<circle clip-path=\"url(#clip9402)\" style=\"fill:#009af9; stroke:none; fill-opacity:1\" cx=\"331.922\" cy=\"91.7794\" r=\"14\"/>\n",
       "<circle clip-path=\"url(#clip9402)\" style=\"fill:#000000; stroke:none; fill-opacity:1\" cx=\"372.965\" cy=\"94.9086\" r=\"18\"/>\n",
       "<circle clip-path=\"url(#clip9402)\" style=\"fill:#009af9; stroke:none; fill-opacity:1\" cx=\"372.965\" cy=\"94.9086\" r=\"14\"/>\n",
       "<circle clip-path=\"url(#clip9402)\" style=\"fill:#000000; stroke:none; fill-opacity:1\" cx=\"414.007\" cy=\"135.815\" r=\"18\"/>\n",
       "<circle clip-path=\"url(#clip9402)\" style=\"fill:#009af9; stroke:none; fill-opacity:1\" cx=\"414.007\" cy=\"135.815\" r=\"14\"/>\n",
       "<circle clip-path=\"url(#clip9402)\" style=\"fill:#000000; stroke:none; fill-opacity:1\" cx=\"455.05\" cy=\"212.229\" r=\"18\"/>\n",
       "<circle clip-path=\"url(#clip9402)\" style=\"fill:#009af9; stroke:none; fill-opacity:1\" cx=\"455.05\" cy=\"212.229\" r=\"14\"/>\n",
       "<circle clip-path=\"url(#clip9402)\" style=\"fill:#000000; stroke:none; fill-opacity:1\" cx=\"496.093\" cy=\"319.914\" r=\"18\"/>\n",
       "<circle clip-path=\"url(#clip9402)\" style=\"fill:#009af9; stroke:none; fill-opacity:1\" cx=\"496.093\" cy=\"319.914\" r=\"14\"/>\n",
       "<circle clip-path=\"url(#clip9402)\" style=\"fill:#000000; stroke:none; fill-opacity:1\" cx=\"537.135\" cy=\"452.897\" r=\"18\"/>\n",
       "<circle clip-path=\"url(#clip9402)\" style=\"fill:#009af9; stroke:none; fill-opacity:1\" cx=\"537.135\" cy=\"452.897\" r=\"14\"/>\n",
       "<circle clip-path=\"url(#clip9402)\" style=\"fill:#000000; stroke:none; fill-opacity:1\" cx=\"578.178\" cy=\"603.803\" r=\"18\"/>\n",
       "<circle clip-path=\"url(#clip9402)\" style=\"fill:#009af9; stroke:none; fill-opacity:1\" cx=\"578.178\" cy=\"603.803\" r=\"14\"/>\n",
       "<circle clip-path=\"url(#clip9402)\" style=\"fill:#000000; stroke:none; fill-opacity:1\" cx=\"619.221\" cy=\"764.262\" r=\"18\"/>\n",
       "<circle clip-path=\"url(#clip9402)\" style=\"fill:#009af9; stroke:none; fill-opacity:1\" cx=\"619.221\" cy=\"764.262\" r=\"14\"/>\n",
       "<circle clip-path=\"url(#clip9402)\" style=\"fill:#000000; stroke:none; fill-opacity:1\" cx=\"660.263\" cy=\"925.375\" r=\"18\"/>\n",
       "<circle clip-path=\"url(#clip9402)\" style=\"fill:#009af9; stroke:none; fill-opacity:1\" cx=\"660.263\" cy=\"925.375\" r=\"14\"/>\n",
       "<circle clip-path=\"url(#clip9402)\" style=\"fill:#000000; stroke:none; fill-opacity:1\" cx=\"701.306\" cy=\"1078.21\" r=\"18\"/>\n",
       "<circle clip-path=\"url(#clip9402)\" style=\"fill:#009af9; stroke:none; fill-opacity:1\" cx=\"701.306\" cy=\"1078.21\" r=\"14\"/>\n",
       "<circle clip-path=\"url(#clip9402)\" style=\"fill:#000000; stroke:none; fill-opacity:1\" cx=\"742.349\" cy=\"1214.28\" r=\"18\"/>\n",
       "<circle clip-path=\"url(#clip9402)\" style=\"fill:#009af9; stroke:none; fill-opacity:1\" cx=\"742.349\" cy=\"1214.28\" r=\"14\"/>\n",
       "<circle clip-path=\"url(#clip9402)\" style=\"fill:#000000; stroke:none; fill-opacity:1\" cx=\"783.391\" cy=\"1326.05\" r=\"18\"/>\n",
       "<circle clip-path=\"url(#clip9402)\" style=\"fill:#009af9; stroke:none; fill-opacity:1\" cx=\"783.391\" cy=\"1326.05\" r=\"14\"/>\n",
       "<circle clip-path=\"url(#clip9402)\" style=\"fill:#000000; stroke:none; fill-opacity:1\" cx=\"824.434\" cy=\"1407.32\" r=\"18\"/>\n",
       "<circle clip-path=\"url(#clip9402)\" style=\"fill:#009af9; stroke:none; fill-opacity:1\" cx=\"824.434\" cy=\"1407.32\" r=\"14\"/>\n",
       "<circle clip-path=\"url(#clip9402)\" style=\"fill:#000000; stroke:none; fill-opacity:1\" cx=\"865.477\" cy=\"1453.58\" r=\"18\"/>\n",
       "<circle clip-path=\"url(#clip9402)\" style=\"fill:#009af9; stroke:none; fill-opacity:1\" cx=\"865.477\" cy=\"1453.58\" r=\"14\"/>\n",
       "<circle clip-path=\"url(#clip9402)\" style=\"fill:#000000; stroke:none; fill-opacity:1\" cx=\"906.519\" cy=\"1462.26\" r=\"18\"/>\n",
       "<circle clip-path=\"url(#clip9402)\" style=\"fill:#009af9; stroke:none; fill-opacity:1\" cx=\"906.519\" cy=\"1462.26\" r=\"14\"/>\n",
       "<circle clip-path=\"url(#clip9402)\" style=\"fill:#000000; stroke:none; fill-opacity:1\" cx=\"947.562\" cy=\"1432.89\" r=\"18\"/>\n",
       "<circle clip-path=\"url(#clip9402)\" style=\"fill:#009af9; stroke:none; fill-opacity:1\" cx=\"947.562\" cy=\"1432.89\" r=\"14\"/>\n",
       "<circle clip-path=\"url(#clip9402)\" style=\"fill:#000000; stroke:none; fill-opacity:1\" cx=\"988.605\" cy=\"1367.08\" r=\"18\"/>\n",
       "<circle clip-path=\"url(#clip9402)\" style=\"fill:#009af9; stroke:none; fill-opacity:1\" cx=\"988.605\" cy=\"1367.08\" r=\"14\"/>\n",
       "<circle clip-path=\"url(#clip9402)\" style=\"fill:#000000; stroke:none; fill-opacity:1\" cx=\"1029.65\" cy=\"1268.5\" r=\"18\"/>\n",
       "<circle clip-path=\"url(#clip9402)\" style=\"fill:#009af9; stroke:none; fill-opacity:1\" cx=\"1029.65\" cy=\"1268.5\" r=\"14\"/>\n",
       "<circle clip-path=\"url(#clip9402)\" style=\"fill:#000000; stroke:none; fill-opacity:1\" cx=\"1070.69\" cy=\"1142.61\" r=\"18\"/>\n",
       "<circle clip-path=\"url(#clip9402)\" style=\"fill:#009af9; stroke:none; fill-opacity:1\" cx=\"1070.69\" cy=\"1142.61\" r=\"14\"/>\n",
       "<circle clip-path=\"url(#clip9402)\" style=\"fill:#000000; stroke:none; fill-opacity:1\" cx=\"1111.73\" cy=\"996.386\" r=\"18\"/>\n",
       "<circle clip-path=\"url(#clip9402)\" style=\"fill:#009af9; stroke:none; fill-opacity:1\" cx=\"1111.73\" cy=\"996.386\" r=\"14\"/>\n",
       "<circle clip-path=\"url(#clip9402)\" style=\"fill:#000000; stroke:none; fill-opacity:1\" cx=\"1152.78\" cy=\"837.945\" r=\"18\"/>\n",
       "<circle clip-path=\"url(#clip9402)\" style=\"fill:#009af9; stroke:none; fill-opacity:1\" cx=\"1152.78\" cy=\"837.945\" r=\"14\"/>\n",
       "<circle clip-path=\"url(#clip9402)\" style=\"fill:#000000; stroke:none; fill-opacity:1\" cx=\"1193.82\" cy=\"676.071\" r=\"18\"/>\n",
       "<circle clip-path=\"url(#clip9402)\" style=\"fill:#009af9; stroke:none; fill-opacity:1\" cx=\"1193.82\" cy=\"676.071\" r=\"14\"/>\n",
       "<circle clip-path=\"url(#clip9402)\" style=\"fill:#000000; stroke:none; fill-opacity:1\" cx=\"1234.86\" cy=\"519.743\" r=\"18\"/>\n",
       "<circle clip-path=\"url(#clip9402)\" style=\"fill:#009af9; stroke:none; fill-opacity:1\" cx=\"1234.86\" cy=\"519.743\" r=\"14\"/>\n",
       "<circle clip-path=\"url(#clip9402)\" style=\"fill:#000000; stroke:none; fill-opacity:1\" cx=\"1275.9\" cy=\"377.631\" r=\"18\"/>\n",
       "<circle clip-path=\"url(#clip9402)\" style=\"fill:#009af9; stroke:none; fill-opacity:1\" cx=\"1275.9\" cy=\"377.631\" r=\"14\"/>\n",
       "<circle clip-path=\"url(#clip9402)\" style=\"fill:#000000; stroke:none; fill-opacity:1\" cx=\"1316.95\" cy=\"257.615\" r=\"18\"/>\n",
       "<circle clip-path=\"url(#clip9402)\" style=\"fill:#009af9; stroke:none; fill-opacity:1\" cx=\"1316.95\" cy=\"257.615\" r=\"14\"/>\n",
       "<circle clip-path=\"url(#clip9402)\" style=\"fill:#000000; stroke:none; fill-opacity:1\" cx=\"1357.99\" cy=\"166.353\" r=\"18\"/>\n",
       "<circle clip-path=\"url(#clip9402)\" style=\"fill:#009af9; stroke:none; fill-opacity:1\" cx=\"1357.99\" cy=\"166.353\" r=\"14\"/>\n",
       "<circle clip-path=\"url(#clip9402)\" style=\"fill:#000000; stroke:none; fill-opacity:1\" cx=\"1399.03\" cy=\"108.905\" r=\"18\"/>\n",
       "<circle clip-path=\"url(#clip9402)\" style=\"fill:#009af9; stroke:none; fill-opacity:1\" cx=\"1399.03\" cy=\"108.905\" r=\"14\"/>\n",
       "<circle clip-path=\"url(#clip9402)\" style=\"fill:#000000; stroke:none; fill-opacity:1\" cx=\"1440.07\" cy=\"88.4582\" r=\"18\"/>\n",
       "<circle clip-path=\"url(#clip9402)\" style=\"fill:#009af9; stroke:none; fill-opacity:1\" cx=\"1440.07\" cy=\"88.4582\" r=\"14\"/>\n",
       "<circle clip-path=\"url(#clip9402)\" style=\"fill:#000000; stroke:none; fill-opacity:1\" cx=\"1481.12\" cy=\"106.146\" r=\"18\"/>\n",
       "<circle clip-path=\"url(#clip9402)\" style=\"fill:#009af9; stroke:none; fill-opacity:1\" cx=\"1481.12\" cy=\"106.146\" r=\"14\"/>\n",
       "<circle clip-path=\"url(#clip9402)\" style=\"fill:#000000; stroke:none; fill-opacity:1\" cx=\"1522.16\" cy=\"160.988\" r=\"18\"/>\n",
       "<circle clip-path=\"url(#clip9402)\" style=\"fill:#009af9; stroke:none; fill-opacity:1\" cx=\"1522.16\" cy=\"160.988\" r=\"14\"/>\n",
       "<circle clip-path=\"url(#clip9402)\" style=\"fill:#000000; stroke:none; fill-opacity:1\" cx=\"1563.2\" cy=\"249.942\" r=\"18\"/>\n",
       "<circle clip-path=\"url(#clip9402)\" style=\"fill:#009af9; stroke:none; fill-opacity:1\" cx=\"1563.2\" cy=\"249.942\" r=\"14\"/>\n",
       "<circle clip-path=\"url(#clip9402)\" style=\"fill:#000000; stroke:none; fill-opacity:1\" cx=\"1604.24\" cy=\"368.074\" r=\"18\"/>\n",
       "<circle clip-path=\"url(#clip9402)\" style=\"fill:#009af9; stroke:none; fill-opacity:1\" cx=\"1604.24\" cy=\"368.074\" r=\"14\"/>\n",
       "<circle clip-path=\"url(#clip9402)\" style=\"fill:#000000; stroke:none; fill-opacity:1\" cx=\"1645.29\" cy=\"508.834\" r=\"18\"/>\n",
       "<circle clip-path=\"url(#clip9402)\" style=\"fill:#009af9; stroke:none; fill-opacity:1\" cx=\"1645.29\" cy=\"508.834\" r=\"14\"/>\n",
       "<circle clip-path=\"url(#clip9402)\" style=\"fill:#000000; stroke:none; fill-opacity:1\" cx=\"1686.33\" cy=\"664.414\" r=\"18\"/>\n",
       "<circle clip-path=\"url(#clip9402)\" style=\"fill:#009af9; stroke:none; fill-opacity:1\" cx=\"1686.33\" cy=\"664.414\" r=\"14\"/>\n",
       "<circle clip-path=\"url(#clip9402)\" style=\"fill:#000000; stroke:none; fill-opacity:1\" cx=\"1727.37\" cy=\"826.186\" r=\"18\"/>\n",
       "<circle clip-path=\"url(#clip9402)\" style=\"fill:#009af9; stroke:none; fill-opacity:1\" cx=\"1727.37\" cy=\"826.186\" r=\"14\"/>\n",
       "<circle clip-path=\"url(#clip9402)\" style=\"fill:#000000; stroke:none; fill-opacity:1\" cx=\"1768.42\" cy=\"985.178\" r=\"18\"/>\n",
       "<circle clip-path=\"url(#clip9402)\" style=\"fill:#009af9; stroke:none; fill-opacity:1\" cx=\"1768.42\" cy=\"985.178\" r=\"14\"/>\n",
       "<circle clip-path=\"url(#clip9402)\" style=\"fill:#000000; stroke:none; fill-opacity:1\" cx=\"1809.46\" cy=\"1132.57\" r=\"18\"/>\n",
       "<circle clip-path=\"url(#clip9402)\" style=\"fill:#009af9; stroke:none; fill-opacity:1\" cx=\"1809.46\" cy=\"1132.57\" r=\"14\"/>\n",
       "<circle clip-path=\"url(#clip9402)\" style=\"fill:#000000; stroke:none; fill-opacity:1\" cx=\"1850.5\" cy=\"1260.19\" r=\"18\"/>\n",
       "<circle clip-path=\"url(#clip9402)\" style=\"fill:#009af9; stroke:none; fill-opacity:1\" cx=\"1850.5\" cy=\"1260.19\" r=\"14\"/>\n",
       "<circle clip-path=\"url(#clip9402)\" style=\"fill:#000000; stroke:none; fill-opacity:1\" cx=\"1891.54\" cy=\"1360.97\" r=\"18\"/>\n",
       "<circle clip-path=\"url(#clip9402)\" style=\"fill:#009af9; stroke:none; fill-opacity:1\" cx=\"1891.54\" cy=\"1360.97\" r=\"14\"/>\n",
       "<circle clip-path=\"url(#clip9402)\" style=\"fill:#000000; stroke:none; fill-opacity:1\" cx=\"1932.59\" cy=\"1429.3\" r=\"18\"/>\n",
       "<circle clip-path=\"url(#clip9402)\" style=\"fill:#009af9; stroke:none; fill-opacity:1\" cx=\"1932.59\" cy=\"1429.3\" r=\"14\"/>\n",
       "<circle clip-path=\"url(#clip9402)\" style=\"fill:#000000; stroke:none; fill-opacity:1\" cx=\"1973.63\" cy=\"1461.4\" r=\"18\"/>\n",
       "<circle clip-path=\"url(#clip9402)\" style=\"fill:#009af9; stroke:none; fill-opacity:1\" cx=\"1973.63\" cy=\"1461.4\" r=\"14\"/>\n",
       "<circle clip-path=\"url(#clip9402)\" style=\"fill:#000000; stroke:none; fill-opacity:1\" cx=\"2014.67\" cy=\"1455.49\" r=\"18\"/>\n",
       "<circle clip-path=\"url(#clip9402)\" style=\"fill:#009af9; stroke:none; fill-opacity:1\" cx=\"2014.67\" cy=\"1455.49\" r=\"14\"/>\n",
       "<circle clip-path=\"url(#clip9402)\" style=\"fill:#000000; stroke:none; fill-opacity:1\" cx=\"2055.71\" cy=\"1411.91\" r=\"18\"/>\n",
       "<circle clip-path=\"url(#clip9402)\" style=\"fill:#009af9; stroke:none; fill-opacity:1\" cx=\"2055.71\" cy=\"1411.91\" r=\"14\"/>\n",
       "<circle clip-path=\"url(#clip9402)\" style=\"fill:#000000; stroke:none; fill-opacity:1\" cx=\"2096.76\" cy=\"1333.05\" r=\"18\"/>\n",
       "<circle clip-path=\"url(#clip9402)\" style=\"fill:#009af9; stroke:none; fill-opacity:1\" cx=\"2096.76\" cy=\"1333.05\" r=\"14\"/>\n",
       "<circle clip-path=\"url(#clip9402)\" style=\"fill:#000000; stroke:none; fill-opacity:1\" cx=\"2137.8\" cy=\"1223.31\" r=\"18\"/>\n",
       "<circle clip-path=\"url(#clip9402)\" style=\"fill:#009af9; stroke:none; fill-opacity:1\" cx=\"2137.8\" cy=\"1223.31\" r=\"14\"/>\n",
       "<circle clip-path=\"url(#clip9402)\" style=\"fill:#000000; stroke:none; fill-opacity:1\" cx=\"2178.84\" cy=\"1088.76\" r=\"18\"/>\n",
       "<circle clip-path=\"url(#clip9402)\" style=\"fill:#009af9; stroke:none; fill-opacity:1\" cx=\"2178.84\" cy=\"1088.76\" r=\"14\"/>\n",
       "<circle clip-path=\"url(#clip9402)\" style=\"fill:#000000; stroke:none; fill-opacity:1\" cx=\"2219.88\" cy=\"936.869\" r=\"18\"/>\n",
       "<circle clip-path=\"url(#clip9402)\" style=\"fill:#009af9; stroke:none; fill-opacity:1\" cx=\"2219.88\" cy=\"936.869\" r=\"14\"/>\n",
       "<circle clip-path=\"url(#clip9402)\" style=\"fill:#000000; stroke:none; fill-opacity:1\" cx=\"2260.93\" cy=\"776.059\" r=\"18\"/>\n",
       "<circle clip-path=\"url(#clip9402)\" style=\"fill:#009af9; stroke:none; fill-opacity:1\" cx=\"2260.93\" cy=\"776.059\" r=\"14\"/>\n",
       "<polygon clip-path=\"url(#clip9400)\" points=\"\n",
       "1958.43,251.724 2249.26,251.724 2249.26,130.764 1958.43,130.764 \n",
       "  \" fill=\"#ffffff\" fill-rule=\"evenodd\" fill-opacity=\"1\"/>\n",
       "<polyline clip-path=\"url(#clip9400)\" style=\"stroke:#000000; stroke-width:4; stroke-opacity:1; fill:none\" points=\"\n",
       "  1958.43,251.724 2249.26,251.724 2249.26,130.764 1958.43,130.764 1958.43,251.724 \n",
       "  \"/>\n",
       "<polyline clip-path=\"url(#clip9400)\" style=\"stroke:#009af9; stroke-width:4; stroke-opacity:1; fill:none\" points=\"\n",
       "  1982.43,191.244 2126.43,191.244 \n",
       "  \"/>\n",
       "<circle clip-path=\"url(#clip9400)\" style=\"fill:#000000; stroke:none; fill-opacity:1\" cx=\"2066.43\" cy=\"191.244\" r=\"25\"/>\n",
       "<circle clip-path=\"url(#clip9400)\" style=\"fill:#009af9; stroke:none; fill-opacity:1\" cx=\"2066.43\" cy=\"191.244\" r=\"21\"/>\n",
       "<g clip-path=\"url(#clip9400)\">\n",
       "<text style=\"fill:#000000; fill-opacity:1; font-family:Arial,Helvetica Neue,Helvetica,sans-serif; font-size:48px; text-anchor:start;\" transform=\"rotate(0, 2150.43, 208.744)\" x=\"2150.43\" y=\"208.744\">y1</text>\n",
       "</g>\n",
       "</svg>\n"
      ]
     },
     "execution_count": 126,
     "metadata": {},
     "output_type": "execute_result"
    }
   ],
   "source": [
    "plot(x, y, marker=:circle)"
   ]
  },
  {
   "cell_type": "code",
   "execution_count": 127,
   "metadata": {},
   "outputs": [
    {
     "data": {
      "image/svg+xml": [
       "<?xml version=\"1.0\" encoding=\"utf-8\"?>\n",
       "<svg xmlns=\"http://www.w3.org/2000/svg\" xmlns:xlink=\"http://www.w3.org/1999/xlink\" width=\"600\" height=\"400\" viewBox=\"0 0 2400 1600\">\n",
       "<defs>\n",
       "  <clipPath id=\"clip9800\">\n",
       "    <rect x=\"0\" y=\"0\" width=\"2400\" height=\"1600\"/>\n",
       "  </clipPath>\n",
       "</defs>\n",
       "<polygon clip-path=\"url(#clip9800)\" points=\"\n",
       "0,1600 2400,1600 2400,0 0,0 \n",
       "  \" fill=\"#ffffff\" fill-rule=\"evenodd\" fill-opacity=\"1\"/>\n",
       "<defs>\n",
       "  <clipPath id=\"clip9801\">\n",
       "    <rect x=\"480\" y=\"0\" width=\"1681\" height=\"1600\"/>\n",
       "  </clipPath>\n",
       "</defs>\n",
       "<polygon clip-path=\"url(#clip9800)\" points=\"\n",
       "252.496,1440.48 2321.26,1440.48 2321.26,125.984 252.496,125.984 \n",
       "  \" fill=\"#ffffff\" fill-rule=\"evenodd\" fill-opacity=\"1\"/>\n",
       "<defs>\n",
       "  <clipPath id=\"clip9802\">\n",
       "    <rect x=\"252\" y=\"125\" width=\"2070\" height=\"1315\"/>\n",
       "  </clipPath>\n",
       "</defs>\n",
       "<polyline clip-path=\"url(#clip9802)\" style=\"stroke:#000000; stroke-width:2; stroke-opacity:0.1; fill:none\" points=\"\n",
       "  564.15,1440.48 564.15,125.984 \n",
       "  \"/>\n",
       "<polyline clip-path=\"url(#clip9802)\" style=\"stroke:#000000; stroke-width:2; stroke-opacity:0.1; fill:none\" points=\"\n",
       "  985.99,1440.48 985.99,125.984 \n",
       "  \"/>\n",
       "<polyline clip-path=\"url(#clip9802)\" style=\"stroke:#000000; stroke-width:2; stroke-opacity:0.1; fill:none\" points=\"\n",
       "  1407.83,1440.48 1407.83,125.984 \n",
       "  \"/>\n",
       "<polyline clip-path=\"url(#clip9802)\" style=\"stroke:#000000; stroke-width:2; stroke-opacity:0.1; fill:none\" points=\"\n",
       "  1829.67,1440.48 1829.67,125.984 \n",
       "  \"/>\n",
       "<polyline clip-path=\"url(#clip9802)\" style=\"stroke:#000000; stroke-width:2; stroke-opacity:0.1; fill:none\" points=\"\n",
       "  2251.51,1440.48 2251.51,125.984 \n",
       "  \"/>\n",
       "<polyline clip-path=\"url(#clip9802)\" style=\"stroke:#000000; stroke-width:2; stroke-opacity:0.1; fill:none\" points=\"\n",
       "  252.496,1404.57 2321.26,1404.57 \n",
       "  \"/>\n",
       "<polyline clip-path=\"url(#clip9802)\" style=\"stroke:#000000; stroke-width:2; stroke-opacity:0.1; fill:none\" points=\"\n",
       "  252.496,1094.22 2321.26,1094.22 \n",
       "  \"/>\n",
       "<polyline clip-path=\"url(#clip9802)\" style=\"stroke:#000000; stroke-width:2; stroke-opacity:0.1; fill:none\" points=\"\n",
       "  252.496,783.865 2321.26,783.865 \n",
       "  \"/>\n",
       "<polyline clip-path=\"url(#clip9802)\" style=\"stroke:#000000; stroke-width:2; stroke-opacity:0.1; fill:none\" points=\"\n",
       "  252.496,473.515 2321.26,473.515 \n",
       "  \"/>\n",
       "<polyline clip-path=\"url(#clip9802)\" style=\"stroke:#000000; stroke-width:2; stroke-opacity:0.1; fill:none\" points=\"\n",
       "  252.496,163.164 2321.26,163.164 \n",
       "  \"/>\n",
       "<polyline clip-path=\"url(#clip9800)\" style=\"stroke:#000000; stroke-width:4; stroke-opacity:1; fill:none\" points=\"\n",
       "  252.496,1440.48 2321.26,1440.48 \n",
       "  \"/>\n",
       "<polyline clip-path=\"url(#clip9800)\" style=\"stroke:#000000; stroke-width:4; stroke-opacity:1; fill:none\" points=\"\n",
       "  252.496,1440.48 252.496,125.984 \n",
       "  \"/>\n",
       "<polyline clip-path=\"url(#clip9800)\" style=\"stroke:#000000; stroke-width:4; stroke-opacity:1; fill:none\" points=\"\n",
       "  564.15,1440.48 564.15,1420.77 \n",
       "  \"/>\n",
       "<polyline clip-path=\"url(#clip9800)\" style=\"stroke:#000000; stroke-width:4; stroke-opacity:1; fill:none\" points=\"\n",
       "  985.99,1440.48 985.99,1420.77 \n",
       "  \"/>\n",
       "<polyline clip-path=\"url(#clip9800)\" style=\"stroke:#000000; stroke-width:4; stroke-opacity:1; fill:none\" points=\"\n",
       "  1407.83,1440.48 1407.83,1420.77 \n",
       "  \"/>\n",
       "<polyline clip-path=\"url(#clip9800)\" style=\"stroke:#000000; stroke-width:4; stroke-opacity:1; fill:none\" points=\"\n",
       "  1829.67,1440.48 1829.67,1420.77 \n",
       "  \"/>\n",
       "<polyline clip-path=\"url(#clip9800)\" style=\"stroke:#000000; stroke-width:4; stroke-opacity:1; fill:none\" points=\"\n",
       "  2251.51,1440.48 2251.51,1420.77 \n",
       "  \"/>\n",
       "<polyline clip-path=\"url(#clip9800)\" style=\"stroke:#000000; stroke-width:4; stroke-opacity:1; fill:none\" points=\"\n",
       "  252.496,1404.57 283.528,1404.57 \n",
       "  \"/>\n",
       "<polyline clip-path=\"url(#clip9800)\" style=\"stroke:#000000; stroke-width:4; stroke-opacity:1; fill:none\" points=\"\n",
       "  252.496,1094.22 283.528,1094.22 \n",
       "  \"/>\n",
       "<polyline clip-path=\"url(#clip9800)\" style=\"stroke:#000000; stroke-width:4; stroke-opacity:1; fill:none\" points=\"\n",
       "  252.496,783.865 283.528,783.865 \n",
       "  \"/>\n",
       "<polyline clip-path=\"url(#clip9800)\" style=\"stroke:#000000; stroke-width:4; stroke-opacity:1; fill:none\" points=\"\n",
       "  252.496,473.515 283.528,473.515 \n",
       "  \"/>\n",
       "<polyline clip-path=\"url(#clip9800)\" style=\"stroke:#000000; stroke-width:4; stroke-opacity:1; fill:none\" points=\"\n",
       "  252.496,163.164 283.528,163.164 \n",
       "  \"/>\n",
       "<g clip-path=\"url(#clip9800)\">\n",
       "<text style=\"fill:#000000; fill-opacity:1; font-family:Arial,Helvetica Neue,Helvetica,sans-serif; font-size:48px; text-anchor:middle;\" transform=\"rotate(0, 564.15, 1494.48)\" x=\"564.15\" y=\"1494.48\">2.5</text>\n",
       "</g>\n",
       "<g clip-path=\"url(#clip9800)\">\n",
       "<text style=\"fill:#000000; fill-opacity:1; font-family:Arial,Helvetica Neue,Helvetica,sans-serif; font-size:48px; text-anchor:middle;\" transform=\"rotate(0, 985.99, 1494.48)\" x=\"985.99\" y=\"1494.48\">5.0</text>\n",
       "</g>\n",
       "<g clip-path=\"url(#clip9800)\">\n",
       "<text style=\"fill:#000000; fill-opacity:1; font-family:Arial,Helvetica Neue,Helvetica,sans-serif; font-size:48px; text-anchor:middle;\" transform=\"rotate(0, 1407.83, 1494.48)\" x=\"1407.83\" y=\"1494.48\">7.5</text>\n",
       "</g>\n",
       "<g clip-path=\"url(#clip9800)\">\n",
       "<text style=\"fill:#000000; fill-opacity:1; font-family:Arial,Helvetica Neue,Helvetica,sans-serif; font-size:48px; text-anchor:middle;\" transform=\"rotate(0, 1829.67, 1494.48)\" x=\"1829.67\" y=\"1494.48\">10.0</text>\n",
       "</g>\n",
       "<g clip-path=\"url(#clip9800)\">\n",
       "<text style=\"fill:#000000; fill-opacity:1; font-family:Arial,Helvetica Neue,Helvetica,sans-serif; font-size:48px; text-anchor:middle;\" transform=\"rotate(0, 2251.51, 1494.48)\" x=\"2251.51\" y=\"1494.48\">12.5</text>\n",
       "</g>\n",
       "<g clip-path=\"url(#clip9800)\">\n",
       "<text style=\"fill:#000000; fill-opacity:1; font-family:Arial,Helvetica Neue,Helvetica,sans-serif; font-size:48px; text-anchor:end;\" transform=\"rotate(0, 228.496, 1422.07)\" x=\"228.496\" y=\"1422.07\">-1.0</text>\n",
       "</g>\n",
       "<g clip-path=\"url(#clip9800)\">\n",
       "<text style=\"fill:#000000; fill-opacity:1; font-family:Arial,Helvetica Neue,Helvetica,sans-serif; font-size:48px; text-anchor:end;\" transform=\"rotate(0, 228.496, 1111.72)\" x=\"228.496\" y=\"1111.72\">-0.5</text>\n",
       "</g>\n",
       "<g clip-path=\"url(#clip9800)\">\n",
       "<text style=\"fill:#000000; fill-opacity:1; font-family:Arial,Helvetica Neue,Helvetica,sans-serif; font-size:48px; text-anchor:end;\" transform=\"rotate(0, 228.496, 801.365)\" x=\"228.496\" y=\"801.365\">0.0</text>\n",
       "</g>\n",
       "<g clip-path=\"url(#clip9800)\">\n",
       "<text style=\"fill:#000000; fill-opacity:1; font-family:Arial,Helvetica Neue,Helvetica,sans-serif; font-size:48px; text-anchor:end;\" transform=\"rotate(0, 228.496, 491.015)\" x=\"228.496\" y=\"491.015\">0.5</text>\n",
       "</g>\n",
       "<g clip-path=\"url(#clip9800)\">\n",
       "<text style=\"fill:#000000; fill-opacity:1; font-family:Arial,Helvetica Neue,Helvetica,sans-serif; font-size:48px; text-anchor:end;\" transform=\"rotate(0, 228.496, 180.664)\" x=\"228.496\" y=\"180.664\">1.0</text>\n",
       "</g>\n",
       "<g clip-path=\"url(#clip9800)\">\n",
       "<text style=\"fill:#000000; fill-opacity:1; font-family:Arial,Helvetica Neue,Helvetica,sans-serif; font-size:84px; text-anchor:middle;\" transform=\"rotate(0, 1286.88, 73.2)\" x=\"1286.88\" y=\"73.2\">two random variables</text>\n",
       "</g>\n",
       "<g clip-path=\"url(#clip9800)\">\n",
       "<text style=\"fill:#000000; fill-opacity:1; font-family:Arial,Helvetica Neue,Helvetica,sans-serif; font-size:66px; text-anchor:middle;\" transform=\"rotate(0, 1286.88, 1590.4)\" x=\"1286.88\" y=\"1590.4\">time (day)</text>\n",
       "</g>\n",
       "<g clip-path=\"url(#clip9800)\">\n",
       "<text style=\"fill:#000000; fill-opacity:1; font-family:Arial,Helvetica Neue,Helvetica,sans-serif; font-size:66px; text-anchor:middle;\" transform=\"rotate(-90, 130.096, 783.233)\" x=\"130.096\" y=\"783.233\">random displacement (a.u.)</text>\n",
       "</g>\n",
       "<polyline clip-path=\"url(#clip9802)\" style=\"stroke:#009af9; stroke-width:12; stroke-opacity:1; fill:none\" points=\"\n",
       "  311.046,261.563 350.876,197.617 390.706,166.185 430.536,169.01 470.366,205.935 510.196,274.912 550.025,372.116 589.855,492.156 629.685,628.374 669.515,773.216 \n",
       "  709.345,918.649 749.175,1056.61 789.005,1179.44 828.835,1280.33 868.664,1353.69 908.494,1395.44 948.324,1403.28 988.154,1376.76 1027.98,1317.36 1067.81,1228.38 \n",
       "  1107.64,1114.74 1147.47,982.748 1187.3,839.728 1227.13,693.609 1266.96,552.496 1306.79,424.215 1346.62,315.88 1386.45,233.5 1426.28,181.644 1466.11,163.187 \n",
       "  1505.94,179.153 1545.77,228.657 1585.6,308.954 1625.43,415.589 1665.26,542.648 1705.09,683.086 1744.92,829.114 1784.75,972.631 1824.58,1105.68 1864.41,1220.88 \n",
       "  1904.24,1311.84 1944.07,1373.52 1983.9,1402.5 2023.73,1397.17 2063.56,1357.83 2103.39,1286.65 2143.22,1187.59 2183.05,1066.13 2222.88,929.024 2262.71,783.865 \n",
       "  \n",
       "  \"/>\n",
       "<polygon clip-path=\"url(#clip9800)\" points=\"\n",
       "1947.74,330.464 2249.26,330.464 2249.26,209.504 1947.74,209.504 \n",
       "  \" fill=\"#ffffff\" fill-rule=\"evenodd\" fill-opacity=\"1\"/>\n",
       "<polyline clip-path=\"url(#clip9800)\" style=\"stroke:#000000; stroke-width:4; stroke-opacity:1; fill:none\" points=\"\n",
       "  1947.74,330.464 2249.26,330.464 2249.26,209.504 1947.74,209.504 1947.74,330.464 \n",
       "  \"/>\n",
       "<polyline clip-path=\"url(#clip9800)\" style=\"stroke:#009af9; stroke-width:12; stroke-opacity:1; fill:none\" points=\"\n",
       "  1971.74,269.984 2115.74,269.984 \n",
       "  \"/>\n",
       "<g clip-path=\"url(#clip9800)\">\n",
       "<text style=\"fill:#000000; fill-opacity:1; font-family:Arial,Helvetica Neue,Helvetica,sans-serif; font-size:48px; text-anchor:start;\" transform=\"rotate(0, 2139.74, 287.484)\" x=\"2139.74\" y=\"287.484\">sin</text>\n",
       "</g>\n",
       "</svg>\n"
      ]
     },
     "execution_count": 127,
     "metadata": {},
     "output_type": "execute_result"
    }
   ],
   "source": [
    "p = plot(x, y, title=\"two random variables\", label=[\"sin\"], lw=3)\n",
    "xlabel!(\"time (day)\")\n",
    "ylabel!(\"random displacement (a.u.)\")"
   ]
  },
  {
   "cell_type": "code",
   "execution_count": 128,
   "metadata": {},
   "outputs": [],
   "source": [
    "savefig(p, \"myplot.png\")"
   ]
  },
  {
   "cell_type": "code",
   "execution_count": null,
   "metadata": {},
   "outputs": [],
   "source": []
  }
 ],
 "metadata": {
  "kernelspec": {
   "display_name": "Julia 1.1.0",
   "language": "julia",
   "name": "julia-1.1"
  },
  "language_info": {
   "file_extension": ".jl",
   "mimetype": "application/julia",
   "name": "julia",
   "version": "1.1.0"
  }
 },
 "nbformat": 4,
 "nbformat_minor": 2
}
