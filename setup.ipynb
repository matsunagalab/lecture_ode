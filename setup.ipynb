{
 "cells": [
  {
   "cell_type": "markdown",
   "metadata": {},
   "source": [
    "# Introduction"
   ]
  },
  {
   "cell_type": "markdown",
   "metadata": {},
   "source": [
    "## Julia(とPython)の環境のセットアップ\n",
    "\n",
    "ハンズオン形式で情報を共有しながら行うために、JuliaとPythonのプログラミング環境を整えた上で、Jupyter notebookを使えるようにセットアップする。\n",
    "セットアップのながれは以下：\n",
    "\n",
    "1. Python(Anaconda)のインストール\n",
    "1. Juliaのインストール\n",
    "1. Jupyter Labのインストール"
   ]
  },
  {
   "cell_type": "markdown",
   "metadata": {},
   "source": [
    "### 1. Python(Anaconda)のインストール\n",
    "\n",
    "https://www.anaconda.com/distribution/ からPython version >= 3 版をダウンロードしてインストール\n",
    "\n",
    "anacondaのpythonが使えるようになったかを確認\n",
    "Anacondaのパッケージングコマンド ```conda``` が使えるようになったかを確認\n",
    "\n",
    "### 2. Juliaのインストール\n",
    "\n",
    "https://julialang.org/downloads/ からCurrent stable release版をダウンロードしてインストール\n",
    "\n",
    "MACやLinuxの場合、シンボリックリンクなどを作ると便利\n",
    "\n",
    "```\n",
    "$ ln -sf /Applications/Julia-1.1.app/Contents/Resources/julia/bin/julia /usr/local/bin/julia\n",
    "```\n",
    "\n",
    "juliaが起動できるようになったことを確認する\n",
    "\n",
    "更に、Jupyter Lab内でjuliaが使えるようにするために、IJuliaというJupyter Labとjuliaのインタフェースをいれる。\n",
    "これはjuliaを起動して、julia内のパッケージシステムでいれる。\n",
    "\n",
    "```\n",
    "$ julia\n",
    "...\n",
    "julia> using Pkg\n",
    "julia > Pkg.add(\"IJulia\")\n",
    "julia > Pkg.status()\n",
    "julia > using IJulia\n",
    "```\n",
    "\n",
    "同様に、 BenchmarkTooks.jl と Plots と DifferentialEquations.jl をインストール\n",
    "\n",
    "### 3. Jupyter Labのインストール\n",
    "\n",
    "Anacondaがインストールしてあれば、既にJupyter Labがインストールされている確率が高い。以下で起動できるか確かめてみる\n",
    "\n",
    "```\n",
    "$ jupyter-lab\n",
    "```\n",
    "\n",
    "もしインストールされていなければ、 ```conda``` でインストールする\n",
    "\n",
    "\n",
    "```\n",
    "$ conda install jupyterlab\n",
    "```\n",
    "\n",
    "ブラウザを立ち上げてJupyter Labが使えるか確認する\n"
   ]
  }
 ],
 "metadata": {
  "kernelspec": {
   "display_name": "Julia 1.1.0",
   "language": "julia",
   "name": "julia-1.1"
  },
  "language_info": {
   "file_extension": ".jl",
   "mimetype": "application/julia",
   "name": "julia",
   "version": "1.1.0"
  }
 },
 "nbformat": 4,
 "nbformat_minor": 2
}
