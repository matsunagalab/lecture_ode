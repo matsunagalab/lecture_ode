{
 "cells": [
  {
   "cell_type": "markdown",
   "metadata": {},
   "source": [
    "## Lang-Kobayashi の steady-state solutions\n"
   ]
  },
  {
   "cell_type": "markdown",
   "metadata": {},
   "source": [
    "### Equations\n",
    "\n",
    "\\begin{equation}\n",
    "\\left(\\omega_{s}-\\omega_{1}\\right)\\left(\\omega_{s}-\\omega_{2}\\right)=\\kappa^{2}\\left(1+\\alpha^{2}\\right) \\sin ^{2}\\left[\\omega_{s} \\tau+\\tan ^{-1} \\alpha\\right]\n",
    "\\end{equation}\n",
    "\n",
    "\\begin{equation}\n",
    "\\begin{aligned} N_{s 1, s 2}-N_{t h}=& \\frac{2 \\kappa^{2} \\tau_{s} \\sqrt{1+\\alpha^{2}} \\cos \\left[\\omega_{s} \\tau\\right] \\sin \\left[\\omega_{s} \\tau+\\tan ^{-1} \\alpha\\right]}{\\left(G_{N} \\tau_{s}+\\epsilon\\right)\\left(\\omega_{s}-\\omega_{2,1}\\right)} +\\frac{\\epsilon N_{t h}(j-1)}{G_{N} \\tau_{s}+\\epsilon} \\end{aligned}\n",
    "\\end{equation}\n",
    "\n"
   ]
  },
  {
   "cell_type": "code",
   "execution_count": 3,
   "metadata": {},
   "outputs": [],
   "source": [
    "using NLsolve\n",
    "using ForwardDiff\n",
    "using LinearAlgebra\n",
    "using Plots"
   ]
  },
  {
   "cell_type": "markdown",
   "metadata": {},
   "source": [
    "#### How to use NLsolve"
   ]
  },
  {
   "cell_type": "code",
   "execution_count": 4,
   "metadata": {},
   "outputs": [
    {
     "data": {
      "text/plain": [
       "test_func! (generic function with 1 method)"
      ]
     },
     "execution_count": 4,
     "metadata": {},
     "output_type": "execute_result"
    }
   ],
   "source": [
    "function test_func!(F, x)\n",
    "    F[1] = x[1]^2 - 1.0\n",
    "    F[2] = x[2]^2 - 4.0\n",
    "end"
   ]
  },
  {
   "cell_type": "code",
   "execution_count": 5,
   "metadata": {},
   "outputs": [
    {
     "data": {
      "text/plain": [
       "Results of Nonlinear Solver Algorithm\n",
       " * Algorithm: Trust-region with dogleg and autoscaling\n",
       " * Starting Point: [10.0, 10.0]\n",
       " * Zero: [1.0, 2.0]\n",
       " * Inf-norm of residuals: 0.000000\n",
       " * Iterations: 7\n",
       " * Convergence: true\n",
       "   * |x - x'| < 0.0e+00: false\n",
       "   * |f(x)| < 1.0e-08: true\n",
       " * Function Calls (f): 8\n",
       " * Jacobian Calls (df/dx): 8"
      ]
     },
     "execution_count": 5,
     "metadata": {},
     "output_type": "execute_result"
    }
   ],
   "source": [
    "initial_x = [10.0, 10.0]\n",
    "sol = nlsolve(test_func!, initial_x, autodiff = :forward)"
   ]
  },
  {
   "cell_type": "code",
   "execution_count": 6,
   "metadata": {},
   "outputs": [
    {
     "name": "stdout",
     "output_type": "stream",
     "text": [
      "[1.0, 2.0]\n"
     ]
    }
   ],
   "source": [
    "if converged(sol)\n",
    "    println(sol.zero)\n",
    "end"
   ]
  },
  {
   "cell_type": "markdown",
   "metadata": {},
   "source": [
    "#### Lang-Kobayashi"
   ]
  },
  {
   "cell_type": "code",
   "execution_count": 9,
   "metadata": {},
   "outputs": [
    {
     "data": {
      "text/plain": [
       "f! (generic function with 1 method)"
      ]
     },
     "execution_count": 9,
     "metadata": {},
     "output_type": "execute_result"
    }
   ],
   "source": [
    "function f!(F, x)\n",
    "    tau = 5.0 # ns\n",
    "    tau_s = 2.04 # ns\n",
    "    kappa = 31.06 # ns^(-1)\n",
    "    alpha = 3.0\n",
    "    j = 1.1\n",
    "    G_N = 840.0 # (10^(-8)m)^3 ns^(-1)\n",
    "    epsilon = 20.0 # (10^(-8)m)^3\n",
    "    N_th = 1.40 + (1.0/(840.0 + 0.001927)) # (10^(-8)m)^(-3)\n",
    "    omega_1 = 2.0 * 2.0 * pi + 1.0\n",
    "    omega_2 = 1.0\n",
    "\n",
    "    F[1] = (x[1] - omega_1)*(x[1] - omega_2) - kappa^2 * (1.0 + alpha^2) * sin(x[1] * tau + atan(alpha))^2\n",
    "\n",
    "    denominator1 = (G_N * tau_s + epsilon) * ( x[1] - omega_2)\n",
    "    denominator2 = (G_N * tau_s + epsilon)\n",
    "    F[2] = x[2] - N_th \n",
    "         - 2.0 * kappa^2 * tau_s * sqrt(1.0 + alpha^2) * cos(x[1] * tau) * sin(x[1] * tau + atan(alpha)) / denominator1 \n",
    "         - epsilon * N_th * (j - 1) / denominator2\n",
    "    \n",
    "    denominator1 = (G_N * tau_s + epsilon) * ( x[1] - omega_1)\n",
    "    denominator2 = (G_N * tau_s + epsilon)\n",
    "    F[3] = x[3] - N_th \n",
    "         - 2.0 * kappa^2 * tau_s * sqrt(1.0 + alpha^2) * cos(x[1] * tau) * sin(x[1] * tau + atan(alpha)) / denominator1 \n",
    "         - epsilon * N_th * (j - 1) / denominator2\n",
    "end"
   ]
  },
  {
   "cell_type": "code",
   "execution_count": 10,
   "metadata": {},
   "outputs": [
    {
     "data": {
      "text/plain": [
       "3-element Array{Float64,1}:\n",
       " 0.0\n",
       " 0.0\n",
       " 0.0"
      ]
     },
     "execution_count": 10,
     "metadata": {},
     "output_type": "execute_result"
    }
   ],
   "source": [
    "F = zeros(3)"
   ]
  },
  {
   "cell_type": "code",
   "execution_count": 11,
   "metadata": {},
   "outputs": [
    {
     "data": {
      "text/plain": [
       "-0.001616509544830958"
      ]
     },
     "execution_count": 11,
     "metadata": {},
     "output_type": "execute_result"
    }
   ],
   "source": [
    "f!(F, [1.0, 1.0, 1.0])"
   ]
  },
  {
   "cell_type": "code",
   "execution_count": null,
   "metadata": {},
   "outputs": [],
   "source": []
  }
 ],
 "metadata": {
  "kernelspec": {
   "display_name": "Julia 1.1.1",
   "language": "julia",
   "name": "julia-1.1"
  },
  "language_info": {
   "file_extension": ".jl",
   "mimetype": "application/julia",
   "name": "julia",
   "version": "1.1.0"
  }
 },
 "nbformat": 4,
 "nbformat_minor": 4
}
